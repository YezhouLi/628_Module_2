{
 "cells": [
  {
   "cell_type": "markdown",
   "metadata": {},
   "source": [
    "## 1. Load Data"
   ]
  },
  {
   "cell_type": "code",
   "execution_count": 1,
   "metadata": {},
   "outputs": [],
   "source": [
    "## assume working directory is the one that current juno is in\n",
    "set.seed(1)\n",
    "dt.path = \"Data/BodyFat.csv\"\n",
    "dt.fat = read.csv(dt.path)\n",
    "body.fat = subset(dt.fat, select = c(-IDNO, -DENSITY))"
   ]
  },
  {
   "cell_type": "markdown",
   "metadata": {},
   "source": [
    "## 2. Data Description"
   ]
  },
  {
   "cell_type": "code",
   "execution_count": 2,
   "metadata": {},
   "outputs": [
    {
     "data": {
      "text/plain": [
       "      IDNO           BODYFAT         DENSITY           AGE       \n",
       " Min.   :  1.00   Min.   : 0.00   Min.   :0.995   Min.   :22.00  \n",
       " 1st Qu.: 63.75   1st Qu.:12.80   1st Qu.:1.041   1st Qu.:35.75  \n",
       " Median :126.50   Median :19.00   Median :1.055   Median :43.00  \n",
       " Mean   :126.50   Mean   :18.94   Mean   :1.056   Mean   :44.88  \n",
       " 3rd Qu.:189.25   3rd Qu.:24.60   3rd Qu.:1.070   3rd Qu.:54.00  \n",
       " Max.   :252.00   Max.   :45.10   Max.   :1.109   Max.   :81.00  \n",
       "     WEIGHT          HEIGHT        ADIPOSITY          NECK      \n",
       " Min.   :118.5   Min.   :29.50   Min.   :18.10   Min.   :31.10  \n",
       " 1st Qu.:159.0   1st Qu.:68.25   1st Qu.:23.10   1st Qu.:36.40  \n",
       " Median :176.5   Median :70.00   Median :25.05   Median :38.00  \n",
       " Mean   :178.9   Mean   :70.15   Mean   :25.44   Mean   :37.99  \n",
       " 3rd Qu.:197.0   3rd Qu.:72.25   3rd Qu.:27.32   3rd Qu.:39.42  \n",
       " Max.   :363.1   Max.   :77.75   Max.   :48.90   Max.   :51.20  \n",
       "     CHEST           ABDOMEN            HIP            THIGH      \n",
       " Min.   : 79.30   Min.   : 69.40   Min.   : 85.0   Min.   :47.20  \n",
       " 1st Qu.: 94.35   1st Qu.: 84.58   1st Qu.: 95.5   1st Qu.:56.00  \n",
       " Median : 99.65   Median : 90.95   Median : 99.3   Median :59.00  \n",
       " Mean   :100.82   Mean   : 92.56   Mean   : 99.9   Mean   :59.41  \n",
       " 3rd Qu.:105.38   3rd Qu.: 99.33   3rd Qu.:103.5   3rd Qu.:62.35  \n",
       " Max.   :136.20   Max.   :148.10   Max.   :147.7   Max.   :87.30  \n",
       "      KNEE           ANKLE          BICEPS         FOREARM          WRIST      \n",
       " Min.   :33.00   Min.   :19.1   Min.   :24.80   Min.   :21.00   Min.   :15.80  \n",
       " 1st Qu.:36.98   1st Qu.:22.0   1st Qu.:30.20   1st Qu.:27.30   1st Qu.:17.60  \n",
       " Median :38.50   Median :22.8   Median :32.05   Median :28.70   Median :18.30  \n",
       " Mean   :38.59   Mean   :23.1   Mean   :32.27   Mean   :28.66   Mean   :18.23  \n",
       " 3rd Qu.:39.92   3rd Qu.:24.0   3rd Qu.:34.33   3rd Qu.:30.00   3rd Qu.:18.80  \n",
       " Max.   :49.10   Max.   :33.9   Max.   :45.00   Max.   :34.90   Max.   :21.40  "
      ]
     },
     "metadata": {},
     "output_type": "display_data"
    }
   ],
   "source": [
    "summary(dt.fat)"
   ]
  },
  {
   "cell_type": "code",
   "execution_count": 3,
   "metadata": {},
   "outputs": [
    {
     "name": "stdout",
     "output_type": "stream",
     "text": [
      "'data.frame':\t252 obs. of  17 variables:\n",
      " $ IDNO     : int  1 2 3 4 5 6 7 8 9 10 ...\n",
      " $ BODYFAT  : num  12.6 6.9 24.6 10.9 27.8 20.6 19 12.8 5.1 12 ...\n",
      " $ DENSITY  : num  1.07 1.09 1.04 1.08 1.03 ...\n",
      " $ AGE      : int  23 22 22 26 24 24 26 25 25 23 ...\n",
      " $ WEIGHT   : num  154 173 154 185 184 ...\n",
      " $ HEIGHT   : num  67.8 72.2 66.2 72.2 71.2 ...\n",
      " $ ADIPOSITY: num  23.7 23.4 24.7 24.9 25.6 26.5 26.2 23.6 24.6 25.8 ...\n",
      " $ NECK     : num  36.2 38.5 34 37.4 34.4 39 36.4 37.8 38.1 42.1 ...\n",
      " $ CHEST    : num  93.1 93.6 95.8 101.8 97.3 ...\n",
      " $ ABDOMEN  : num  85.2 83 87.9 86.4 100 94.4 90.7 88.5 82.5 88.6 ...\n",
      " $ HIP      : num  94.5 98.7 99.2 101.2 101.9 ...\n",
      " $ THIGH    : num  59 58.7 59.6 60.1 63.2 66 58.4 60 62.9 63.1 ...\n",
      " $ KNEE     : num  37.3 37.3 38.9 37.3 42.2 42 38.3 39.4 38.3 41.7 ...\n",
      " $ ANKLE    : num  21.9 23.4 24 22.8 24 25.6 22.9 23.2 23.8 25 ...\n",
      " $ BICEPS   : num  32 30.5 28.8 32.4 32.2 35.7 31.9 30.5 35.9 35.6 ...\n",
      " $ FOREARM  : num  27.4 28.9 25.2 29.4 27.7 30.6 27.8 29 31.1 30 ...\n",
      " $ WRIST    : num  17.1 18.2 16.6 18.2 17.7 18.8 17.7 18.8 18.2 19.2 ...\n"
     ]
    }
   ],
   "source": [
    "str(dt.fat)"
   ]
  },
  {
   "cell_type": "code",
   "execution_count": 4,
   "metadata": {},
   "outputs": [
    {
     "data": {
      "image/png": "[encoded data removed]",
      "text/plain": [
       "Plot with title \"Histogram of Adiposity\""
      ]
     },
     "metadata": {},
     "output_type": "display_data"
    }
   ],
   "source": [
    "par(mfrow=c(2,3))\n",
    "hist(dt.fat$BODYFAT,breaks = 20, \n",
    "     main = \"Histogram of Bodyfat\",xlab=\"Bodyfat %\")\n",
    "hist(dt.fat$DENSITY,breaks = 20, \n",
    "     main = \"Histogram of Density\",xlab=\"Density\")\n",
    "hist(dt.fat$AGE,breaks = 20, \n",
    "     main = \"Histogram of Age\",xlab=\"Age\")\n",
    "hist(dt.fat$WEIGHT,breaks = 20, \n",
    "     main = \"Histogram of Weight\",xlab=\"Weight\")\n",
    "hist(dt.fat$HEIGHT,breaks = 20, \n",
    "     main = \"Histogram of Height\",xlab=\"Height\")\n",
    "hist(dt.fat$ADIPOSITY,breaks = 20, \n",
    "     main = \"Histogram of Adiposity\",xlab=\"Adiposity\")"
   ]
  },
  {
   "cell_type": "markdown",
   "metadata": {},
   "source": [
    "## 3. Data Cleaning"
   ]
  },
  {
   "cell_type": "markdown",
   "metadata": {},
   "source": [
    "Given Siri's equation, we know that\n",
    "$$B = \\frac{495}{D} - 450\\ ,\\ where$$\n",
    "* B = proportion of fat tissue * 100 = BODYFAT\n",
    "* D = Body Density = DENSITY\n",
    "\n",
    "This formula can be used to find outliers in data. \n",
    "The points which bodtfats are not equal to the bodyfat computed by density may be wrong points.\n",
    "Then we choose top points in terms of the difference between recorded bodyfat and the bodyfat computed by density."
   ]
  },
  {
   "cell_type": "code",
   "execution_count": 5,
   "metadata": {},
   "outputs": [
    {
     "data": {
      "text/html": [
       "<table>\n",
       "<thead><tr><th scope=col>id</th><th scope=col>diff</th></tr></thead>\n",
       "<tbody>\n",
       "\t<tr><td> 96      </td><td>16.931517</td></tr>\n",
       "\t<tr><td> 48      </td><td> 7.735021</td></tr>\n",
       "\t<tr><td> 76      </td><td> 4.208494</td></tr>\n",
       "\t<tr><td>182      </td><td> 3.611687</td></tr>\n",
       "\t<tr><td>216      </td><td> 2.387437</td></tr>\n",
       "\t<tr><td> 36      </td><td> 1.850490</td></tr>\n",
       "\t<tr><td>192      </td><td> 1.665680</td></tr>\n",
       "\t<tr><td> 33      </td><td> 1.603191</td></tr>\n",
       "\t<tr><td>169      </td><td> 1.547544</td></tr>\n",
       "\t<tr><td>205      </td><td> 1.466294</td></tr>\n",
       "</tbody>\n",
       "</table>\n"
      ],
      "text/latex": [
       "\\begin{tabular}{ll}\n",
       " id & diff\\\\\n",
       "\\hline\n",
       "\t  96       & 16.931517\\\\\n",
       "\t  48       &  7.735021\\\\\n",
       "\t  76       &  4.208494\\\\\n",
       "\t 182       &  3.611687\\\\\n",
       "\t 216       &  2.387437\\\\\n",
       "\t  36       &  1.850490\\\\\n",
       "\t 192       &  1.665680\\\\\n",
       "\t  33       &  1.603191\\\\\n",
       "\t 169       &  1.547544\\\\\n",
       "\t 205       &  1.466294\\\\\n",
       "\\end{tabular}\n"
      ],
      "text/markdown": [
       "\n",
       "| id | diff |\n",
       "|---|---|\n",
       "|  96       | 16.931517 |\n",
       "|  48       |  7.735021 |\n",
       "|  76       |  4.208494 |\n",
       "| 182       |  3.611687 |\n",
       "| 216       |  2.387437 |\n",
       "|  36       |  1.850490 |\n",
       "| 192       |  1.665680 |\n",
       "|  33       |  1.603191 |\n",
       "| 169       |  1.547544 |\n",
       "| 205       |  1.466294 |\n",
       "\n"
      ],
      "text/plain": [
       "      id  diff     \n",
       " [1,]  96 16.931517\n",
       " [2,]  48  7.735021\n",
       " [3,]  76  4.208494\n",
       " [4,] 182  3.611687\n",
       " [5,] 216  2.387437\n",
       " [6,]  36  1.850490\n",
       " [7,] 192  1.665680\n",
       " [8,]  33  1.603191\n",
       " [9,] 169  1.547544\n",
       "[10,] 205  1.466294"
      ]
     },
     "metadata": {},
     "output_type": "display_data"
    },
    {
     "data": {
      "image/png": "[encoded data removed]",
      "text/plain": [
       "plot without title"
      ]
     },
     "metadata": {},
     "output_type": "display_data"
    }
   ],
   "source": [
    "plot(dt.fat$BODYFAT ~ 1/dt.fat$DENSITY)\n",
    "id<-as.vector(dt.fat$IDNO)\n",
    "bodyf<-as.vector(dt.fat$BODYFAT)\n",
    "den<-as.vector(dt.fat$DENSITY)\n",
    "diff<-abs(bodyf -(495/den-450))\n",
    "ab<-cbind(id,diff)\n",
    "ab[order(ab[,2],decreasing = T),][1:10,]"
   ]
  },
  {
   "cell_type": "code",
   "execution_count": 6,
   "metadata": {},
   "outputs": [
    {
     "data": {
      "text/html": [
       "<table>\n",
       "<thead><tr><th></th><th scope=col>BODYFAT</th><th scope=col>DENSITY</th><th scope=col>AGE</th><th scope=col>WEIGHT</th><th scope=col>HEIGHT</th><th scope=col>ADIPOSITY</th><th scope=col>NECK</th><th scope=col>CHEST</th><th scope=col>ABDOMEN</th><th scope=col>HIP</th><th scope=col>THIGH</th><th scope=col>KNEE</th><th scope=col>ANKLE</th><th scope=col>BICEPS</th><th scope=col>FOREARM</th><th scope=col>WRIST</th></tr></thead>\n",
       "<tbody>\n",
       "\t<tr><th scope=row>182</th><td> 0.00 </td><td>1.1089</td><td>40.00 </td><td>118.50</td><td>68.00 </td><td>18.10 </td><td>33.80 </td><td> 79.30</td><td>69.40 </td><td> 85.0 </td><td>47.20 </td><td>33.50 </td><td>20.2  </td><td>27.70 </td><td>24.60 </td><td>16.50 </td></tr>\n",
       "\t<tr><th scope=row>96</th><td>17.30 </td><td>1.0991</td><td>53.00 </td><td>224.50</td><td>77.75 </td><td>26.10 </td><td>41.10 </td><td>113.20</td><td>99.20 </td><td>107.5 </td><td>61.70 </td><td>42.30 </td><td>23.2  </td><td>32.90 </td><td>30.80 </td><td>20.40 </td></tr>\n",
       "\t<tr><th scope=row>48</th><td> 6.40 </td><td>1.0665</td><td>39.00 </td><td>148.50</td><td>71.25 </td><td>20.60 </td><td>34.60 </td><td> 89.80</td><td>79.50 </td><td> 92.7 </td><td>52.70 </td><td>37.50 </td><td>21.9  </td><td>28.80 </td><td>26.80 </td><td>17.90 </td></tr>\n",
       "\t<tr><th scope=row>54 (compared with 48)</th><td> 7.10 </td><td>1.0848</td><td>49.00 </td><td>152.75</td><td>73.50 </td><td>19.90 </td><td>35.10 </td><td> 93.30</td><td>79.60 </td><td> 91.6 </td><td>52.60 </td><td>37.60 </td><td>22.6  </td><td>38.50 </td><td>27.40 </td><td>18.50 </td></tr>\n",
       "\t<tr><th scope=row>76</th><td>18.30 </td><td>1.0666</td><td>61.00 </td><td>148.25</td><td>67.50 </td><td>22.90 </td><td>36.00 </td><td> 91.60</td><td>81.80 </td><td> 94.8 </td><td>54.50 </td><td>37.00 </td><td>21.4  </td><td>29.30 </td><td>27.00 </td><td>18.30 </td></tr>\n",
       "\t<tr><th scope=row>124 (compared with 76)</th><td>16.00 </td><td>1.0623</td><td>47.00 </td><td>151.50</td><td>66.75 </td><td>23.90 </td><td>36.90 </td><td> 94.00</td><td>86.10 </td><td> 95.2 </td><td>58.10 </td><td>36.50 </td><td>22.1  </td><td>30.60 </td><td>27.50 </td><td>17.60 </td></tr>\n",
       "\t<tr><th scope=row> Sample Mean</th><td>18.94 </td><td>1.0600</td><td>44.88 </td><td>178.92</td><td>70.15 </td><td>25.44 </td><td>37.99 </td><td>100.82</td><td>92.56 </td><td> 99.9 </td><td>59.41 </td><td>38.59 </td><td>23.1  </td><td>32.27 </td><td>28.66 </td><td>18.23 </td></tr>\n",
       "</tbody>\n",
       "</table>\n"
      ],
      "text/latex": [
       "\\begin{tabular}{r|llllllllllllllll}\n",
       "  & BODYFAT & DENSITY & AGE & WEIGHT & HEIGHT & ADIPOSITY & NECK & CHEST & ABDOMEN & HIP & THIGH & KNEE & ANKLE & BICEPS & FOREARM & WRIST\\\\\n",
       "\\hline\n",
       "\t182 &  0.00  & 1.1089 & 40.00  & 118.50 & 68.00  & 18.10  & 33.80  &  79.30 & 69.40  &  85.0  & 47.20  & 33.50  & 20.2   & 27.70  & 24.60  & 16.50 \\\\\n",
       "\t96 & 17.30  & 1.0991 & 53.00  & 224.50 & 77.75  & 26.10  & 41.10  & 113.20 & 99.20  & 107.5  & 61.70  & 42.30  & 23.2   & 32.90  & 30.80  & 20.40 \\\\\n",
       "\t48 &  6.40  & 1.0665 & 39.00  & 148.50 & 71.25  & 20.60  & 34.60  &  89.80 & 79.50  &  92.7  & 52.70  & 37.50  & 21.9   & 28.80  & 26.80  & 17.90 \\\\\n",
       "\t54 (compared with 48) &  7.10  & 1.0848 & 49.00  & 152.75 & 73.50  & 19.90  & 35.10  &  93.30 & 79.60  &  91.6  & 52.60  & 37.60  & 22.6   & 38.50  & 27.40  & 18.50 \\\\\n",
       "\t76 & 18.30  & 1.0666 & 61.00  & 148.25 & 67.50  & 22.90  & 36.00  &  91.60 & 81.80  &  94.8  & 54.50  & 37.00  & 21.4   & 29.30  & 27.00  & 18.30 \\\\\n",
       "\t124 (compared with 76) & 16.00  & 1.0623 & 47.00  & 151.50 & 66.75  & 23.90  & 36.90  &  94.00 & 86.10  &  95.2  & 58.10  & 36.50  & 22.1   & 30.60  & 27.50  & 17.60 \\\\\n",
       "\t Sample Mean & 18.94  & 1.0600 & 44.88  & 178.92 & 70.15  & 25.44  & 37.99  & 100.82 & 92.56  &  99.9  & 59.41  & 38.59  & 23.1   & 32.27  & 28.66  & 18.23 \\\\\n",
       "\\end{tabular}\n"
      ],
      "text/markdown": [
       "\n",
       "| <!--/--> | BODYFAT | DENSITY | AGE | WEIGHT | HEIGHT | ADIPOSITY | NECK | CHEST | ABDOMEN | HIP | THIGH | KNEE | ANKLE | BICEPS | FOREARM | WRIST |\n",
       "|---|---|---|---|---|---|---|---|---|---|---|---|---|---|---|---|---|\n",
       "| 182 |  0.00  | 1.1089 | 40.00  | 118.50 | 68.00  | 18.10  | 33.80  |  79.30 | 69.40  |  85.0  | 47.20  | 33.50  | 20.2   | 27.70  | 24.60  | 16.50  |\n",
       "| 96 | 17.30  | 1.0991 | 53.00  | 224.50 | 77.75  | 26.10  | 41.10  | 113.20 | 99.20  | 107.5  | 61.70  | 42.30  | 23.2   | 32.90  | 30.80  | 20.40  |\n",
       "| 48 |  6.40  | 1.0665 | 39.00  | 148.50 | 71.25  | 20.60  | 34.60  |  89.80 | 79.50  |  92.7  | 52.70  | 37.50  | 21.9   | 28.80  | 26.80  | 17.90  |\n",
       "| 54 (compared with 48) |  7.10  | 1.0848 | 49.00  | 152.75 | 73.50  | 19.90  | 35.10  |  93.30 | 79.60  |  91.6  | 52.60  | 37.60  | 22.6   | 38.50  | 27.40  | 18.50  |\n",
       "| 76 | 18.30  | 1.0666 | 61.00  | 148.25 | 67.50  | 22.90  | 36.00  |  91.60 | 81.80  |  94.8  | 54.50  | 37.00  | 21.4   | 29.30  | 27.00  | 18.30  |\n",
       "| 124 (compared with 76) | 16.00  | 1.0623 | 47.00  | 151.50 | 66.75  | 23.90  | 36.90  |  94.00 | 86.10  |  95.2  | 58.10  | 36.50  | 22.1   | 30.60  | 27.50  | 17.60  |\n",
       "|  Sample Mean | 18.94  | 1.0600 | 44.88  | 178.92 | 70.15  | 25.44  | 37.99  | 100.82 | 92.56  |  99.9  | 59.41  | 38.59  | 23.1   | 32.27  | 28.66  | 18.23  |\n",
       "\n"
      ],
      "text/plain": [
       "                       BODYFAT DENSITY AGE   WEIGHT HEIGHT ADIPOSITY NECK \n",
       "182                     0.00   1.1089  40.00 118.50 68.00  18.10     33.80\n",
       "96                     17.30   1.0991  53.00 224.50 77.75  26.10     41.10\n",
       "48                      6.40   1.0665  39.00 148.50 71.25  20.60     34.60\n",
       "54 (compared with 48)   7.10   1.0848  49.00 152.75 73.50  19.90     35.10\n",
       "76                     18.30   1.0666  61.00 148.25 67.50  22.90     36.00\n",
       "124 (compared with 76) 16.00   1.0623  47.00 151.50 66.75  23.90     36.90\n",
       " Sample Mean           18.94   1.0600  44.88 178.92 70.15  25.44     37.99\n",
       "                       CHEST  ABDOMEN HIP   THIGH KNEE  ANKLE BICEPS FOREARM\n",
       "182                     79.30 69.40    85.0 47.20 33.50 20.2  27.70  24.60  \n",
       "96                     113.20 99.20   107.5 61.70 42.30 23.2  32.90  30.80  \n",
       "48                      89.80 79.50    92.7 52.70 37.50 21.9  28.80  26.80  \n",
       "54 (compared with 48)   93.30 79.60    91.6 52.60 37.60 22.6  38.50  27.40  \n",
       "76                      91.60 81.80    94.8 54.50 37.00 21.4  29.30  27.00  \n",
       "124 (compared with 76)  94.00 86.10    95.2 58.10 36.50 22.1  30.60  27.50  \n",
       " Sample Mean           100.82 92.56    99.9 59.41 38.59 23.1  32.27  28.66  \n",
       "                       WRIST\n",
       "182                    16.50\n",
       "96                     20.40\n",
       "48                     17.90\n",
       "54 (compared with 48)  18.50\n",
       "76                     18.30\n",
       "124 (compared with 76) 17.60\n",
       " Sample Mean           18.23"
      ]
     },
     "metadata": {},
     "output_type": "display_data"
    }
   ],
   "source": [
    "col.mean1 = round(sapply(dt.fat[,-1], dim = 1, FUN = mean), digits = 2)\n",
    "bd = rbind(dt.fat[c(182,96, 48,54, 76,124), -1], col.mean1)\n",
    "rownames(bd)[4] = '54 (compared with 48)'\n",
    "rownames(bd)[6] = '124 (compared with 76)'\n",
    "rownames(bd)[7] = ' Sample Mean'\n",
    "bd"
   ]
  },
  {
   "cell_type": "markdown",
   "metadata": {},
   "source": [
    "**For No.182:**\n",
    "No one's bodyfat can be 0. Therefore we should delete this abnormal point(No.182).\n",
    "\n",
    "**For No.96:**\n",
    "The bodyfat computed by the density is 495/1.0991-450=0.3684833. It is very close to 0. Therefore we think the density is wrong meanwhile the bodyfat is right. So we will keep this point.\n",
    "\n",
    "**For No.48:**\n",
    "We find a normal point(No.54) which is very similar with No.48 point except AGE and BICEPS. But these two aspects influence bodyfat little. Therefore we think the bodyfat of No.48 point is normal. Then we keep this point.\n",
    "\n",
    "**For No.76:**\n",
    "We find a normal point(No.124) which is very similar with No.76 point .Therefore we think the bodyfat of No.76 point is normal. Then we keep this point."
   ]
  },
  {
   "cell_type": "markdown",
   "metadata": {},
   "source": [
    "We know that adiposity is bmi, which is computed by weight and height.\n",
    "$$ADIPOSITY = \\frac{WEIGHT}{HIGHT^2} $$\n",
    "But  compared with the adiposity computed by weight and height, there are some points which have the conflicting adiposity values."
   ]
  },
  {
   "cell_type": "code",
   "execution_count": 7,
   "metadata": {},
   "outputs": [
    {
     "data": {
      "text/html": [
       "<table>\n",
       "<thead><tr><th scope=col>id</th><th scope=col>diff2</th></tr></thead>\n",
       "<tbody>\n",
       "\t<tr><td> 42        </td><td>135.7180939</td></tr>\n",
       "\t<tr><td>163        </td><td>  3.0069082</td></tr>\n",
       "\t<tr><td>221        </td><td>  2.8219506</td></tr>\n",
       "\t<tr><td>156        </td><td>  0.3064011</td></tr>\n",
       "\t<tr><td>235        </td><td>  0.2421971</td></tr>\n",
       "\t<tr><td>116        </td><td>  0.2358972</td></tr>\n",
       "\t<tr><td> 86        </td><td>  0.2304474</td></tr>\n",
       "\t<tr><td> 46        </td><td>  0.2222699</td></tr>\n",
       "\t<tr><td> 22        </td><td>  0.1249692</td></tr>\n",
       "\t<tr><td> 61        </td><td>  0.1032590</td></tr>\n",
       "</tbody>\n",
       "</table>\n"
      ],
      "text/latex": [
       "\\begin{tabular}{ll}\n",
       " id & diff2\\\\\n",
       "\\hline\n",
       "\t  42         & 135.7180939\\\\\n",
       "\t 163         &   3.0069082\\\\\n",
       "\t 221         &   2.8219506\\\\\n",
       "\t 156         &   0.3064011\\\\\n",
       "\t 235         &   0.2421971\\\\\n",
       "\t 116         &   0.2358972\\\\\n",
       "\t  86         &   0.2304474\\\\\n",
       "\t  46         &   0.2222699\\\\\n",
       "\t  22         &   0.1249692\\\\\n",
       "\t  61         &   0.1032590\\\\\n",
       "\\end{tabular}\n"
      ],
      "text/markdown": [
       "\n",
       "| id | diff2 |\n",
       "|---|---|\n",
       "|  42         | 135.7180939 |\n",
       "| 163         |   3.0069082 |\n",
       "| 221         |   2.8219506 |\n",
       "| 156         |   0.3064011 |\n",
       "| 235         |   0.2421971 |\n",
       "| 116         |   0.2358972 |\n",
       "|  86         |   0.2304474 |\n",
       "|  46         |   0.2222699 |\n",
       "|  22         |   0.1249692 |\n",
       "|  61         |   0.1032590 |\n",
       "\n"
      ],
      "text/plain": [
       "      id  diff2      \n",
       " [1,]  42 135.7180939\n",
       " [2,] 163   3.0069082\n",
       " [3,] 221   2.8219506\n",
       " [4,] 156   0.3064011\n",
       " [5,] 235   0.2421971\n",
       " [6,] 116   0.2358972\n",
       " [7,]  86   0.2304474\n",
       " [8,]  46   0.2222699\n",
       " [9,]  22   0.1249692\n",
       "[10,]  61   0.1032590"
      ]
     },
     "metadata": {},
     "output_type": "display_data"
    }
   ],
   "source": [
    "id<-as.vector(dt.fat$IDNO)\n",
    "adi<-as.vector(dt.fat$ADIPOSITY)\n",
    "weightkg<-as.vector(dt.fat$WEIGHT)*0.453592\n",
    "hightm<-as.vector(dt.fat$HEIGHT )*0.0254\n",
    "diff2<-abs(adi -weightkg/(hightm)^2)\n",
    "ab2<-cbind(id,diff2)\n",
    "ab2[order(ab2[,2],decreasing = T),][1:10,]"
   ]
  },
  {
   "cell_type": "markdown",
   "metadata": {},
   "source": [
    "From the difference, we can know the recorded values of No.42,163,221 points are wrong. Then we will delete No.42, No.163 and No.221 three points."
   ]
  },
  {
   "cell_type": "code",
   "execution_count": 8,
   "metadata": {},
   "outputs": [
    {
     "data": {
      "text/html": [
       "<table>\n",
       "<thead><tr><th></th><th scope=col>BODYFAT</th><th scope=col>AGE</th><th scope=col>WEIGHT</th><th scope=col>HEIGHT</th><th scope=col>ADIPOSITY</th><th scope=col>NECK</th><th scope=col>CHEST</th><th scope=col>ABDOMEN</th><th scope=col>HIP</th><th scope=col>THIGH</th><th scope=col>KNEE</th><th scope=col>ANKLE</th><th scope=col>BICEPS</th><th scope=col>FOREARM</th><th scope=col>WRIST</th></tr></thead>\n",
       "<tbody>\n",
       "\t<tr><th scope=row>216</th><td>45.1 </td><td>51   </td><td>219  </td><td>64   </td><td>37.6 </td><td>41.2 </td><td>119.8</td><td>122.1</td><td>112.8</td><td>62.5 </td><td>36.9 </td><td>23.6 </td><td>34.7 </td><td>29.1 </td><td>18.4 </td></tr>\n",
       "</tbody>\n",
       "</table>\n"
      ],
      "text/latex": [
       "\\begin{tabular}{r|lllllllllllllll}\n",
       "  & BODYFAT & AGE & WEIGHT & HEIGHT & ADIPOSITY & NECK & CHEST & ABDOMEN & HIP & THIGH & KNEE & ANKLE & BICEPS & FOREARM & WRIST\\\\\n",
       "\\hline\n",
       "\t216 & 45.1  & 51    & 219   & 64    & 37.6  & 41.2  & 119.8 & 122.1 & 112.8 & 62.5  & 36.9  & 23.6  & 34.7  & 29.1  & 18.4 \\\\\n",
       "\\end{tabular}\n"
      ],
      "text/markdown": [
       "\n",
       "| <!--/--> | BODYFAT | AGE | WEIGHT | HEIGHT | ADIPOSITY | NECK | CHEST | ABDOMEN | HIP | THIGH | KNEE | ANKLE | BICEPS | FOREARM | WRIST |\n",
       "|---|---|---|---|---|---|---|---|---|---|---|---|---|---|---|---|\n",
       "| 216 | 45.1  | 51    | 219   | 64    | 37.6  | 41.2  | 119.8 | 122.1 | 112.8 | 62.5  | 36.9  | 23.6  | 34.7  | 29.1  | 18.4  |\n",
       "\n"
      ],
      "text/plain": [
       "    BODYFAT AGE WEIGHT HEIGHT ADIPOSITY NECK CHEST ABDOMEN HIP   THIGH KNEE\n",
       "216 45.1    51  219    64     37.6      41.2 119.8 122.1   112.8 62.5  36.9\n",
       "    ANKLE BICEPS FOREARM WRIST\n",
       "216 23.6  34.7   29.1    18.4 "
      ]
     },
     "metadata": {},
     "output_type": "display_data"
    }
   ],
   "source": [
    "body.fat[216, ]"
   ]
  },
  {
   "cell_type": "markdown",
   "metadata": {},
   "source": [
    "The one with bodyfat 45.1% is too impossible  to exist in the world."
   ]
  },
  {
   "cell_type": "code",
   "execution_count": 9,
   "metadata": {},
   "outputs": [
    {
     "data": {
      "image/png": "[encoded data removed]",
      "text/plain": [
       "Plot with title \"\""
      ]
     },
     "metadata": {},
     "output_type": "display_data"
    }
   ],
   "source": [
    "model.clean = lm(BODYFAT ~ ., data = body.fat)\n",
    "# summary(model.clean)$coefficient\n",
    "plot(model.clean, which = 4)\n",
    "abline(h = 4/(dim(body.fat)[1]-dim(body.fat)[2]), lty = 2, col = 'blue')"
   ]
  },
  {
   "cell_type": "code",
   "execution_count": 10,
   "metadata": {},
   "outputs": [
    {
     "data": {
      "text/html": [
       "<table>\n",
       "<thead><tr><th></th><th scope=col>BODYFAT</th><th scope=col>AGE</th><th scope=col>WEIGHT</th><th scope=col>HEIGHT</th><th scope=col>ADIPOSITY</th><th scope=col>NECK</th><th scope=col>CHEST</th><th scope=col>ABDOMEN</th><th scope=col>HIP</th><th scope=col>THIGH</th><th scope=col>KNEE</th><th scope=col>ANKLE</th><th scope=col>BICEPS</th><th scope=col>FOREARM</th><th scope=col>WRIST</th></tr></thead>\n",
       "<tbody>\n",
       "\t<tr><th scope=row>39</th><td>33.80 </td><td>46.00 </td><td>363.15</td><td>72.25 </td><td>48.90 </td><td>51.20 </td><td>136.20</td><td>148.10</td><td>147.7 </td><td>87.30 </td><td>49.10 </td><td>29.6  </td><td>45.00 </td><td>29.00 </td><td>21.40 </td></tr>\n",
       "\t<tr><th scope=row>42</th><td>31.70 </td><td>44.00 </td><td>205.00</td><td>29.50 </td><td>29.90 </td><td>36.60 </td><td>106.00</td><td>104.30</td><td>115.5 </td><td>70.60 </td><td>42.50 </td><td>23.7  </td><td>33.60 </td><td>28.70 </td><td>17.40 </td></tr>\n",
       "\t<tr><th scope=row>86</th><td>25.80 </td><td>67.00 </td><td>167.00</td><td>67.50 </td><td>26.00 </td><td>36.50 </td><td> 98.90</td><td> 89.70</td><td> 96.2 </td><td>54.70 </td><td>37.80 </td><td>33.7  </td><td>32.40 </td><td>27.70 </td><td>18.20 </td></tr>\n",
       "\t<tr><th scope=row> Sample Mean</th><td>18.94 </td><td>44.88 </td><td>178.92</td><td>70.15 </td><td>25.44 </td><td>37.99 </td><td>100.82</td><td> 92.56</td><td> 99.9 </td><td>59.41 </td><td>38.59 </td><td>23.1  </td><td>32.27 </td><td>28.66 </td><td>18.23 </td></tr>\n",
       "</tbody>\n",
       "</table>\n"
      ],
      "text/latex": [
       "\\begin{tabular}{r|lllllllllllllll}\n",
       "  & BODYFAT & AGE & WEIGHT & HEIGHT & ADIPOSITY & NECK & CHEST & ABDOMEN & HIP & THIGH & KNEE & ANKLE & BICEPS & FOREARM & WRIST\\\\\n",
       "\\hline\n",
       "\t39 & 33.80  & 46.00  & 363.15 & 72.25  & 48.90  & 51.20  & 136.20 & 148.10 & 147.7  & 87.30  & 49.10  & 29.6   & 45.00  & 29.00  & 21.40 \\\\\n",
       "\t42 & 31.70  & 44.00  & 205.00 & 29.50  & 29.90  & 36.60  & 106.00 & 104.30 & 115.5  & 70.60  & 42.50  & 23.7   & 33.60  & 28.70  & 17.40 \\\\\n",
       "\t86 & 25.80  & 67.00  & 167.00 & 67.50  & 26.00  & 36.50  &  98.90 &  89.70 &  96.2  & 54.70  & 37.80  & 33.7   & 32.40  & 27.70  & 18.20 \\\\\n",
       "\t Sample Mean & 18.94  & 44.88  & 178.92 & 70.15  & 25.44  & 37.99  & 100.82 &  92.56 &  99.9  & 59.41  & 38.59  & 23.1   & 32.27  & 28.66  & 18.23 \\\\\n",
       "\\end{tabular}\n"
      ],
      "text/markdown": [
       "\n",
       "| <!--/--> | BODYFAT | AGE | WEIGHT | HEIGHT | ADIPOSITY | NECK | CHEST | ABDOMEN | HIP | THIGH | KNEE | ANKLE | BICEPS | FOREARM | WRIST |\n",
       "|---|---|---|---|---|---|---|---|---|---|---|---|---|---|---|---|\n",
       "| 39 | 33.80  | 46.00  | 363.15 | 72.25  | 48.90  | 51.20  | 136.20 | 148.10 | 147.7  | 87.30  | 49.10  | 29.6   | 45.00  | 29.00  | 21.40  |\n",
       "| 42 | 31.70  | 44.00  | 205.00 | 29.50  | 29.90  | 36.60  | 106.00 | 104.30 | 115.5  | 70.60  | 42.50  | 23.7   | 33.60  | 28.70  | 17.40  |\n",
       "| 86 | 25.80  | 67.00  | 167.00 | 67.50  | 26.00  | 36.50  |  98.90 |  89.70 |  96.2  | 54.70  | 37.80  | 33.7   | 32.40  | 27.70  | 18.20  |\n",
       "|  Sample Mean | 18.94  | 44.88  | 178.92 | 70.15  | 25.44  | 37.99  | 100.82 |  92.56 |  99.9  | 59.41  | 38.59  | 23.1   | 32.27  | 28.66  | 18.23  |\n",
       "\n"
      ],
      "text/plain": [
       "             BODYFAT AGE   WEIGHT HEIGHT ADIPOSITY NECK  CHEST  ABDOMEN HIP  \n",
       "39           33.80   46.00 363.15 72.25  48.90     51.20 136.20 148.10  147.7\n",
       "42           31.70   44.00 205.00 29.50  29.90     36.60 106.00 104.30  115.5\n",
       "86           25.80   67.00 167.00 67.50  26.00     36.50  98.90  89.70   96.2\n",
       " Sample Mean 18.94   44.88 178.92 70.15  25.44     37.99 100.82  92.56   99.9\n",
       "             THIGH KNEE  ANKLE BICEPS FOREARM WRIST\n",
       "39           87.30 49.10 29.6  45.00  29.00   21.40\n",
       "42           70.60 42.50 23.7  33.60  28.70   17.40\n",
       "86           54.70 37.80 33.7  32.40  27.70   18.20\n",
       " Sample Mean 59.41 38.59 23.1  32.27  28.66   18.23"
      ]
     },
     "metadata": {},
     "output_type": "display_data"
    }
   ],
   "source": [
    "col.mean = round(sapply(body.fat, dim = 1, FUN = mean), digits = 2)\n",
    ". = rbind(body.fat[c(39, 42, 86), ], col.mean)\n",
    "rownames(.)[4] = ' Sample Mean'\n",
    "."
   ]
  },
  {
   "cell_type": "markdown",
   "metadata": {},
   "source": [
    "* Sample 39 is highly overweighted.However, \\#39 is merely a stronger person whose body measurements are within normal range. \n",
    "* Sample 42 is unusually short.\n",
    "* Sample 86 has relatively larger Cook's distance. However, \\#86 is merely a person whose body measurements are within normal range. \n",
    "\n",
    "**Therefore, \\#42 should be removed from our 'Rule-of-Thumb' model.**  \n",
    "**However, \\#86 and \\#39 should be kept in our model.**"
   ]
  },
  {
   "cell_type": "markdown",
   "metadata": {},
   "source": [
    "We can also use some outlier functions to find some other unreasonal points."
   ]
  },
  {
   "cell_type": "code",
   "execution_count": 11,
   "metadata": {},
   "outputs": [
    {
     "name": "stderr",
     "output_type": "stream",
     "text": [
      "Loading required package: carData\n"
     ]
    },
    {
     "data": {
      "text/plain": [
       "No Studentized residuals with Bonferroni p < 0.05\n",
       "Largest |rstudent|:\n",
       "     rstudent unadjusted p-value Bonferroni p\n",
       "224 -2.581617           0.010444           NA"
      ]
     },
     "metadata": {},
     "output_type": "display_data"
    }
   ],
   "source": [
    "library(car)\n",
    "outlierTest(lm(BODYFAT ~ ., data = body.fat[-c(39,42),]))"
   ]
  },
  {
   "cell_type": "markdown",
   "metadata": {},
   "source": [
    "Given the above $42, 163, 182, 221$ show up as outlier candidates."
   ]
  },
  {
   "cell_type": "code",
   "execution_count": 12,
   "metadata": {},
   "outputs": [],
   "source": [
    "body.fat.clean = body.fat[-c(42,163,182,221,216),]"
   ]
  },
  {
   "cell_type": "code",
   "execution_count": 13,
   "metadata": {},
   "outputs": [
    {
     "data": {
      "image/png": "[encoded data removed]",
      "text/plain": [
       "Plot with title \"\""
      ]
     },
     "metadata": {},
     "output_type": "display_data"
    }
   ],
   "source": [
    "model.clean2 = lm(BODYFAT ~ ., data = body.fat.clean)\n",
    "layout(matrix(1:4, ncol = 2))\n",
    "plot(model.clean2)"
   ]
  },
  {
   "cell_type": "markdown",
   "metadata": {},
   "source": [
    "## 3. Variable Selection"
   ]
  },
  {
   "cell_type": "markdown",
   "metadata": {},
   "source": [
    "#### Forward selection using AIC"
   ]
  },
  {
   "cell_type": "code",
   "execution_count": 14,
   "metadata": {},
   "outputs": [
    {
     "data": {
      "text/plain": [
       "\n",
       "Call:\n",
       "lm(formula = BODYFAT ~ ABDOMEN + WEIGHT + WRIST + FOREARM + THIGH + \n",
       "    AGE + NECK + HIP, data = body.fat.clean)\n",
       "\n",
       "Residuals:\n",
       "     Min       1Q   Median       3Q      Max \n",
       "-10.1186  -2.7397  -0.1189   2.6846   9.5026 \n",
       "\n",
       "Coefficients:\n",
       "             Estimate Std. Error t value Pr(>|t|)    \n",
       "(Intercept) -22.88822   11.19925  -2.044  0.04208 *  \n",
       "ABDOMEN       0.87054    0.06793  12.815  < 2e-16 ***\n",
       "WEIGHT       -0.09392    0.03820  -2.459  0.01465 *  \n",
       "WRIST        -1.20593    0.47820  -2.522  0.01233 *  \n",
       "FOREARM       0.49273    0.17170   2.870  0.00448 ** \n",
       "THIGH         0.30973    0.12080   2.564  0.01096 *  \n",
       "AGE           0.05742    0.02878   1.995  0.04715 *  \n",
       "NECK         -0.39504    0.20836  -1.896  0.05918 .  \n",
       "HIP          -0.20043    0.12982  -1.544  0.12394    \n",
       "---\n",
       "Signif. codes:  0 '***' 0.001 '**' 0.01 '*' 0.05 '.' 0.1 ' ' 1\n",
       "\n",
       "Residual standard error: 3.928 on 238 degrees of freedom\n",
       "Multiple R-squared:  0.734,\tAdjusted R-squared:  0.725 \n",
       "F-statistic: 82.09 on 8 and 238 DF,  p-value: < 2.2e-16\n"
      ]
     },
     "metadata": {},
     "output_type": "display_data"
    }
   ],
   "source": [
    "model.1 <- lm(BODYFAT~1,data = body.fat.clean)\n",
    "model.AIC.forward <- step(model.1,list(lower = model.1,upper = model.clean2),k = 2,direction = \"forward\",trace = 0)\n",
    "summary(model.AIC.forward)"
   ]
  },
  {
   "cell_type": "markdown",
   "metadata": {},
   "source": [
    "#### Backward selection using AIC"
   ]
  },
  {
   "cell_type": "code",
   "execution_count": 15,
   "metadata": {},
   "outputs": [
    {
     "data": {
      "text/plain": [
       "\n",
       "Call:\n",
       "lm(formula = BODYFAT ~ AGE + WEIGHT + HEIGHT + ADIPOSITY + NECK + \n",
       "    ABDOMEN + HIP + THIGH + FOREARM + WRIST, data = body.fat.clean)\n",
       "\n",
       "Residuals:\n",
       "    Min      1Q  Median      3Q     Max \n",
       "-9.7501 -2.8461 -0.2516  2.9046  9.3477 \n",
       "\n",
       "Coefficients:\n",
       "              Estimate Std. Error t value Pr(>|t|)    \n",
       "(Intercept) -103.31104   51.85590  -1.992  0.04749 *  \n",
       "AGE            0.06176    0.02890   2.137  0.03366 *  \n",
       "WEIGHT        -0.31576    0.14335  -2.203  0.02858 *  \n",
       "HEIGHT         1.19368    0.74203   1.609  0.10903    \n",
       "ADIPOSITY      1.71409    1.05651   1.622  0.10605    \n",
       "NECK          -0.37501    0.21288  -1.762  0.07942 .  \n",
       "ABDOMEN        0.83922    0.08008  10.480  < 2e-16 ***\n",
       "HIP           -0.22964    0.13207  -1.739  0.08338 .  \n",
       "THIGH          0.31898    0.12350   2.583  0.01040 *  \n",
       "FOREARM        0.43717    0.17558   2.490  0.01347 *  \n",
       "WRIST         -1.28819    0.48038  -2.682  0.00784 ** \n",
       "---\n",
       "Signif. codes:  0 '***' 0.001 '**' 0.01 '*' 0.05 '.' 0.1 ' ' 1\n",
       "\n",
       "Residual standard error: 3.922 on 236 degrees of freedom\n",
       "Multiple R-squared:  0.7369,\tAdjusted R-squared:  0.7258 \n",
       "F-statistic: 66.11 on 10 and 236 DF,  p-value: < 2.2e-16\n"
      ]
     },
     "metadata": {},
     "output_type": "display_data"
    }
   ],
   "source": [
    "model.AIC.backward <- step(model.clean2,k = 2,direction = \"backward\",trace = 0)\n",
    "summary(model.AIC.backward)"
   ]
  },
  {
   "cell_type": "markdown",
   "metadata": {},
   "source": [
    "#### Forward selection using BIC"
   ]
  },
  {
   "cell_type": "code",
   "execution_count": 16,
   "metadata": {},
   "outputs": [
    {
     "data": {
      "text/plain": [
       "\n",
       "Call:\n",
       "lm(formula = BODYFAT ~ ABDOMEN + WEIGHT, data = body.fat.clean)\n",
       "\n",
       "Residuals:\n",
       "    Min      1Q  Median      3Q     Max \n",
       "-10.117  -2.951   0.053   2.921   9.730 \n",
       "\n",
       "Coefficients:\n",
       "             Estimate Std. Error t value Pr(>|t|)    \n",
       "(Intercept) -40.19599    2.46034 -16.338  < 2e-16 ***\n",
       "ABDOMEN       0.90516    0.05343  16.942  < 2e-16 ***\n",
       "WEIGHT       -0.13752    0.01937  -7.098 1.37e-11 ***\n",
       "---\n",
       "Signif. codes:  0 '***' 0.001 '**' 0.01 '*' 0.05 '.' 0.1 ' ' 1\n",
       "\n",
       "Residual standard error: 4.072 on 244 degrees of freedom\n",
       "Multiple R-squared:  0.7068,\tAdjusted R-squared:  0.7044 \n",
       "F-statistic: 294.1 on 2 and 244 DF,  p-value: < 2.2e-16\n"
      ]
     },
     "metadata": {},
     "output_type": "display_data"
    }
   ],
   "source": [
    "model.BIC.forward <- step(model.1,list(lower = model.1,upper = model.clean2),k = log(dim(body.fat.clean)[1]),direction = \"forward\",trace = 0)\n",
    "summary(model.BIC.forward)"
   ]
  },
  {
   "cell_type": "markdown",
   "metadata": {},
   "source": [
    "#### Backward selection using BIC"
   ]
  },
  {
   "cell_type": "code",
   "execution_count": 17,
   "metadata": {},
   "outputs": [
    {
     "data": {
      "text/plain": [
       "\n",
       "Call:\n",
       "lm(formula = BODYFAT ~ WEIGHT + ABDOMEN + FOREARM + WRIST, data = body.fat.clean)\n",
       "\n",
       "Residuals:\n",
       "     Min       1Q   Median       3Q      Max \n",
       "-10.0893  -2.8294  -0.1495   2.9402   8.2702 \n",
       "\n",
       "Coefficients:\n",
       "             Estimate Std. Error t value Pr(>|t|)    \n",
       "(Intercept) -33.96885    6.84845  -4.960 1.33e-06 ***\n",
       "WEIGHT       -0.13425    0.02326  -5.771 2.40e-08 ***\n",
       "ABDOMEN       0.91718    0.05300  17.304  < 2e-16 ***\n",
       "FOREARM       0.47040    0.16761   2.807  0.00542 ** \n",
       "WRIST        -1.17434    0.41627  -2.821  0.00518 ** \n",
       "---\n",
       "Signif. codes:  0 '***' 0.001 '**' 0.01 '*' 0.05 '.' 0.1 ' ' 1\n",
       "\n",
       "Residual standard error: 3.982 on 242 degrees of freedom\n",
       "Multiple R-squared:  0.722,\tAdjusted R-squared:  0.7174 \n",
       "F-statistic: 157.1 on 4 and 242 DF,  p-value: < 2.2e-16\n"
      ]
     },
     "metadata": {},
     "output_type": "display_data"
    }
   ],
   "source": [
    "model.BIC.backward <- step(model.clean2,k = log(dim(body.fat.clean)[1]),direction = \"backward\",trace = 0)\n",
    "summary(model.BIC.backward)"
   ]
  },
  {
   "cell_type": "markdown",
   "metadata": {},
   "source": [
    "#### Back/forward selection uing A/BIC"
   ]
  },
  {
   "cell_type": "code",
   "execution_count": 18,
   "metadata": {},
   "outputs": [],
   "source": [
    "model.full = lm(BODYFAT ~ ., body.fat.clean)"
   ]
  },
  {
   "cell_type": "code",
   "execution_count": 19,
   "metadata": {},
   "outputs": [
    {
     "data": {
      "text/plain": [
       "\n",
       "Call:\n",
       "lm(formula = BODYFAT ~ AGE + WEIGHT + HEIGHT + ADIPOSITY + NECK + \n",
       "    ABDOMEN + HIP + THIGH + FOREARM + WRIST, data = body.fat.clean)\n",
       "\n",
       "Residuals:\n",
       "    Min      1Q  Median      3Q     Max \n",
       "-9.7501 -2.8461 -0.2516  2.9046  9.3477 \n",
       "\n",
       "Coefficients:\n",
       "              Estimate Std. Error t value Pr(>|t|)    \n",
       "(Intercept) -103.31104   51.85590  -1.992  0.04749 *  \n",
       "AGE            0.06176    0.02890   2.137  0.03366 *  \n",
       "WEIGHT        -0.31576    0.14335  -2.203  0.02858 *  \n",
       "HEIGHT         1.19368    0.74203   1.609  0.10903    \n",
       "ADIPOSITY      1.71409    1.05651   1.622  0.10605    \n",
       "NECK          -0.37501    0.21288  -1.762  0.07942 .  \n",
       "ABDOMEN        0.83922    0.08008  10.480  < 2e-16 ***\n",
       "HIP           -0.22964    0.13207  -1.739  0.08338 .  \n",
       "THIGH          0.31898    0.12350   2.583  0.01040 *  \n",
       "FOREARM        0.43717    0.17558   2.490  0.01347 *  \n",
       "WRIST         -1.28819    0.48038  -2.682  0.00784 ** \n",
       "---\n",
       "Signif. codes:  0 '***' 0.001 '**' 0.01 '*' 0.05 '.' 0.1 ' ' 1\n",
       "\n",
       "Residual standard error: 3.922 on 236 degrees of freedom\n",
       "Multiple R-squared:  0.7369,\tAdjusted R-squared:  0.7258 \n",
       "F-statistic: 66.11 on 10 and 236 DF,  p-value: < 2.2e-16\n"
      ]
     },
     "metadata": {},
     "output_type": "display_data"
    }
   ],
   "source": [
    "model.aic.both = step(model.full, direction = \"both\", k = 2, trace = 0)\n",
    "summary(model.aic.both)"
   ]
  },
  {
   "cell_type": "code",
   "execution_count": 20,
   "metadata": {},
   "outputs": [
    {
     "data": {
      "text/plain": [
       "\n",
       "Call:\n",
       "lm(formula = BODYFAT ~ WEIGHT + ABDOMEN + FOREARM + WRIST, data = body.fat.clean)\n",
       "\n",
       "Residuals:\n",
       "     Min       1Q   Median       3Q      Max \n",
       "-10.0893  -2.8294  -0.1495   2.9402   8.2702 \n",
       "\n",
       "Coefficients:\n",
       "             Estimate Std. Error t value Pr(>|t|)    \n",
       "(Intercept) -33.96885    6.84845  -4.960 1.33e-06 ***\n",
       "WEIGHT       -0.13425    0.02326  -5.771 2.40e-08 ***\n",
       "ABDOMEN       0.91718    0.05300  17.304  < 2e-16 ***\n",
       "FOREARM       0.47040    0.16761   2.807  0.00542 ** \n",
       "WRIST        -1.17434    0.41627  -2.821  0.00518 ** \n",
       "---\n",
       "Signif. codes:  0 '***' 0.001 '**' 0.01 '*' 0.05 '.' 0.1 ' ' 1\n",
       "\n",
       "Residual standard error: 3.982 on 242 degrees of freedom\n",
       "Multiple R-squared:  0.722,\tAdjusted R-squared:  0.7174 \n",
       "F-statistic: 157.1 on 4 and 242 DF,  p-value: < 2.2e-16\n"
      ]
     },
     "metadata": {},
     "output_type": "display_data"
    }
   ],
   "source": [
    "model.bic.both = step(model.full, direction = \"both\", k = log(dim(body.fat.clean)[1]), trace = 0)\n",
    "summary(model.bic.both)"
   ]
  },
  {
   "cell_type": "markdown",
   "metadata": {},
   "source": [
    "#### Mallow's Cp"
   ]
  },
  {
   "cell_type": "code",
   "execution_count": 21,
   "metadata": {},
   "outputs": [
    {
     "name": "stdout",
     "output_type": "stream",
     "text": [
      "package 'leaps' successfully unpacked and MD5 sums checked\n",
      "\n",
      "The downloaded binary packages are in\n",
      "\tC:\\Users\\58479\\AppData\\Local\\Temp\\Rtmp8GyRyY\\downloaded_packages\n",
      "package 'faraway' successfully unpacked and MD5 sums checked\n",
      "\n",
      "The downloaded binary packages are in\n",
      "\tC:\\Users\\58479\\AppData\\Local\\Temp\\Rtmp8GyRyY\\downloaded_packages\n"
     ]
    },
    {
     "name": "stderr",
     "output_type": "stream",
     "text": [
      "Registered S3 methods overwritten by 'lme4':\n",
      "  method                          from\n",
      "  cooks.distance.influence.merMod car \n",
      "  influence.merMod                car \n",
      "  dfbeta.influence.merMod         car \n",
      "  dfbetas.influence.merMod        car \n"
     ]
    }
   ],
   "source": [
    "detach(\"package:car\")\n",
    "install.packages(\"leaps\")\n",
    "library(leaps) # for leaps()\n",
    "install.packages(\"faraway\")\n",
    "library(faraway) # for Cpplot()"
   ]
  },
  {
   "cell_type": "code",
   "execution_count": 22,
   "metadata": {},
   "outputs": [
    {
     "data": {
      "image/png": "[encoded data removed]",
      "text/plain": [
       "plot without title"
      ]
     },
     "metadata": {},
     "output_type": "display_data"
    }
   ],
   "source": [
    "X = model.matrix(model.full)[,-1]\n",
    "Y = body.fat.clean[,1]\n",
    "g = leaps::leaps(X,Y,nbest=1)\n",
    "Cpplot(g) # Include all variable."
   ]
  },
  {
   "cell_type": "markdown",
   "metadata": {},
   "source": [
    "#### $R^2$"
   ]
  },
  {
   "cell_type": "code",
   "execution_count": 23,
   "metadata": {},
   "outputs": [
    {
     "data": {
      "text/html": [
       "<dl class=dl-horizontal>\n",
       "\t<dt>1</dt>\n",
       "\t\t<dd>TRUE</dd>\n",
       "\t<dt>2</dt>\n",
       "\t\t<dd>TRUE</dd>\n",
       "\t<dt>3</dt>\n",
       "\t\t<dd>TRUE</dd>\n",
       "\t<dt>4</dt>\n",
       "\t\t<dd>TRUE</dd>\n",
       "\t<dt>5</dt>\n",
       "\t\t<dd>TRUE</dd>\n",
       "\t<dt>6</dt>\n",
       "\t\t<dd>FALSE</dd>\n",
       "\t<dt>7</dt>\n",
       "\t\t<dd>TRUE</dd>\n",
       "\t<dt>8</dt>\n",
       "\t\t<dd>TRUE</dd>\n",
       "\t<dt>9</dt>\n",
       "\t\t<dd>TRUE</dd>\n",
       "\t<dt>A</dt>\n",
       "\t\t<dd>FALSE</dd>\n",
       "\t<dt>B</dt>\n",
       "\t\t<dd>FALSE</dd>\n",
       "\t<dt>C</dt>\n",
       "\t\t<dd>TRUE</dd>\n",
       "\t<dt>D</dt>\n",
       "\t\t<dd>TRUE</dd>\n",
       "\t<dt>E</dt>\n",
       "\t\t<dd>TRUE</dd>\n",
       "</dl>\n"
      ],
      "text/latex": [
       "\\begin{description*}\n",
       "\\item[1] TRUE\n",
       "\\item[2] TRUE\n",
       "\\item[3] TRUE\n",
       "\\item[4] TRUE\n",
       "\\item[5] TRUE\n",
       "\\item[6] FALSE\n",
       "\\item[7] TRUE\n",
       "\\item[8] TRUE\n",
       "\\item[9] TRUE\n",
       "\\item[A] FALSE\n",
       "\\item[B] FALSE\n",
       "\\item[C] TRUE\n",
       "\\item[D] TRUE\n",
       "\\item[E] TRUE\n",
       "\\end{description*}\n"
      ],
      "text/markdown": [
       "1\n",
       ":   TRUE2\n",
       ":   TRUE3\n",
       ":   TRUE4\n",
       ":   TRUE5\n",
       ":   TRUE6\n",
       ":   FALSE7\n",
       ":   TRUE8\n",
       ":   TRUE9\n",
       ":   TRUEA\n",
       ":   FALSEB\n",
       ":   FALSEC\n",
       ":   TRUED\n",
       ":   TRUEE\n",
       ":   TRUE\n",
       "\n"
      ],
      "text/plain": [
       "    1     2     3     4     5     6     7     8     9     A     B     C     D \n",
       " TRUE  TRUE  TRUE  TRUE  TRUE FALSE  TRUE  TRUE  TRUE FALSE FALSE  TRUE  TRUE \n",
       "    E \n",
       " TRUE "
      ]
     },
     "metadata": {},
     "output_type": "display_data"
    },
    {
     "data": {
      "image/png": "[encoded data removed]",
      "text/plain": [
       "plot without title"
      ]
     },
     "metadata": {},
     "output_type": "display_data"
    }
   ],
   "source": [
    "r = leaps::leaps(X,Y,nbest=1, method=\"adjr2\")\n",
    "plot(r$adjr2)\n",
    "(r$which)[which(r$adjr2 == max(r$adjr2)),] # 1,2,3,7,12,13"
   ]
  },
  {
   "cell_type": "markdown",
   "metadata": {},
   "source": [
    "## 4. Multicolinearity"
   ]
  },
  {
   "cell_type": "markdown",
   "metadata": {},
   "source": [
    "From the above study, we can get two simple models. First, both forward selection with AIC and backward selection with BIC give us a model with four variables.\n",
    "\n",
    "\\begin{equation}\n",
    "\\text{BODYFAT} = \\text{WEIGHT} + \\text{ABDOMEN} + \\text{FOREARM} + \\text{WRIST}\n",
    "\\end{equation}\n",
    "\n",
    "Second, forward selection using BIC gives as a model with only two variables.\n",
    " \n",
    "\\begin{equation}\n",
    "\\text{BODYFAT} = \\text{WEIGHT} + \\text{ADBOMEN}\n",
    "\\end{equation}\n",
    "\n",
    "Next, we are going to detect multicolinearity problem among the four variables."
   ]
  },
  {
   "cell_type": "code",
   "execution_count": 24,
   "metadata": {},
   "outputs": [
    {
     "name": "stderr",
     "output_type": "stream",
     "text": [
      "Loading required package: lattice\n",
      "\n",
      "Attaching package: 'lattice'\n",
      "\n",
      "The following object is masked from 'package:faraway':\n",
      "\n",
      "    melanoma\n",
      "\n",
      "Loading required package: ggplot2\n",
      "Registered S3 methods overwritten by 'ggplot2':\n",
      "  method         from \n",
      "  [.quosures     rlang\n",
      "  c.quosures     rlang\n",
      "  print.quosures rlang\n",
      "\n",
      "Attaching package: 'car'\n",
      "\n",
      "The following objects are masked from 'package:faraway':\n",
      "\n",
      "    logit, vif\n",
      "\n"
     ]
    }
   ],
   "source": [
    "#install.packages(\"caret\")\n",
    "#install.packages(\"car\")\n",
    "library(caret)\n",
    "library(car)\n",
    "attach(body.fat.clean)"
   ]
  },
  {
   "cell_type": "code",
   "execution_count": 25,
   "metadata": {},
   "outputs": [],
   "source": [
    "training.index = sample(1:dim(body.fat.clean)[1],size = 0.7*dim(body.fat.clean)[1])\n",
    "training.set = body.fat.clean[training.index,]\n",
    "test.set = body.fat.clean[-training.index,]"
   ]
  },
  {
   "cell_type": "code",
   "execution_count": 26,
   "metadata": {},
   "outputs": [
    {
     "data": {
      "text/html": [
       "<dl class=dl-horizontal>\n",
       "\t<dt>WEIGHT</dt>\n",
       "\t\t<dd>8.12655171209899</dd>\n",
       "\t<dt>ABDOMEN</dt>\n",
       "\t\t<dd>5.81848622717357</dd>\n",
       "\t<dt>FOREARM</dt>\n",
       "\t\t<dd>1.67297707180408</dd>\n",
       "\t<dt>WRIST</dt>\n",
       "\t\t<dd>2.2692110433436</dd>\n",
       "</dl>\n"
      ],
      "text/latex": [
       "\\begin{description*}\n",
       "\\item[WEIGHT] 8.12655171209899\n",
       "\\item[ABDOMEN] 5.81848622717357\n",
       "\\item[FOREARM] 1.67297707180408\n",
       "\\item[WRIST] 2.2692110433436\n",
       "\\end{description*}\n"
      ],
      "text/markdown": [
       "WEIGHT\n",
       ":   8.12655171209899ABDOMEN\n",
       ":   5.81848622717357FOREARM\n",
       ":   1.67297707180408WRIST\n",
       ":   2.2692110433436\n",
       "\n"
      ],
      "text/plain": [
       "  WEIGHT  ABDOMEN  FOREARM    WRIST \n",
       "8.126552 5.818486 1.672977 2.269211 "
      ]
     },
     "metadata": {},
     "output_type": "display_data"
    }
   ],
   "source": [
    "# Full model with four variables\n",
    "m1 = lm(BODYFAT ~ WEIGHT + ABDOMEN + FOREARM + WRIST, data = training.set)\n",
    "predictions = predict(m1,test.set)\n",
    "df1 = data.frame(RMSE = RMSE(predictions, test.set$BODYFAT),\n",
    "                 R2 = R2(predictions, test.set$BODYFAT))\n",
    "vif(m1)"
   ]
  },
  {
   "cell_type": "markdown",
   "metadata": {},
   "source": [
    "From the full model, **weight** has the highest VIF value and it may have some multicolinearity problem. In order to find two variables that has the best prediction power while suffer less from multicoliearity problem, we are going to drop the variables gradually to see whether the model performance changes a lot."
   ]
  },
  {
   "cell_type": "code",
   "execution_count": 27,
   "metadata": {},
   "outputs": [
    {
     "data": {
      "text/html": [
       "<table>\n",
       "<thead><tr><th scope=col>RMSE</th><th scope=col>R2</th></tr></thead>\n",
       "<tbody>\n",
       "\t<tr><td>4.040473 </td><td>0.7676258</td></tr>\n",
       "</tbody>\n",
       "</table>\n"
      ],
      "text/latex": [
       "\\begin{tabular}{r|ll}\n",
       " RMSE & R2\\\\\n",
       "\\hline\n",
       "\t 4.040473  & 0.7676258\\\\\n",
       "\\end{tabular}\n"
      ],
      "text/markdown": [
       "\n",
       "| RMSE | R2 |\n",
       "|---|---|\n",
       "| 4.040473  | 0.7676258 |\n",
       "\n"
      ],
      "text/plain": [
       "  RMSE     R2       \n",
       "1 4.040473 0.7676258"
      ]
     },
     "metadata": {},
     "output_type": "display_data"
    }
   ],
   "source": [
    "df1"
   ]
  },
  {
   "cell_type": "code",
   "execution_count": 28,
   "metadata": {},
   "outputs": [],
   "source": [
    "# Drop WEIGHT >>> model performance does not change too much so we can dropping weight might be helpful with multicolinearity\n",
    "m2 = lm(BODYFAT ~ ABDOMEN + FOREARM + WRIST, data = training.set)\n",
    "predictions = predict(m2,test.set)\n",
    "df2 = data.frame(RMSE = RMSE(predictions, test.set$BODYFAT),\n",
    "                 R2 = R2(predictions, test.set$BODYFAT))"
   ]
  },
  {
   "cell_type": "code",
   "execution_count": 29,
   "metadata": {},
   "outputs": [],
   "source": [
    "# Drop WEIGHT + ABDOMEN >>> model performance gets worse so we can not drop ABDOMEN\n",
    "m3 = lm(BODYFAT ~ FOREARM + WRIST, data = training.set)\n",
    "predictions = predict(m3,test.set)\n",
    "df3 = data.frame(RMSE = RMSE(predictions, test.set$BODYFAT),\n",
    "                 R2 = R2(predictions, test.set$BODYFAT))"
   ]
  },
  {
   "cell_type": "code",
   "execution_count": 30,
   "metadata": {},
   "outputs": [],
   "source": [
    "# Drop WEIGHT + FOREARM\n",
    "m4 = lm(BODYFAT ~ ABDOMEN + WRIST, data = training.set)\n",
    "predictions = predict(m4,test.set)\n",
    "df4 = data.frame(RMSE = RMSE(predictions, test.set$BODYFAT),\n",
    "                 R2 = R2(predictions, test.set$BODYFAT))"
   ]
  },
  {
   "cell_type": "code",
   "execution_count": 31,
   "metadata": {},
   "outputs": [],
   "source": [
    "# Drop WEIGHT + WRIST\n",
    "m5 = lm(BODYFAT ~ ABDOMEN + FOREARM, data = training.set)\n",
    "predictions = predict(m5,test.set)\n",
    "df5 = data.frame(RMSE = RMSE(predictions, test.set$BODYFAT),\n",
    "                 R2 = R2(predictions, test.set$BODYFAT))"
   ]
  },
  {
   "cell_type": "code",
   "execution_count": 32,
   "metadata": {},
   "outputs": [],
   "source": [
    "# Drop WRIST + FOREARM\n",
    "m6 = lm(BODYFAT ~ WEIGHT + ABDOMEN, data = training.set)\n",
    "predictions = predict(m6,test.set)\n",
    "df6 = data.frame(RMSE = RMSE(predictions, test.set$BODYFAT),\n",
    "                 R2 = R2(predictions, test.set$BODYFAT))"
   ]
  },
  {
   "cell_type": "code",
   "execution_count": 33,
   "metadata": {},
   "outputs": [
    {
     "data": {
      "text/html": [
       "<table>\n",
       "<thead><tr><th scope=col>Models</th><th scope=col>RMSE</th><th scope=col>R2</th></tr></thead>\n",
       "<tbody>\n",
       "\t<tr><td>Full model               </td><td>4.040473                 </td><td>0.7676258                </td></tr>\n",
       "\t<tr><td>ABDOMEN + FOREARM + WRIST</td><td>4.461712                 </td><td>0.7315234                </td></tr>\n",
       "\t<tr><td>FOREARM + WRIST          </td><td>7.836991                 </td><td>0.0891449                </td></tr>\n",
       "\t<tr><td>ABDOMEN + WRIST          </td><td>4.364115                 </td><td>0.7520777                </td></tr>\n",
       "\t<tr><td>ABDOMEN + FOREARM        </td><td>4.814552                 </td><td>0.6708379                </td></tr>\n",
       "\t<tr><td>WEIGHT + ABDOMEN         </td><td>4.056376                 </td><td>0.7707813                </td></tr>\n",
       "</tbody>\n",
       "</table>\n"
      ],
      "text/latex": [
       "\\begin{tabular}{r|lll}\n",
       " Models & RMSE & R2\\\\\n",
       "\\hline\n",
       "\t Full model                & 4.040473                  & 0.7676258                \\\\\n",
       "\t ABDOMEN + FOREARM + WRIST & 4.461712                  & 0.7315234                \\\\\n",
       "\t FOREARM + WRIST           & 7.836991                  & 0.0891449                \\\\\n",
       "\t ABDOMEN + WRIST           & 4.364115                  & 0.7520777                \\\\\n",
       "\t ABDOMEN + FOREARM         & 4.814552                  & 0.6708379                \\\\\n",
       "\t WEIGHT + ABDOMEN          & 4.056376                  & 0.7707813                \\\\\n",
       "\\end{tabular}\n"
      ],
      "text/markdown": [
       "\n",
       "| Models | RMSE | R2 |\n",
       "|---|---|---|\n",
       "| Full model                | 4.040473                  | 0.7676258                 |\n",
       "| ABDOMEN + FOREARM + WRIST | 4.461712                  | 0.7315234                 |\n",
       "| FOREARM + WRIST           | 7.836991                  | 0.0891449                 |\n",
       "| ABDOMEN + WRIST           | 4.364115                  | 0.7520777                 |\n",
       "| ABDOMEN + FOREARM         | 4.814552                  | 0.6708379                 |\n",
       "| WEIGHT + ABDOMEN          | 4.056376                  | 0.7707813                 |\n",
       "\n"
      ],
      "text/plain": [
       "  Models                    RMSE     R2       \n",
       "1 Full model                4.040473 0.7676258\n",
       "2 ABDOMEN + FOREARM + WRIST 4.461712 0.7315234\n",
       "3 FOREARM + WRIST           7.836991 0.0891449\n",
       "4 ABDOMEN + WRIST           4.364115 0.7520777\n",
       "5 ABDOMEN + FOREARM         4.814552 0.6708379\n",
       "6 WEIGHT + ABDOMEN          4.056376 0.7707813"
      ]
     },
     "metadata": {},
     "output_type": "display_data"
    }
   ],
   "source": [
    "result= data.frame(c(\"Full model\", \"ABDOMEN + FOREARM + WRIST\", \"FOREARM + WRIST\",\n",
    "                            \"ABDOMEN + WRIST\", \"ABDOMEN + FOREARM\",\"WEIGHT + ABDOMEN\"))\n",
    "df = rbind(df1, df2, df3, df4, df5, df6)\n",
    "result = cbind(result, df)\n",
    "colnames(result) = c(\"Models\", \"RMSE\", \"R2\")\n",
    "result"
   ]
  },
  {
   "cell_type": "markdown",
   "metadata": {},
   "source": [
    "From the above table, we can conclude than **ABDOMEN + WRIST** and **ABDOMEN + FOREARM** are both suitable models."
   ]
  }
 ],
 "metadata": {
  "kernelspec": {
   "display_name": "R",
   "language": "R",
   "name": "ir"
  },
  "language_info": {
   "codemirror_mode": "r",
   "file_extension": ".r",
   "mimetype": "text/x-r-source",
   "name": "R",
   "pygments_lexer": "r",
   "version": "3.6.1"
  }
 },
 "nbformat": 4,
 "nbformat_minor": 4
}
