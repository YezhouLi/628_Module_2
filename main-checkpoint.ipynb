{
 "cells": [
  {
   "cell_type": "markdown",
   "metadata": {},
   "source": [
    "## 1. Load Data"
   ]
  },
  {
   "cell_type": "code",
   "execution_count": 1,
   "metadata": {},
   "outputs": [],
   "source": [
    "## assume working directory is the one that current juno is in\n",
    "set.seed(1)\n",
    "dt.path = \"Data/BodyFat.csv\"\n",
    "dt.fat = read.csv(dt.path)\n",
    "body.fat = subset(dt.fat, select = c(-IDNO))"
   ]
  },
  {
   "cell_type": "markdown",
   "metadata": {},
   "source": [
    "## 2. Data Description"
   ]
  },
  {
   "cell_type": "code",
   "execution_count": 2,
   "metadata": {},
   "outputs": [
    {
     "data": {
      "text/plain": [
       "      IDNO           BODYFAT         DENSITY           AGE       \n",
       " Min.   :  1.00   Min.   : 0.00   Min.   :0.995   Min.   :22.00  \n",
       " 1st Qu.: 63.75   1st Qu.:12.80   1st Qu.:1.041   1st Qu.:35.75  \n",
       " Median :126.50   Median :19.00   Median :1.055   Median :43.00  \n",
       " Mean   :126.50   Mean   :18.94   Mean   :1.056   Mean   :44.88  \n",
       " 3rd Qu.:189.25   3rd Qu.:24.60   3rd Qu.:1.070   3rd Qu.:54.00  \n",
       " Max.   :252.00   Max.   :45.10   Max.   :1.109   Max.   :81.00  \n",
       "     WEIGHT          HEIGHT        ADIPOSITY          NECK      \n",
       " Min.   :118.5   Min.   :29.50   Min.   :18.10   Min.   :31.10  \n",
       " 1st Qu.:159.0   1st Qu.:68.25   1st Qu.:23.10   1st Qu.:36.40  \n",
       " Median :176.5   Median :70.00   Median :25.05   Median :38.00  \n",
       " Mean   :178.9   Mean   :70.15   Mean   :25.44   Mean   :37.99  \n",
       " 3rd Qu.:197.0   3rd Qu.:72.25   3rd Qu.:27.32   3rd Qu.:39.42  \n",
       " Max.   :363.1   Max.   :77.75   Max.   :48.90   Max.   :51.20  \n",
       "     CHEST           ABDOMEN            HIP            THIGH      \n",
       " Min.   : 79.30   Min.   : 69.40   Min.   : 85.0   Min.   :47.20  \n",
       " 1st Qu.: 94.35   1st Qu.: 84.58   1st Qu.: 95.5   1st Qu.:56.00  \n",
       " Median : 99.65   Median : 90.95   Median : 99.3   Median :59.00  \n",
       " Mean   :100.82   Mean   : 92.56   Mean   : 99.9   Mean   :59.41  \n",
       " 3rd Qu.:105.38   3rd Qu.: 99.33   3rd Qu.:103.5   3rd Qu.:62.35  \n",
       " Max.   :136.20   Max.   :148.10   Max.   :147.7   Max.   :87.30  \n",
       "      KNEE           ANKLE          BICEPS         FOREARM          WRIST      \n",
       " Min.   :33.00   Min.   :19.1   Min.   :24.80   Min.   :21.00   Min.   :15.80  \n",
       " 1st Qu.:36.98   1st Qu.:22.0   1st Qu.:30.20   1st Qu.:27.30   1st Qu.:17.60  \n",
       " Median :38.50   Median :22.8   Median :32.05   Median :28.70   Median :18.30  \n",
       " Mean   :38.59   Mean   :23.1   Mean   :32.27   Mean   :28.66   Mean   :18.23  \n",
       " 3rd Qu.:39.92   3rd Qu.:24.0   3rd Qu.:34.33   3rd Qu.:30.00   3rd Qu.:18.80  \n",
       " Max.   :49.10   Max.   :33.9   Max.   :45.00   Max.   :34.90   Max.   :21.40  "
      ]
     },
     "metadata": {},
     "output_type": "display_data"
    }
   ],
   "source": [
    "summary(dt.fat)"
   ]
  },
  {
   "cell_type": "code",
   "execution_count": 3,
   "metadata": {},
   "outputs": [
    {
     "name": "stdout",
     "output_type": "stream",
     "text": [
      "'data.frame':\t252 obs. of  17 variables:\n",
      " $ IDNO     : int  1 2 3 4 5 6 7 8 9 10 ...\n",
      " $ BODYFAT  : num  12.6 6.9 24.6 10.9 27.8 20.6 19 12.8 5.1 12 ...\n",
      " $ DENSITY  : num  1.07 1.09 1.04 1.08 1.03 ...\n",
      " $ AGE      : int  23 22 22 26 24 24 26 25 25 23 ...\n",
      " $ WEIGHT   : num  154 173 154 185 184 ...\n",
      " $ HEIGHT   : num  67.8 72.2 66.2 72.2 71.2 ...\n",
      " $ ADIPOSITY: num  23.7 23.4 24.7 24.9 25.6 26.5 26.2 23.6 24.6 25.8 ...\n",
      " $ NECK     : num  36.2 38.5 34 37.4 34.4 39 36.4 37.8 38.1 42.1 ...\n",
      " $ CHEST    : num  93.1 93.6 95.8 101.8 97.3 ...\n",
      " $ ABDOMEN  : num  85.2 83 87.9 86.4 100 94.4 90.7 88.5 82.5 88.6 ...\n",
      " $ HIP      : num  94.5 98.7 99.2 101.2 101.9 ...\n",
      " $ THIGH    : num  59 58.7 59.6 60.1 63.2 66 58.4 60 62.9 63.1 ...\n",
      " $ KNEE     : num  37.3 37.3 38.9 37.3 42.2 42 38.3 39.4 38.3 41.7 ...\n",
      " $ ANKLE    : num  21.9 23.4 24 22.8 24 25.6 22.9 23.2 23.8 25 ...\n",
      " $ BICEPS   : num  32 30.5 28.8 32.4 32.2 35.7 31.9 30.5 35.9 35.6 ...\n",
      " $ FOREARM  : num  27.4 28.9 25.2 29.4 27.7 30.6 27.8 29 31.1 30 ...\n",
      " $ WRIST    : num  17.1 18.2 16.6 18.2 17.7 18.8 17.7 18.8 18.2 19.2 ...\n"
     ]
    }
   ],
   "source": [
    "str(dt.fat)"
   ]
  },
  {
   "cell_type": "code",
   "execution_count": 4,
   "metadata": {},
   "outputs": [
    {
     "data": {
      "image/png": "[encoded data removed]",
      "text/plain": [
       "Plot with title \"Histogram of Adiposity\""
      ]
     },
     "metadata": {},
     "output_type": "display_data"
    }
   ],
   "source": [
    "par(mfrow=c(2,3))\n",
    "hist(dt.fat$BODYFAT,breaks = 20, \n",
    "     main = \"Histogram of Bodyfat\",xlab=\"Bodyfat %\")\n",
    "hist(dt.fat$DENSITY,breaks = 20, \n",
    "     main = \"Histogram of Density\",xlab=\"Density\")\n",
    "hist(dt.fat$AGE,breaks = 20, \n",
    "     main = \"Histogram of Age\",xlab=\"Age\")\n",
    "hist(dt.fat$WEIGHT,breaks = 20, \n",
    "     main = \"Histogram of Weight\",xlab=\"Weight\")\n",
    "hist(dt.fat$HEIGHT,breaks = 20, \n",
    "     main = \"Histogram of Height\",xlab=\"Height\")\n",
    "hist(dt.fat$ADIPOSITY,breaks = 20, \n",
    "     main = \"Histogram of Adiposity\",xlab=\"Adiposity\")"
   ]
  },
  {
   "cell_type": "markdown",
   "metadata": {},
   "source": [
    "## 3. Data Cleaning"
   ]
  },
  {
   "cell_type": "markdown",
   "metadata": {},
   "source": [
    "Given Siri's equation, we know that\n",
    "$$B = \\frac{495}{D} - 450\\ ,\\ where$$\n",
    "* B = proportion of fat tissue * 100 = BODYFAT\n",
    "* D = Body Density = DENSITY\n",
    "\n",
    "This formula can be used to find outliers in data. "
   ]
  },
  {
   "cell_type": "code",
   "execution_count": 5,
   "metadata": {},
   "outputs": [
    {
     "data": {
      "image/png": "[encoded data removed]",
      "text/plain": [
       "plot without title"
      ]
     },
     "metadata": {},
     "output_type": "display_data"
    }
   ],
   "source": [
    "plot(dt.fat$BODYFAT ~ 1/dt.fat$DENSITY)"
   ]
  },
  {
   "cell_type": "code",
   "execution_count": 6,
   "metadata": {},
   "outputs": [],
   "source": [
    "body.fat = body.fat[,-2]"
   ]
  },
  {
   "cell_type": "code",
   "execution_count": 7,
   "metadata": {},
   "outputs": [
    {
     "data": {
      "text/html": [
       "<table>\n",
       "<thead><tr><th scope=col>BODYFAT</th><th scope=col>AGE</th><th scope=col>WEIGHT</th><th scope=col>HEIGHT</th><th scope=col>ADIPOSITY</th><th scope=col>NECK</th><th scope=col>CHEST</th><th scope=col>ABDOMEN</th><th scope=col>HIP</th><th scope=col>THIGH</th><th scope=col>KNEE</th><th scope=col>ANKLE</th><th scope=col>BICEPS</th><th scope=col>FOREARM</th><th scope=col>WRIST</th></tr></thead>\n",
       "<tbody>\n",
       "\t<tr><td>12.6  </td><td>23    </td><td>154.25</td><td>67.75 </td><td>23.7  </td><td>36.2  </td><td> 93.1 </td><td> 85.2 </td><td> 94.5 </td><td>59.0  </td><td>37.3  </td><td>21.9  </td><td>32.0  </td><td>27.4  </td><td>17.1  </td></tr>\n",
       "\t<tr><td> 6.9  </td><td>22    </td><td>173.25</td><td>72.25 </td><td>23.4  </td><td>38.5  </td><td> 93.6 </td><td> 83.0 </td><td> 98.7 </td><td>58.7  </td><td>37.3  </td><td>23.4  </td><td>30.5  </td><td>28.9  </td><td>18.2  </td></tr>\n",
       "\t<tr><td>24.6  </td><td>22    </td><td>154.00</td><td>66.25 </td><td>24.7  </td><td>34.0  </td><td> 95.8 </td><td> 87.9 </td><td> 99.2 </td><td>59.6  </td><td>38.9  </td><td>24.0  </td><td>28.8  </td><td>25.2  </td><td>16.6  </td></tr>\n",
       "\t<tr><td>10.9  </td><td>26    </td><td>184.75</td><td>72.25 </td><td>24.9  </td><td>37.4  </td><td>101.8 </td><td> 86.4 </td><td>101.2 </td><td>60.1  </td><td>37.3  </td><td>22.8  </td><td>32.4  </td><td>29.4  </td><td>18.2  </td></tr>\n",
       "\t<tr><td>27.8  </td><td>24    </td><td>184.25</td><td>71.25 </td><td>25.6  </td><td>34.4  </td><td> 97.3 </td><td>100.0 </td><td>101.9 </td><td>63.2  </td><td>42.2  </td><td>24.0  </td><td>32.2  </td><td>27.7  </td><td>17.7  </td></tr>\n",
       "\t<tr><td>20.6  </td><td>24    </td><td>210.25</td><td>74.75 </td><td>26.5  </td><td>39.0  </td><td>104.5 </td><td> 94.4 </td><td>107.8 </td><td>66.0  </td><td>42.0  </td><td>25.6  </td><td>35.7  </td><td>30.6  </td><td>18.8  </td></tr>\n",
       "</tbody>\n",
       "</table>\n"
      ],
      "text/latex": [
       "\\begin{tabular}{r|lllllllllllllll}\n",
       " BODYFAT & AGE & WEIGHT & HEIGHT & ADIPOSITY & NECK & CHEST & ABDOMEN & HIP & THIGH & KNEE & ANKLE & BICEPS & FOREARM & WRIST\\\\\n",
       "\\hline\n",
       "\t 12.6   & 23     & 154.25 & 67.75  & 23.7   & 36.2   &  93.1  &  85.2  &  94.5  & 59.0   & 37.3   & 21.9   & 32.0   & 27.4   & 17.1  \\\\\n",
       "\t  6.9   & 22     & 173.25 & 72.25  & 23.4   & 38.5   &  93.6  &  83.0  &  98.7  & 58.7   & 37.3   & 23.4   & 30.5   & 28.9   & 18.2  \\\\\n",
       "\t 24.6   & 22     & 154.00 & 66.25  & 24.7   & 34.0   &  95.8  &  87.9  &  99.2  & 59.6   & 38.9   & 24.0   & 28.8   & 25.2   & 16.6  \\\\\n",
       "\t 10.9   & 26     & 184.75 & 72.25  & 24.9   & 37.4   & 101.8  &  86.4  & 101.2  & 60.1   & 37.3   & 22.8   & 32.4   & 29.4   & 18.2  \\\\\n",
       "\t 27.8   & 24     & 184.25 & 71.25  & 25.6   & 34.4   &  97.3  & 100.0  & 101.9  & 63.2   & 42.2   & 24.0   & 32.2   & 27.7   & 17.7  \\\\\n",
       "\t 20.6   & 24     & 210.25 & 74.75  & 26.5   & 39.0   & 104.5  &  94.4  & 107.8  & 66.0   & 42.0   & 25.6   & 35.7   & 30.6   & 18.8  \\\\\n",
       "\\end{tabular}\n"
      ],
      "text/markdown": [
       "\n",
       "| BODYFAT | AGE | WEIGHT | HEIGHT | ADIPOSITY | NECK | CHEST | ABDOMEN | HIP | THIGH | KNEE | ANKLE | BICEPS | FOREARM | WRIST |\n",
       "|---|---|---|---|---|---|---|---|---|---|---|---|---|---|---|\n",
       "| 12.6   | 23     | 154.25 | 67.75  | 23.7   | 36.2   |  93.1  |  85.2  |  94.5  | 59.0   | 37.3   | 21.9   | 32.0   | 27.4   | 17.1   |\n",
       "|  6.9   | 22     | 173.25 | 72.25  | 23.4   | 38.5   |  93.6  |  83.0  |  98.7  | 58.7   | 37.3   | 23.4   | 30.5   | 28.9   | 18.2   |\n",
       "| 24.6   | 22     | 154.00 | 66.25  | 24.7   | 34.0   |  95.8  |  87.9  |  99.2  | 59.6   | 38.9   | 24.0   | 28.8   | 25.2   | 16.6   |\n",
       "| 10.9   | 26     | 184.75 | 72.25  | 24.9   | 37.4   | 101.8  |  86.4  | 101.2  | 60.1   | 37.3   | 22.8   | 32.4   | 29.4   | 18.2   |\n",
       "| 27.8   | 24     | 184.25 | 71.25  | 25.6   | 34.4   |  97.3  | 100.0  | 101.9  | 63.2   | 42.2   | 24.0   | 32.2   | 27.7   | 17.7   |\n",
       "| 20.6   | 24     | 210.25 | 74.75  | 26.5   | 39.0   | 104.5  |  94.4  | 107.8  | 66.0   | 42.0   | 25.6   | 35.7   | 30.6   | 18.8   |\n",
       "\n"
      ],
      "text/plain": [
       "  BODYFAT AGE WEIGHT HEIGHT ADIPOSITY NECK CHEST ABDOMEN HIP   THIGH KNEE ANKLE\n",
       "1 12.6    23  154.25 67.75  23.7      36.2  93.1  85.2    94.5 59.0  37.3 21.9 \n",
       "2  6.9    22  173.25 72.25  23.4      38.5  93.6  83.0    98.7 58.7  37.3 23.4 \n",
       "3 24.6    22  154.00 66.25  24.7      34.0  95.8  87.9    99.2 59.6  38.9 24.0 \n",
       "4 10.9    26  184.75 72.25  24.9      37.4 101.8  86.4   101.2 60.1  37.3 22.8 \n",
       "5 27.8    24  184.25 71.25  25.6      34.4  97.3 100.0   101.9 63.2  42.2 24.0 \n",
       "6 20.6    24  210.25 74.75  26.5      39.0 104.5  94.4   107.8 66.0  42.0 25.6 \n",
       "  BICEPS FOREARM WRIST\n",
       "1 32.0   27.4    17.1 \n",
       "2 30.5   28.9    18.2 \n",
       "3 28.8   25.2    16.6 \n",
       "4 32.4   29.4    18.2 \n",
       "5 32.2   27.7    17.7 \n",
       "6 35.7   30.6    18.8 "
      ]
     },
     "metadata": {},
     "output_type": "display_data"
    }
   ],
   "source": [
    "head(body.fat)"
   ]
  },
  {
   "cell_type": "code",
   "execution_count": 8,
   "metadata": {},
   "outputs": [
    {
     "data": {
      "image/png": "[encoded data removed]",
      "text/plain": [
       "Plot with title \"\""
      ]
     },
     "metadata": {},
     "output_type": "display_data"
    }
   ],
   "source": [
    "model.clean = lm(body.fat$BODYFAT ~ ., data = body.fat)\n",
    "# summary(model.clean)$coefficient\n",
    "plot(model.clean, which = 4)\n",
    "abline(h = 4/(dim(body.fat)[1]-dim(body.fat)[2]), lty = 2, col = 'blue')"
   ]
  },
  {
   "cell_type": "code",
   "execution_count": 9,
   "metadata": {},
   "outputs": [
    {
     "data": {
      "text/html": [
       "<table>\n",
       "<thead><tr><th></th><th scope=col>BODYFAT</th><th scope=col>AGE</th><th scope=col>WEIGHT</th><th scope=col>HEIGHT</th><th scope=col>ADIPOSITY</th><th scope=col>NECK</th><th scope=col>CHEST</th><th scope=col>ABDOMEN</th><th scope=col>HIP</th><th scope=col>THIGH</th><th scope=col>KNEE</th><th scope=col>ANKLE</th><th scope=col>BICEPS</th><th scope=col>FOREARM</th><th scope=col>WRIST</th></tr></thead>\n",
       "<tbody>\n",
       "\t<tr><th scope=row>39</th><td>33.80 </td><td>46.00 </td><td>363.15</td><td>72.25 </td><td>48.90 </td><td>51.20 </td><td>136.20</td><td>148.10</td><td>147.7 </td><td>87.30 </td><td>49.10 </td><td>29.6  </td><td>45.00 </td><td>29.00 </td><td>21.40 </td></tr>\n",
       "\t<tr><th scope=row>42</th><td>31.70 </td><td>44.00 </td><td>205.00</td><td>29.50 </td><td>29.90 </td><td>36.60 </td><td>106.00</td><td>104.30</td><td>115.5 </td><td>70.60 </td><td>42.50 </td><td>23.7  </td><td>33.60 </td><td>28.70 </td><td>17.40 </td></tr>\n",
       "\t<tr><th scope=row>86</th><td>25.80 </td><td>67.00 </td><td>167.00</td><td>67.50 </td><td>26.00 </td><td>36.50 </td><td> 98.90</td><td> 89.70</td><td> 96.2 </td><td>54.70 </td><td>37.80 </td><td>33.7  </td><td>32.40 </td><td>27.70 </td><td>18.20 </td></tr>\n",
       "\t<tr><th scope=row> Sample Mean</th><td>18.94 </td><td>44.88 </td><td>178.92</td><td>70.15 </td><td>25.44 </td><td>37.99 </td><td>100.82</td><td> 92.56</td><td> 99.9 </td><td>59.41 </td><td>38.59 </td><td>23.1  </td><td>32.27 </td><td>28.66 </td><td>18.23 </td></tr>\n",
       "</tbody>\n",
       "</table>\n"
      ],
      "text/latex": [
       "\\begin{tabular}{r|lllllllllllllll}\n",
       "  & BODYFAT & AGE & WEIGHT & HEIGHT & ADIPOSITY & NECK & CHEST & ABDOMEN & HIP & THIGH & KNEE & ANKLE & BICEPS & FOREARM & WRIST\\\\\n",
       "\\hline\n",
       "\t39 & 33.80  & 46.00  & 363.15 & 72.25  & 48.90  & 51.20  & 136.20 & 148.10 & 147.7  & 87.30  & 49.10  & 29.6   & 45.00  & 29.00  & 21.40 \\\\\n",
       "\t42 & 31.70  & 44.00  & 205.00 & 29.50  & 29.90  & 36.60  & 106.00 & 104.30 & 115.5  & 70.60  & 42.50  & 23.7   & 33.60  & 28.70  & 17.40 \\\\\n",
       "\t86 & 25.80  & 67.00  & 167.00 & 67.50  & 26.00  & 36.50  &  98.90 &  89.70 &  96.2  & 54.70  & 37.80  & 33.7   & 32.40  & 27.70  & 18.20 \\\\\n",
       "\t Sample Mean & 18.94  & 44.88  & 178.92 & 70.15  & 25.44  & 37.99  & 100.82 &  92.56 &  99.9  & 59.41  & 38.59  & 23.1   & 32.27  & 28.66  & 18.23 \\\\\n",
       "\\end{tabular}\n"
      ],
      "text/markdown": [
       "\n",
       "| <!--/--> | BODYFAT | AGE | WEIGHT | HEIGHT | ADIPOSITY | NECK | CHEST | ABDOMEN | HIP | THIGH | KNEE | ANKLE | BICEPS | FOREARM | WRIST |\n",
       "|---|---|---|---|---|---|---|---|---|---|---|---|---|---|---|---|\n",
       "| 39 | 33.80  | 46.00  | 363.15 | 72.25  | 48.90  | 51.20  | 136.20 | 148.10 | 147.7  | 87.30  | 49.10  | 29.6   | 45.00  | 29.00  | 21.40  |\n",
       "| 42 | 31.70  | 44.00  | 205.00 | 29.50  | 29.90  | 36.60  | 106.00 | 104.30 | 115.5  | 70.60  | 42.50  | 23.7   | 33.60  | 28.70  | 17.40  |\n",
       "| 86 | 25.80  | 67.00  | 167.00 | 67.50  | 26.00  | 36.50  |  98.90 |  89.70 |  96.2  | 54.70  | 37.80  | 33.7   | 32.40  | 27.70  | 18.20  |\n",
       "|  Sample Mean | 18.94  | 44.88  | 178.92 | 70.15  | 25.44  | 37.99  | 100.82 |  92.56 |  99.9  | 59.41  | 38.59  | 23.1   | 32.27  | 28.66  | 18.23  |\n",
       "\n"
      ],
      "text/plain": [
       "             BODYFAT AGE   WEIGHT HEIGHT ADIPOSITY NECK  CHEST  ABDOMEN HIP  \n",
       "39           33.80   46.00 363.15 72.25  48.90     51.20 136.20 148.10  147.7\n",
       "42           31.70   44.00 205.00 29.50  29.90     36.60 106.00 104.30  115.5\n",
       "86           25.80   67.00 167.00 67.50  26.00     36.50  98.90  89.70   96.2\n",
       " Sample Mean 18.94   44.88 178.92 70.15  25.44     37.99 100.82  92.56   99.9\n",
       "             THIGH KNEE  ANKLE BICEPS FOREARM WRIST\n",
       "39           87.30 49.10 29.6  45.00  29.00   21.40\n",
       "42           70.60 42.50 23.7  33.60  28.70   17.40\n",
       "86           54.70 37.80 33.7  32.40  27.70   18.20\n",
       " Sample Mean 59.41 38.59 23.1  32.27  28.66   18.23"
      ]
     },
     "metadata": {},
     "output_type": "display_data"
    }
   ],
   "source": [
    "col.mean = round(sapply(body.fat, dim = 1, FUN = mean), digits = 2)\n",
    ". = rbind(body.fat[c(39, 42, 86), ], col.mean)\n",
    "rownames(.)[4] = ' Sample Mean'\n",
    "."
   ]
  },
  {
   "cell_type": "markdown",
   "metadata": {},
   "source": [
    "* Sample 39 is highly overweighted but other measurements are also larger than the average. We think this person is just to fat.\n",
    "* Sample 42 is unusually short with other measurements looks normal. Its height may be a mistake. We can consider drop it.\n",
    "* Sample 86 has relatively larger Cook's distance. However, \\#86 is merely a stronger person whose body measurements are within normal range. \n",
    "\n",
    "**Therefore, \\#42 should be removed from our 'Rule-of-Thumb' model.**  \n",
    "**However, \\#39 and \\#86 should be kept in our model.**"
   ]
  },
  {
   "cell_type": "code",
   "execution_count": 10,
   "metadata": {},
   "outputs": [],
   "source": [
    "body.fat=body.fat[-42,]"
   ]
  },
  {
   "cell_type": "markdown",
   "metadata": {},
   "source": [
    "We can also use some outlier functions to find some other unreasonal points."
   ]
  },
  {
   "cell_type": "code",
   "execution_count": 11,
   "metadata": {},
   "outputs": [
    {
     "name": "stdout",
     "output_type": "stream",
     "text": [
      "package 'car' successfully unpacked and MD5 sums checked\n",
      "\n",
      "The downloaded binary packages are in\n",
      "\tC:\\Users\\pingy\\AppData\\Local\\Temp\\RtmpkzAlc9\\downloaded_packages\n"
     ]
    },
    {
     "name": "stderr",
     "output_type": "stream",
     "text": [
      "Loading required package: carData\n"
     ]
    },
    {
     "data": {
      "text/plain": [
       "No Studentized residuals with Bonferroni p < 0.05\n",
       "Largest |rstudent|:\n",
       "     rstudent unadjusted p-value Bonferroni p\n",
       "221 -2.874119          0.0044229           NA"
      ]
     },
     "metadata": {},
     "output_type": "display_data"
    }
   ],
   "source": [
    "install.packages(\"car\")\n",
    "library(car)\n",
    "outlierTest(lm(body.fat$BODYFAT ~ ., data = body.fat))"
   ]
  },
  {
   "cell_type": "code",
   "execution_count": 12,
   "metadata": {},
   "outputs": [
    {
     "data": {
      "image/png": "[encoded data removed]",
      "text/plain": [
       "Plot with title \"\""
      ]
     },
     "metadata": {},
     "output_type": "display_data"
    }
   ],
   "source": [
    "model.clean2 = lm(body.fat$BODYFAT ~ ., data = body.fat)\n",
    "layout(matrix(1:4, ncol = 2))\n",
    "plot(model.clean2)"
   ]
  },
  {
   "cell_type": "markdown",
   "metadata": {},
   "source": [
    "## 3. Variable Selection"
   ]
  },
  {
   "cell_type": "markdown",
   "metadata": {},
   "source": [
    "#### Forward selection using AIC"
   ]
  },
  {
   "cell_type": "code",
   "execution_count": 13,
   "metadata": {},
   "outputs": [
    {
     "data": {
      "text/plain": [
       "\n",
       "Call:\n",
       "lm(formula = body.fat$BODYFAT ~ ABDOMEN + WEIGHT + WRIST + FOREARM + \n",
       "    NECK + BICEPS + AGE + THIGH + HIP, data = body.fat)\n",
       "\n",
       "Residuals:\n",
       "     Min       1Q   Median       3Q      Max \n",
       "-10.0323  -2.5490  -0.1124   2.8708   9.3640 \n",
       "\n",
       "Coefficients:\n",
       "             Estimate Std. Error t value Pr(>|t|)    \n",
       "(Intercept) -20.09347   10.89701  -1.844  0.06642 .  \n",
       "ABDOMEN       0.88456    0.06698  13.207  < 2e-16 ***\n",
       "WEIGHT       -0.08969    0.03781  -2.372  0.01848 *  \n",
       "WRIST        -1.37750    0.47430  -2.904  0.00402 ** \n",
       "FOREARM       0.42275    0.18171   2.327  0.02082 *  \n",
       "NECK         -0.44246    0.21019  -2.105  0.03633 *  \n",
       "BICEPS        0.15467    0.15607   0.991  0.32267    \n",
       "AGE           0.05472    0.02882   1.899  0.05876 .  \n",
       "THIGH         0.24661    0.12445   1.982  0.04866 *  \n",
       "HIP          -0.19116    0.13058  -1.464  0.14453    \n",
       "---\n",
       "Signif. codes:  0 '***' 0.001 '**' 0.01 '*' 0.05 '.' 0.1 ' ' 1\n",
       "\n",
       "Residual standard error: 3.969 on 241 degrees of freedom\n",
       "Multiple R-squared:  0.7454,\tAdjusted R-squared:  0.7359 \n",
       "F-statistic: 78.41 on 9 and 241 DF,  p-value: < 2.2e-16\n"
      ]
     },
     "metadata": {},
     "output_type": "display_data"
    }
   ],
   "source": [
    "model.1 <- lm(body.fat$BODYFAT~1,data = body.fat)\n",
    "model.AIC.forward <- step(model.1,list(lower = model.1,upper = model.clean2),k = 2,direction = \"forward\",trace = 0)\n",
    "summary(model.AIC.forward)"
   ]
  },
  {
   "cell_type": "markdown",
   "metadata": {},
   "source": [
    "#### Backward selection using AIC"
   ]
  },
  {
   "cell_type": "code",
   "execution_count": 14,
   "metadata": {},
   "outputs": [
    {
     "data": {
      "text/plain": [
       "\n",
       "Call:\n",
       "lm(formula = body.fat$BODYFAT ~ AGE + WEIGHT + NECK + ABDOMEN + \n",
       "    HIP + THIGH + FOREARM + WRIST, data = body.fat)\n",
       "\n",
       "Residuals:\n",
       "     Min       1Q   Median       3Q      Max \n",
       "-10.0169  -2.7372  -0.1662   2.7053   9.5436 \n",
       "\n",
       "Coefficients:\n",
       "             Estimate Std. Error t value Pr(>|t|)    \n",
       "(Intercept) -19.55135   10.88287  -1.797  0.07366 .  \n",
       "AGE           0.05679    0.02874   1.976  0.04927 *  \n",
       "WEIGHT       -0.08235    0.03708  -2.221  0.02729 *  \n",
       "NECK         -0.41978    0.20893  -2.009  0.04563 *  \n",
       "ABDOMEN       0.88059    0.06686  13.171  < 2e-16 ***\n",
       "HIP          -0.20147    0.13016  -1.548  0.12297    \n",
       "THIGH         0.27889    0.12011   2.322  0.02106 *  \n",
       "FOREARM       0.47843    0.17280   2.769  0.00606 ** \n",
       "WRIST        -1.37393    0.47426  -2.897  0.00411 ** \n",
       "---\n",
       "Signif. codes:  0 '***' 0.001 '**' 0.01 '*' 0.05 '.' 0.1 ' ' 1\n",
       "\n",
       "Residual standard error: 3.969 on 242 degrees of freedom\n",
       "Multiple R-squared:  0.7444,\tAdjusted R-squared:  0.736 \n",
       "F-statistic:  88.1 on 8 and 242 DF,  p-value: < 2.2e-16\n"
      ]
     },
     "metadata": {},
     "output_type": "display_data"
    }
   ],
   "source": [
    "model.AIC.backward <- step(model.clean2,k = 2,direction = \"backward\",trace = 0)\n",
    "summary(model.AIC.backward)"
   ]
  },
  {
   "cell_type": "markdown",
   "metadata": {},
   "source": [
    "#### Forward selection using BIC"
   ]
  },
  {
   "cell_type": "code",
   "execution_count": 15,
   "metadata": {},
   "outputs": [
    {
     "data": {
      "text/plain": [
       "\n",
       "Call:\n",
       "lm(formula = body.fat$BODYFAT ~ ABDOMEN + WEIGHT + WRIST + FOREARM, \n",
       "    data = body.fat)\n",
       "\n",
       "Residuals:\n",
       "    Min      1Q  Median      3Q     Max \n",
       "-9.8363 -2.9878 -0.1322  2.8660  8.3831 \n",
       "\n",
       "Coefficients:\n",
       "             Estimate Std. Error t value Pr(>|t|)    \n",
       "(Intercept) -31.99546    6.74318  -4.745 3.54e-06 ***\n",
       "ABDOMEN       0.91990    0.05193  17.713  < 2e-16 ***\n",
       "WEIGHT       -0.12695    0.02296  -5.530 8.15e-08 ***\n",
       "WRIST        -1.33512    0.41362  -3.228  0.00142 ** \n",
       "FOREARM       0.44756    0.16821   2.661  0.00831 ** \n",
       "---\n",
       "Signif. codes:  0 '***' 0.001 '**' 0.01 '*' 0.05 '.' 0.1 ' ' 1\n",
       "\n",
       "Residual standard error: 4.021 on 246 degrees of freedom\n",
       "Multiple R-squared:  0.7333,\tAdjusted R-squared:  0.729 \n",
       "F-statistic: 169.1 on 4 and 246 DF,  p-value: < 2.2e-16\n"
      ]
     },
     "metadata": {},
     "output_type": "display_data"
    }
   ],
   "source": [
    "model.BIC.forward <- step(model.1,list(lower = model.1,upper = model.clean2),k = log(dim(body.fat)[1]),direction = \"forward\",trace = 0)\n",
    "summary(model.BIC.forward)"
   ]
  },
  {
   "cell_type": "markdown",
   "metadata": {},
   "source": [
    "#### Backward selection using BIC"
   ]
  },
  {
   "cell_type": "code",
   "execution_count": 16,
   "metadata": {},
   "outputs": [
    {
     "data": {
      "text/plain": [
       "\n",
       "Call:\n",
       "lm(formula = body.fat$BODYFAT ~ WEIGHT + ABDOMEN + FOREARM + \n",
       "    WRIST, data = body.fat)\n",
       "\n",
       "Residuals:\n",
       "    Min      1Q  Median      3Q     Max \n",
       "-9.8363 -2.9878 -0.1322  2.8660  8.3831 \n",
       "\n",
       "Coefficients:\n",
       "             Estimate Std. Error t value Pr(>|t|)    \n",
       "(Intercept) -31.99546    6.74318  -4.745 3.54e-06 ***\n",
       "WEIGHT       -0.12695    0.02296  -5.530 8.15e-08 ***\n",
       "ABDOMEN       0.91990    0.05193  17.713  < 2e-16 ***\n",
       "FOREARM       0.44756    0.16821   2.661  0.00831 ** \n",
       "WRIST        -1.33512    0.41362  -3.228  0.00142 ** \n",
       "---\n",
       "Signif. codes:  0 '***' 0.001 '**' 0.01 '*' 0.05 '.' 0.1 ' ' 1\n",
       "\n",
       "Residual standard error: 4.021 on 246 degrees of freedom\n",
       "Multiple R-squared:  0.7333,\tAdjusted R-squared:  0.729 \n",
       "F-statistic: 169.1 on 4 and 246 DF,  p-value: < 2.2e-16\n"
      ]
     },
     "metadata": {},
     "output_type": "display_data"
    }
   ],
   "source": [
    "model.BIC.backward <- step(model.clean2,k = log(dim(body.fat)[1]),direction = \"backward\",trace = 0)\n",
    "summary(model.BIC.backward)"
   ]
  },
  {
   "cell_type": "markdown",
   "metadata": {},
   "source": [
    "#### Back/forward selection uing A/BIC"
   ]
  },
  {
   "cell_type": "code",
   "execution_count": 17,
   "metadata": {},
   "outputs": [],
   "source": [
    "model.full = lm(body.fat$BODYFAT ~ ., body.fat)"
   ]
  },
  {
   "cell_type": "code",
   "execution_count": 18,
   "metadata": {},
   "outputs": [
    {
     "data": {
      "text/plain": [
       "\n",
       "Call:\n",
       "lm(formula = body.fat$BODYFAT ~ AGE + WEIGHT + NECK + ABDOMEN + \n",
       "    HIP + THIGH + FOREARM + WRIST, data = body.fat)\n",
       "\n",
       "Residuals:\n",
       "     Min       1Q   Median       3Q      Max \n",
       "-10.0169  -2.7372  -0.1662   2.7053   9.5436 \n",
       "\n",
       "Coefficients:\n",
       "             Estimate Std. Error t value Pr(>|t|)    \n",
       "(Intercept) -19.55135   10.88287  -1.797  0.07366 .  \n",
       "AGE           0.05679    0.02874   1.976  0.04927 *  \n",
       "WEIGHT       -0.08235    0.03708  -2.221  0.02729 *  \n",
       "NECK         -0.41978    0.20893  -2.009  0.04563 *  \n",
       "ABDOMEN       0.88059    0.06686  13.171  < 2e-16 ***\n",
       "HIP          -0.20147    0.13016  -1.548  0.12297    \n",
       "THIGH         0.27889    0.12011   2.322  0.02106 *  \n",
       "FOREARM       0.47843    0.17280   2.769  0.00606 ** \n",
       "WRIST        -1.37393    0.47426  -2.897  0.00411 ** \n",
       "---\n",
       "Signif. codes:  0 '***' 0.001 '**' 0.01 '*' 0.05 '.' 0.1 ' ' 1\n",
       "\n",
       "Residual standard error: 3.969 on 242 degrees of freedom\n",
       "Multiple R-squared:  0.7444,\tAdjusted R-squared:  0.736 \n",
       "F-statistic:  88.1 on 8 and 242 DF,  p-value: < 2.2e-16\n"
      ]
     },
     "metadata": {},
     "output_type": "display_data"
    }
   ],
   "source": [
    "model.aic.both = step(model.full, direction = \"both\", k = 2, trace = 0)\n",
    "summary(model.aic.both)"
   ]
  },
  {
   "cell_type": "code",
   "execution_count": 19,
   "metadata": {},
   "outputs": [
    {
     "data": {
      "text/plain": [
       "\n",
       "Call:\n",
       "lm(formula = body.fat$BODYFAT ~ WEIGHT + ABDOMEN + FOREARM + \n",
       "    WRIST, data = body.fat)\n",
       "\n",
       "Residuals:\n",
       "    Min      1Q  Median      3Q     Max \n",
       "-9.8363 -2.9878 -0.1322  2.8660  8.3831 \n",
       "\n",
       "Coefficients:\n",
       "             Estimate Std. Error t value Pr(>|t|)    \n",
       "(Intercept) -31.99546    6.74318  -4.745 3.54e-06 ***\n",
       "WEIGHT       -0.12695    0.02296  -5.530 8.15e-08 ***\n",
       "ABDOMEN       0.91990    0.05193  17.713  < 2e-16 ***\n",
       "FOREARM       0.44756    0.16821   2.661  0.00831 ** \n",
       "WRIST        -1.33512    0.41362  -3.228  0.00142 ** \n",
       "---\n",
       "Signif. codes:  0 '***' 0.001 '**' 0.01 '*' 0.05 '.' 0.1 ' ' 1\n",
       "\n",
       "Residual standard error: 4.021 on 246 degrees of freedom\n",
       "Multiple R-squared:  0.7333,\tAdjusted R-squared:  0.729 \n",
       "F-statistic: 169.1 on 4 and 246 DF,  p-value: < 2.2e-16\n"
      ]
     },
     "metadata": {},
     "output_type": "display_data"
    }
   ],
   "source": [
    "model.bic.both = step(model.full, direction = \"both\", k = log(dim(body.fat)[1]), trace = 0)\n",
    "summary(model.bic.both)"
   ]
  },
  {
   "cell_type": "markdown",
   "metadata": {},
   "source": [
    "#### Mallow's Cp"
   ]
  },
  {
   "cell_type": "code",
   "execution_count": 20,
   "metadata": {},
   "outputs": [
    {
     "name": "stdout",
     "output_type": "stream",
     "text": [
      "package 'leaps' successfully unpacked and MD5 sums checked\n",
      "\n",
      "The downloaded binary packages are in\n",
      "\tC:\\Users\\pingy\\AppData\\Local\\Temp\\RtmpkzAlc9\\downloaded_packages\n",
      "package 'faraway' successfully unpacked and MD5 sums checked\n",
      "\n",
      "The downloaded binary packages are in\n",
      "\tC:\\Users\\pingy\\AppData\\Local\\Temp\\RtmpkzAlc9\\downloaded_packages\n"
     ]
    },
    {
     "name": "stderr",
     "output_type": "stream",
     "text": [
      "Registered S3 methods overwritten by 'lme4':\n",
      "  method                          from\n",
      "  cooks.distance.influence.merMod car \n",
      "  influence.merMod                car \n",
      "  dfbeta.influence.merMod         car \n",
      "  dfbetas.influence.merMod        car \n",
      "\n",
      "Attaching package: 'faraway'\n",
      "\n",
      "The following objects are masked from 'package:car':\n",
      "\n",
      "    logit, vif\n",
      "\n"
     ]
    }
   ],
   "source": [
    "#detach(\"package:car\")\n",
    "install.packages(\"leaps\")\n",
    "library(leaps) # for leaps()\n",
    "install.packages(\"faraway\")\n",
    "library(faraway) # for Cpplot()"
   ]
  },
  {
   "cell_type": "code",
   "execution_count": 21,
   "metadata": {},
   "outputs": [
    {
     "data": {
      "image/png": "[encoded data removed]",
      "text/plain": [
       "plot without title"
      ]
     },
     "metadata": {},
     "output_type": "display_data"
    }
   ],
   "source": [
    "X = model.matrix(model.full)[,-1]\n",
    "Y = body.fat[,1]\n",
    "g = leaps::leaps(X,Y,nbest=1)\n",
    "Cpplot(g) # Include all variable."
   ]
  },
  {
   "cell_type": "markdown",
   "metadata": {},
   "source": [
    "#### $R^2$"
   ]
  },
  {
   "cell_type": "code",
   "execution_count": 22,
   "metadata": {},
   "outputs": [
    {
     "data": {
      "text/html": [
       "<dl class=dl-horizontal>\n",
       "\t<dt>1</dt>\n",
       "\t\t<dd>TRUE</dd>\n",
       "\t<dt>2</dt>\n",
       "\t\t<dd>TRUE</dd>\n",
       "\t<dt>3</dt>\n",
       "\t\t<dd>FALSE</dd>\n",
       "\t<dt>4</dt>\n",
       "\t\t<dd>FALSE</dd>\n",
       "\t<dt>5</dt>\n",
       "\t\t<dd>TRUE</dd>\n",
       "\t<dt>6</dt>\n",
       "\t\t<dd>FALSE</dd>\n",
       "\t<dt>7</dt>\n",
       "\t\t<dd>TRUE</dd>\n",
       "\t<dt>8</dt>\n",
       "\t\t<dd>TRUE</dd>\n",
       "\t<dt>9</dt>\n",
       "\t\t<dd>TRUE</dd>\n",
       "\t<dt>A</dt>\n",
       "\t\t<dd>FALSE</dd>\n",
       "\t<dt>B</dt>\n",
       "\t\t<dd>FALSE</dd>\n",
       "\t<dt>C</dt>\n",
       "\t\t<dd>FALSE</dd>\n",
       "\t<dt>D</dt>\n",
       "\t\t<dd>TRUE</dd>\n",
       "\t<dt>E</dt>\n",
       "\t\t<dd>TRUE</dd>\n",
       "</dl>\n"
      ],
      "text/latex": [
       "\\begin{description*}\n",
       "\\item[1] TRUE\n",
       "\\item[2] TRUE\n",
       "\\item[3] FALSE\n",
       "\\item[4] FALSE\n",
       "\\item[5] TRUE\n",
       "\\item[6] FALSE\n",
       "\\item[7] TRUE\n",
       "\\item[8] TRUE\n",
       "\\item[9] TRUE\n",
       "\\item[A] FALSE\n",
       "\\item[B] FALSE\n",
       "\\item[C] FALSE\n",
       "\\item[D] TRUE\n",
       "\\item[E] TRUE\n",
       "\\end{description*}\n"
      ],
      "text/markdown": [
       "1\n",
       ":   TRUE2\n",
       ":   TRUE3\n",
       ":   FALSE4\n",
       ":   FALSE5\n",
       ":   TRUE6\n",
       ":   FALSE7\n",
       ":   TRUE8\n",
       ":   TRUE9\n",
       ":   TRUEA\n",
       ":   FALSEB\n",
       ":   FALSEC\n",
       ":   FALSED\n",
       ":   TRUEE\n",
       ":   TRUE\n",
       "\n"
      ],
      "text/plain": [
       "    1     2     3     4     5     6     7     8     9     A     B     C     D \n",
       " TRUE  TRUE FALSE FALSE  TRUE FALSE  TRUE  TRUE  TRUE FALSE FALSE FALSE  TRUE \n",
       "    E \n",
       " TRUE "
      ]
     },
     "metadata": {},
     "output_type": "display_data"
    },
    {
     "data": {
      "image/png": "[encoded data removed]",
      "text/plain": [
       "plot without title"
      ]
     },
     "metadata": {},
     "output_type": "display_data"
    }
   ],
   "source": [
    "r = leaps::leaps(X,Y,nbest=1, method=\"adjr2\")\n",
    "plot(r$adjr2)\n",
    "(r$which)[which(r$adjr2 == max(r$adjr2)),]"
   ]
  },
  {
   "cell_type": "markdown",
   "metadata": {},
   "source": [
    "* Overall, based on various criterions (AIC, BIC, Mallow's Cp and R squared), the simplest model is \n",
    "$$\\text{Bodyfat} = \\text{Weight} + \\text{Abdomen} + \\text{Wrist} + \\text{Forearm}$$\n",
    "* Next, we are going to use **VIF** to detect possible multicolinearity problem among the four variables."
   ]
  },
  {
   "cell_type": "markdown",
   "metadata": {},
   "source": [
    "## Multicolinearity"
   ]
  },
  {
   "cell_type": "code",
   "execution_count": 24,
   "metadata": {},
   "outputs": [
    {
     "name": "stderr",
     "output_type": "stream",
     "text": [
      "The following objects are masked from body.fat (pos = 3):\n",
      "\n",
      "    ABDOMEN, ADIPOSITY, AGE, ANKLE, BICEPS, BODYFAT, CHEST, FOREARM,\n",
      "    HEIGHT, HIP, KNEE, NECK, THIGH, WEIGHT, WRIST\n",
      "\n"
     ]
    }
   ],
   "source": [
    "attach(body.fat)"
   ]
  },
  {
   "cell_type": "code",
   "execution_count": 26,
   "metadata": {},
   "outputs": [],
   "source": [
    "training.samples = sample(1:251,size = round(251*0.7))\n",
    "training.set = body.fat[training.samples,]\n",
    "test.set = body.fat[-training.samples,]"
   ]
  },
  {
   "cell_type": "code",
   "execution_count": 27,
   "metadata": {},
   "outputs": [
    {
     "data": {
      "text/html": [
       "<dl class=dl-horizontal>\n",
       "\t<dt>WEIGHT</dt>\n",
       "\t\t<dd>7.7586746849788</dd>\n",
       "\t<dt>ABDOMEN</dt>\n",
       "\t\t<dd>5.12945247251737</dd>\n",
       "\t<dt>WRIST</dt>\n",
       "\t\t<dd>2.41581125547551</dd>\n",
       "\t<dt>FOREARM</dt>\n",
       "\t\t<dd>1.76875390159978</dd>\n",
       "</dl>\n"
      ],
      "text/latex": [
       "\\begin{description*}\n",
       "\\item[WEIGHT] 7.7586746849788\n",
       "\\item[ABDOMEN] 5.12945247251737\n",
       "\\item[WRIST] 2.41581125547551\n",
       "\\item[FOREARM] 1.76875390159978\n",
       "\\end{description*}\n"
      ],
      "text/markdown": [
       "WEIGHT\n",
       ":   7.7586746849788ABDOMEN\n",
       ":   5.12945247251737WRIST\n",
       ":   2.41581125547551FOREARM\n",
       ":   1.76875390159978\n",
       "\n"
      ],
      "text/plain": [
       "  WEIGHT  ABDOMEN    WRIST  FOREARM \n",
       "7.758675 5.129452 2.415811 1.768754 "
      ]
     },
     "metadata": {},
     "output_type": "display_data"
    }
   ],
   "source": [
    "m1 = lm(BODYFAT ~ WEIGHT + ABDOMEN + WRIST + FOREARM,data = training.set)\n",
    "vif(m1)"
   ]
  },
  {
   "cell_type": "markdown",
   "metadata": {},
   "source": [
    "It seems that **WEIGHT** has the largest VIF value which means there are some multicolinearity problem with this variable"
   ]
  },
  {
   "cell_type": "code",
   "execution_count": 29,
   "metadata": {
    "collapsed": true
   },
   "outputs": [
    {
     "name": "stderr",
     "output_type": "stream",
     "text": [
      "Loading required package: lattice\n",
      "\n",
      "Attaching package: 'lattice'\n",
      "\n",
      "The following object is masked from 'package:faraway':\n",
      "\n",
      "    melanoma\n",
      "\n",
      "Loading required package: ggplot2\n",
      "Registered S3 methods overwritten by 'ggplot2':\n",
      "  method         from \n",
      "  [.quosures     rlang\n",
      "  c.quosures     rlang\n",
      "  print.quosures rlang\n"
     ]
    }
   ],
   "source": [
    "library(caret)"
   ]
  },
  {
   "cell_type": "code",
   "execution_count": 43,
   "metadata": {},
   "outputs": [],
   "source": [
    "predictions = predict(m1,test.set)\n",
    "df1 = data.frame(RMSE = RMSE(predictions, test.set$BODYFAT),R2 = R2(predictions, test.set$BODYFAT))"
   ]
  },
  {
   "cell_type": "code",
   "execution_count": 44,
   "metadata": {},
   "outputs": [],
   "source": [
    "# Drop weight\n",
    "m2 = lm(BODYFAT ~ ABDOMEN + WRIST + FOREARM,data = training.set)\n",
    "predictions2 = predict(m2,test.set)\n",
    "df2=data.frame(\n",
    "  RMSE = RMSE(predictions2, test.set$BODYFAT),\n",
    "  R2 = R2(predictions2, test.set$BODYFAT)\n",
    ")"
   ]
  },
  {
   "cell_type": "code",
   "execution_count": 45,
   "metadata": {},
   "outputs": [],
   "source": [
    "# Drop weight + ABDOMEN\n",
    "m3 = lm(BODYFAT ~ WRIST + FOREARM,data = training.set)\n",
    "predictions3 = predict(m3,test.set)\n",
    "df3=data.frame(\n",
    "  RMSE = RMSE(predictions3, test.set$BODYFAT),\n",
    "  R2 = R2(predictions3, test.set$BODYFAT)\n",
    ")"
   ]
  },
  {
   "cell_type": "code",
   "execution_count": 46,
   "metadata": {},
   "outputs": [],
   "source": [
    "# Drop weight + WRIST\n",
    "m4 = lm(BODYFAT ~ ABDOMEN + FOREARM,data = training.set)\n",
    "predictions4 = predict(m4,test.set)\n",
    "df4=data.frame(\n",
    "  RMSE = RMSE(predictions4, test.set$BODYFAT),\n",
    "  R2 = R2(predictions4, test.set$BODYFAT)\n",
    ")"
   ]
  },
  {
   "cell_type": "code",
   "execution_count": 47,
   "metadata": {},
   "outputs": [],
   "source": [
    "# Drop weight + FOREARM\n",
    "m5 = lm(BODYFAT ~ ABDOMEN + WRIST,data = training.set)\n",
    "predictions5 = predict(m5,test.set)\n",
    "df5=data.frame(\n",
    "  RMSE = RMSE(predictions5, test.set$BODYFAT),\n",
    "  R2 = R2(predictions5, test.set$BODYFAT)\n",
    ")"
   ]
  },
  {
   "cell_type": "code",
   "execution_count": 55,
   "metadata": {},
   "outputs": [
    {
     "data": {
      "text/html": [
       "<table>\n",
       "<thead><tr><th scope=col>RMSE</th><th scope=col>R2</th></tr></thead>\n",
       "<tbody>\n",
       "\t<tr><td>5.77991  </td><td>0.5340538</td></tr>\n",
       "</tbody>\n",
       "</table>\n"
      ],
      "text/latex": [
       "\\begin{tabular}{r|ll}\n",
       " RMSE & R2\\\\\n",
       "\\hline\n",
       "\t 5.77991   & 0.5340538\\\\\n",
       "\\end{tabular}\n"
      ],
      "text/markdown": [
       "\n",
       "| RMSE | R2 |\n",
       "|---|---|\n",
       "| 5.77991   | 0.5340538 |\n",
       "\n"
      ],
      "text/plain": [
       "  RMSE    R2       \n",
       "1 5.77991 0.5340538"
      ]
     },
     "metadata": {},
     "output_type": "display_data"
    }
   ],
   "source": [
    "# Lasso choose Hip + Chest\n",
    "m6 = lm(BODYFAT ~ HIP + CHEST,data = training.set)\n",
    "predictions6 = predict(m6,test.set)\n",
    "data.frame(\n",
    "  RMSE = RMSE(predictions6, test.set$BODYFAT),\n",
    "  R2 = R2(predictions6, test.set$BODYFAT)\n",
    ")"
   ]
  },
  {
   "cell_type": "code",
   "execution_count": 50,
   "metadata": {},
   "outputs": [],
   "source": [
    "df=rbind(df1,df2,df3,df4,df5)\n",
    "df$model = c(\"Four variables\",\n",
    "            \"ABDOMEN + WRIST + FOREARM\",\n",
    "            \"WRIST + FOREARM\",\n",
    "            \"ABDOMEN + FOREARM\",\n",
    "            \"ABDOMEN + WRIST\")"
   ]
  },
  {
   "cell_type": "code",
   "execution_count": 51,
   "metadata": {},
   "outputs": [
    {
     "data": {
      "text/html": [
       "<table>\n",
       "<thead><tr><th scope=col>RMSE</th><th scope=col>R2</th><th scope=col>model</th></tr></thead>\n",
       "<tbody>\n",
       "\t<tr><td>3.955574                 </td><td>0.8017287                </td><td>Four variables           </td></tr>\n",
       "\t<tr><td>4.387932                 </td><td>0.7565089                </td><td>ABDOMEN + WRIST + FOREARM</td></tr>\n",
       "\t<tr><td>7.570926                 </td><td>0.1681002                </td><td>WRIST + FOREARM          </td></tr>\n",
       "\t<tr><td>4.558269                 </td><td>0.7357279                </td><td>ABDOMEN + FOREARM        </td></tr>\n",
       "\t<tr><td>4.344501                 </td><td>0.7663224                </td><td>ABDOMEN + WRIST          </td></tr>\n",
       "</tbody>\n",
       "</table>\n"
      ],
      "text/latex": [
       "\\begin{tabular}{r|lll}\n",
       " RMSE & R2 & model\\\\\n",
       "\\hline\n",
       "\t 3.955574                  & 0.8017287                 & Four variables           \\\\\n",
       "\t 4.387932                  & 0.7565089                 & ABDOMEN + WRIST + FOREARM\\\\\n",
       "\t 7.570926                  & 0.1681002                 & WRIST + FOREARM          \\\\\n",
       "\t 4.558269                  & 0.7357279                 & ABDOMEN + FOREARM        \\\\\n",
       "\t 4.344501                  & 0.7663224                 & ABDOMEN + WRIST          \\\\\n",
       "\\end{tabular}\n"
      ],
      "text/markdown": [
       "\n",
       "| RMSE | R2 | model |\n",
       "|---|---|---|\n",
       "| 3.955574                  | 0.8017287                 | Four variables            |\n",
       "| 4.387932                  | 0.7565089                 | ABDOMEN + WRIST + FOREARM |\n",
       "| 7.570926                  | 0.1681002                 | WRIST + FOREARM           |\n",
       "| 4.558269                  | 0.7357279                 | ABDOMEN + FOREARM         |\n",
       "| 4.344501                  | 0.7663224                 | ABDOMEN + WRIST           |\n",
       "\n"
      ],
      "text/plain": [
       "  RMSE     R2        model                    \n",
       "1 3.955574 0.8017287 Four variables           \n",
       "2 4.387932 0.7565089 ABDOMEN + WRIST + FOREARM\n",
       "3 7.570926 0.1681002 WRIST + FOREARM          \n",
       "4 4.558269 0.7357279 ABDOMEN + FOREARM        \n",
       "5 4.344501 0.7663224 ABDOMEN + WRIST          "
      ]
     },
     "metadata": {},
     "output_type": "display_data"
    }
   ],
   "source": [
    "df"
   ]
  },
  {
   "cell_type": "markdown",
   "metadata": {},
   "source": [
    "To deal with the multicolinearity problem, compare m1~m5, it seems like ABDOMEN and WRIST is the best choice."
   ]
  },
  {
   "cell_type": "code",
   "execution_count": 64,
   "metadata": {
    "collapsed": true
   },
   "outputs": [
    {
     "data": {
      "image/png": "[encoded data removed]",
      "text/plain": [
       "plot without title"
      ]
     },
     "metadata": {},
     "output_type": "display_data"
    }
   ],
   "source": [
    "plot(ABDOMEN,WRIST)"
   ]
  }
 ],
 "metadata": {
  "kernelspec": {
   "display_name": "R",
   "language": "R",
   "name": "ir"
  },
  "language_info": {
   "codemirror_mode": "r",
   "file_extension": ".r",
   "mimetype": "text/x-r-source",
   "name": "R",
   "pygments_lexer": "r",
   "version": "3.6.1"
  }
 },
 "nbformat": 4,
 "nbformat_minor": 4
}
