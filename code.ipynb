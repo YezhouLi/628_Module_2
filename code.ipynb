{
 "cells": [
  {
   "cell_type": "markdown",
   "metadata": {},
   "source": [
    "# Introduction"
   ]
  },
  {
   "cell_type": "markdown",
   "metadata": {},
   "source": [
    "As is known to all, body fat percentage is an important measure of obesity and plays an important role in various health outcomes. However, usually it is difficult and complicated to calculate since the information needed like underwater weighing is not applicable in practice. In this project, we are aiming to derive an accurate and precise \"rule-of-thumb\" method to estimate percentage of body fat with few clinically available measurements. From the provided dataset, which is consisting of bodyfat calculated by siri equation and many body measures among 252 males, we found that weight and abdomen are strongly correlated with bodyfat. We built, diagnosed and tested the model in the statistical analysis below. The model established achieves high performance over the provided dataset."
   ]
  },
  {
   "cell_type": "markdown",
   "metadata": {},
   "source": [
    "# Statistical Analysis"
   ]
  },
  {
   "cell_type": "markdown",
   "metadata": {},
   "source": [
    "## 1. Load Data and Packages"
   ]
  },
  {
   "cell_type": "code",
   "execution_count": 1,
   "metadata": {},
   "outputs": [],
   "source": [
    "## assume working directory is the one that current juno is in\n",
    "remove(list = ls())\n",
    "set.seed(1)\n",
    "dt.path = \"Data/BodyFat.csv\"\n",
    "dt.fat = read.csv(dt.path)\n",
    "body.fat = subset(dt.fat, select = c(-IDNO, -DENSITY))"
   ]
  },
  {
   "cell_type": "code",
   "execution_count": 2,
   "metadata": {},
   "outputs": [],
   "source": [
    "suppressMessages(if(!require(\"dplyr\")){install.packages(\"dplyr\")})\n",
    "suppressMessages(if(!require(\"tidyverse\")){install.packages(\"tidyverse\")})\n",
    "suppressMessages(if(!require(\"caret\")){install.packages(\"caret\")})"
   ]
  },
  {
   "cell_type": "markdown",
   "metadata": {},
   "source": [
    "## 2. Data Description"
   ]
  },
  {
   "cell_type": "markdown",
   "metadata": {},
   "source": [
    "The dataset consists of bady fat calculated from siri's equation, density from underwater weighing, age, weight, height, BMI, neck circumference, chest circumference, abcomen circumference, hip circumference, thigh circumference, knee circumference, ankle circumference, biceps circumference, forearm circumference and wrist circumference. To have an intuitive view of the data set, we first draw histgrams for some features."
   ]
  },
  {
   "cell_type": "code",
   "execution_count": 3,
   "metadata": {},
   "outputs": [],
   "source": [
    "#summary(dt.fat[,-1])"
   ]
  },
  {
   "cell_type": "code",
   "execution_count": 4,
   "metadata": {},
   "outputs": [
    {
     "data": {
      "image/png": "[encoded data removed]",
      "text/plain": [
       "Plot with title \"Histogram of Adiposity\""
      ]
     },
     "metadata": {},
     "output_type": "display_data"
    }
   ],
   "source": [
    "par(mfrow=c(2,3))\n",
    "hist(dt.fat$BODYFAT,breaks = 20, \n",
    "     main = \"Histogram of Bodyfat\",xlab=\"Bodyfat %\")\n",
    "hist(dt.fat$DENSITY,breaks = 20, \n",
    "     main = \"Histogram of Density\",xlab=\"Density\")\n",
    "hist(dt.fat$AGE,breaks = 20, \n",
    "     main = \"Histogram of Age\",xlab=\"Age\")\n",
    "hist(dt.fat$WEIGHT,breaks = 20, \n",
    "     main = \"Histogram of Weight\",xlab=\"Weight\")\n",
    "hist(dt.fat$HEIGHT,breaks = 20, \n",
    "     main = \"Histogram of Height\",xlab=\"Height\")\n",
    "hist(dt.fat$ADIPOSITY,breaks = 20, \n",
    "     main = \"Histogram of Adiposity\",xlab=\"Adiposity\")"
   ]
  },
  {
   "cell_type": "markdown",
   "metadata": {},
   "source": [
    "We note that there might be some outliers for each feature so we deal with the data cleaning in the next part."
   ]
  },
  {
   "cell_type": "code",
   "execution_count": 5,
   "metadata": {},
   "outputs": [],
   "source": [
    "# More description?"
   ]
  },
  {
   "cell_type": "markdown",
   "metadata": {},
   "source": [
    "## 3. Data Cleaning"
   ]
  },
  {
   "cell_type": "markdown",
   "metadata": {},
   "source": [
    "Given Siri's equation, we know that\n",
    "$$B = \\frac{495}{D} - 450\\ ,\\ where$$\n",
    "* B = proportion of fat tissue * 100 = BODYFAT\n",
    "* D = Body Density = DENSITY\n",
    "\n",
    "We plot body fat against $\\frac{1}{Density}$ and there are some points lie out of the line. The individuals whose bodyfats are not equal to the bodyfat computed by density may be wrong records. Thus we compute the bodyfat using siri's equation and density to locate those outliers and look into them for imputation or deletion."
   ]
  },
  {
   "cell_type": "code",
   "execution_count": 6,
   "metadata": {},
   "outputs": [
    {
     "data": {
      "image/png": "[encoded data removed]",
      "text/plain": [
       "plot without title"
      ]
     },
     "metadata": {},
     "output_type": "display_data"
    }
   ],
   "source": [
    "options(repr.plot.width=4, repr.plot.height=4)\n",
    "plot(dt.fat$BODYFAT ~ 1/dt.fat$DENSITY,xlab = \"1/Density\",ylab = \"Bodyfat\")\n",
    "id<-as.vector(dt.fat$IDNO)\n",
    "bodyf<-as.vector(dt.fat$BODYFAT)\n",
    "den<-as.vector(dt.fat$DENSITY)\n",
    "diff<-abs(bodyf -(495/den-450))\n",
    "ab<-cbind(id,diff)\n",
    "#ab[order(ab[,2],decreasing = T),][1:10,]"
   ]
  },
  {
   "cell_type": "code",
   "execution_count": 7,
   "metadata": {},
   "outputs": [
    {
     "data": {
      "text/html": [
       "<table>\n",
       "<thead><tr><th></th><th scope=col>BODYFAT_computed</th><th scope=col>BODYFAT</th><th scope=col>DENSITY</th><th scope=col>AGE</th><th scope=col>WEIGHT</th><th scope=col>HEIGHT</th><th scope=col>ADIPOSITY</th><th scope=col>NECK</th><th scope=col>CHEST</th><th scope=col>ABDOMEN</th><th scope=col>HIP</th><th scope=col>THIGH</th><th scope=col>KNEE</th><th scope=col>ANKLE</th><th scope=col>BICEPS</th><th scope=col>FOREARM</th><th scope=col>WRIST</th></tr></thead>\n",
       "<tbody>\n",
       "\t<tr><th scope=row>182</th><td>-3.6116873</td><td> 0.00     </td><td>1.1089    </td><td>40.00     </td><td>118.50    </td><td>68.00     </td><td>18.10     </td><td>33.80     </td><td> 79.30    </td><td>69.40     </td><td> 85.0     </td><td>47.20     </td><td>33.50     </td><td>20.2      </td><td>27.70     </td><td>24.60     </td><td>16.50     </td></tr>\n",
       "\t<tr><th scope=row>96</th><td> 0.3684833</td><td>17.30     </td><td>1.0991    </td><td>53.00     </td><td>224.50    </td><td>77.75     </td><td>26.10     </td><td>41.10     </td><td>113.20    </td><td>99.20     </td><td>107.5     </td><td>61.70     </td><td>42.30     </td><td>23.2      </td><td>32.90     </td><td>30.80     </td><td>20.40     </td></tr>\n",
       "\t<tr><th scope=row>48</th><td>14.1350211</td><td> 6.40     </td><td>1.0665    </td><td>39.00     </td><td>148.50    </td><td>71.25     </td><td>20.60     </td><td>34.60     </td><td> 89.80    </td><td>79.50     </td><td> 92.7     </td><td>52.70     </td><td>37.50     </td><td>21.9      </td><td>28.80     </td><td>26.80     </td><td>17.90     </td></tr>\n",
       "\t<tr><th scope=row>54 (compared with 48)</th><td> 6.3053097</td><td> 7.10     </td><td>1.0848    </td><td>49.00     </td><td>152.75    </td><td>73.50     </td><td>19.90     </td><td>35.10     </td><td> 93.30    </td><td>79.60     </td><td> 91.6     </td><td>52.60     </td><td>37.60     </td><td>22.6      </td><td>38.50     </td><td>27.40     </td><td>18.50     </td></tr>\n",
       "\t<tr><th scope=row>76</th><td>14.0915057</td><td>18.30     </td><td>1.0666    </td><td>61.00     </td><td>148.25    </td><td>67.50     </td><td>22.90     </td><td>36.00     </td><td> 91.60    </td><td>81.80     </td><td> 94.8     </td><td>54.50     </td><td>37.00     </td><td>21.4      </td><td>29.30     </td><td>27.00     </td><td>18.30     </td></tr>\n",
       "\t<tr><th scope=row>124 (compared with 76)</th><td>15.9700650</td><td>16.00     </td><td>1.0623    </td><td>47.00     </td><td>151.50    </td><td>66.75     </td><td>23.90     </td><td>36.90     </td><td> 94.00    </td><td>86.10     </td><td> 95.2     </td><td>58.10     </td><td>36.50     </td><td>22.1      </td><td>30.60     </td><td>27.50     </td><td>17.60     </td></tr>\n",
       "\t<tr><th scope=row> Sample Mean</th><td>19.0900000</td><td>18.94     </td><td>1.0600    </td><td>44.88     </td><td>178.92    </td><td>70.15     </td><td>25.44     </td><td>37.99     </td><td>100.82    </td><td>92.56     </td><td> 99.9     </td><td>59.41     </td><td>38.59     </td><td>23.1      </td><td>32.27     </td><td>28.66     </td><td>18.23     </td></tr>\n",
       "</tbody>\n",
       "</table>\n"
      ],
      "text/latex": [
       "\\begin{tabular}{r|lllllllllllllllll}\n",
       "  & BODYFAT\\_computed & BODYFAT & DENSITY & AGE & WEIGHT & HEIGHT & ADIPOSITY & NECK & CHEST & ABDOMEN & HIP & THIGH & KNEE & ANKLE & BICEPS & FOREARM & WRIST\\\\\n",
       "\\hline\n",
       "\t182 & -3.6116873 &  0.00      & 1.1089     & 40.00      & 118.50     & 68.00      & 18.10      & 33.80      &  79.30     & 69.40      &  85.0      & 47.20      & 33.50      & 20.2       & 27.70      & 24.60      & 16.50     \\\\\n",
       "\t96 &  0.3684833 & 17.30      & 1.0991     & 53.00      & 224.50     & 77.75      & 26.10      & 41.10      & 113.20     & 99.20      & 107.5      & 61.70      & 42.30      & 23.2       & 32.90      & 30.80      & 20.40     \\\\\n",
       "\t48 & 14.1350211 &  6.40      & 1.0665     & 39.00      & 148.50     & 71.25      & 20.60      & 34.60      &  89.80     & 79.50      &  92.7      & 52.70      & 37.50      & 21.9       & 28.80      & 26.80      & 17.90     \\\\\n",
       "\t54 (compared with 48) &  6.3053097 &  7.10      & 1.0848     & 49.00      & 152.75     & 73.50      & 19.90      & 35.10      &  93.30     & 79.60      &  91.6      & 52.60      & 37.60      & 22.6       & 38.50      & 27.40      & 18.50     \\\\\n",
       "\t76 & 14.0915057 & 18.30      & 1.0666     & 61.00      & 148.25     & 67.50      & 22.90      & 36.00      &  91.60     & 81.80      &  94.8      & 54.50      & 37.00      & 21.4       & 29.30      & 27.00      & 18.30     \\\\\n",
       "\t124 (compared with 76) & 15.9700650 & 16.00      & 1.0623     & 47.00      & 151.50     & 66.75      & 23.90      & 36.90      &  94.00     & 86.10      &  95.2      & 58.10      & 36.50      & 22.1       & 30.60      & 27.50      & 17.60     \\\\\n",
       "\t Sample Mean & 19.0900000 & 18.94      & 1.0600     & 44.88      & 178.92     & 70.15      & 25.44      & 37.99      & 100.82     & 92.56      &  99.9      & 59.41      & 38.59      & 23.1       & 32.27      & 28.66      & 18.23     \\\\\n",
       "\\end{tabular}\n"
      ],
      "text/markdown": [
       "\n",
       "| <!--/--> | BODYFAT_computed | BODYFAT | DENSITY | AGE | WEIGHT | HEIGHT | ADIPOSITY | NECK | CHEST | ABDOMEN | HIP | THIGH | KNEE | ANKLE | BICEPS | FOREARM | WRIST |\n",
       "|---|---|---|---|---|---|---|---|---|---|---|---|---|---|---|---|---|---|\n",
       "| 182 | -3.6116873 |  0.00      | 1.1089     | 40.00      | 118.50     | 68.00      | 18.10      | 33.80      |  79.30     | 69.40      |  85.0      | 47.20      | 33.50      | 20.2       | 27.70      | 24.60      | 16.50      |\n",
       "| 96 |  0.3684833 | 17.30      | 1.0991     | 53.00      | 224.50     | 77.75      | 26.10      | 41.10      | 113.20     | 99.20      | 107.5      | 61.70      | 42.30      | 23.2       | 32.90      | 30.80      | 20.40      |\n",
       "| 48 | 14.1350211 |  6.40      | 1.0665     | 39.00      | 148.50     | 71.25      | 20.60      | 34.60      |  89.80     | 79.50      |  92.7      | 52.70      | 37.50      | 21.9       | 28.80      | 26.80      | 17.90      |\n",
       "| 54 (compared with 48) |  6.3053097 |  7.10      | 1.0848     | 49.00      | 152.75     | 73.50      | 19.90      | 35.10      |  93.30     | 79.60      |  91.6      | 52.60      | 37.60      | 22.6       | 38.50      | 27.40      | 18.50      |\n",
       "| 76 | 14.0915057 | 18.30      | 1.0666     | 61.00      | 148.25     | 67.50      | 22.90      | 36.00      |  91.60     | 81.80      |  94.8      | 54.50      | 37.00      | 21.4       | 29.30      | 27.00      | 18.30      |\n",
       "| 124 (compared with 76) | 15.9700650 | 16.00      | 1.0623     | 47.00      | 151.50     | 66.75      | 23.90      | 36.90      |  94.00     | 86.10      |  95.2      | 58.10      | 36.50      | 22.1       | 30.60      | 27.50      | 17.60      |\n",
       "|  Sample Mean | 19.0900000 | 18.94      | 1.0600     | 44.88      | 178.92     | 70.15      | 25.44      | 37.99      | 100.82     | 92.56      |  99.9      | 59.41      | 38.59      | 23.1       | 32.27      | 28.66      | 18.23      |\n",
       "\n"
      ],
      "text/plain": [
       "                       BODYFAT_computed BODYFAT DENSITY AGE   WEIGHT HEIGHT\n",
       "182                    -3.6116873        0.00   1.1089  40.00 118.50 68.00 \n",
       "96                      0.3684833       17.30   1.0991  53.00 224.50 77.75 \n",
       "48                     14.1350211        6.40   1.0665  39.00 148.50 71.25 \n",
       "54 (compared with 48)   6.3053097        7.10   1.0848  49.00 152.75 73.50 \n",
       "76                     14.0915057       18.30   1.0666  61.00 148.25 67.50 \n",
       "124 (compared with 76) 15.9700650       16.00   1.0623  47.00 151.50 66.75 \n",
       " Sample Mean           19.0900000       18.94   1.0600  44.88 178.92 70.15 \n",
       "                       ADIPOSITY NECK  CHEST  ABDOMEN HIP   THIGH KNEE  ANKLE\n",
       "182                    18.10     33.80  79.30 69.40    85.0 47.20 33.50 20.2 \n",
       "96                     26.10     41.10 113.20 99.20   107.5 61.70 42.30 23.2 \n",
       "48                     20.60     34.60  89.80 79.50    92.7 52.70 37.50 21.9 \n",
       "54 (compared with 48)  19.90     35.10  93.30 79.60    91.6 52.60 37.60 22.6 \n",
       "76                     22.90     36.00  91.60 81.80    94.8 54.50 37.00 21.4 \n",
       "124 (compared with 76) 23.90     36.90  94.00 86.10    95.2 58.10 36.50 22.1 \n",
       " Sample Mean           25.44     37.99 100.82 92.56    99.9 59.41 38.59 23.1 \n",
       "                       BICEPS FOREARM WRIST\n",
       "182                    27.70  24.60   16.50\n",
       "96                     32.90  30.80   20.40\n",
       "48                     28.80  26.80   17.90\n",
       "54 (compared with 48)  38.50  27.40   18.50\n",
       "76                     29.30  27.00   18.30\n",
       "124 (compared with 76) 30.60  27.50   17.60\n",
       " Sample Mean           32.27  28.66   18.23"
      ]
     },
     "metadata": {},
     "output_type": "display_data"
    }
   ],
   "source": [
    "col.mean1 = round(sapply(cbind(495/den-450,dt.fat[,-1]), dim = 1, FUN = mean), digits = 2)\n",
    "bd = rbind(cbind(495/den[c(182,96, 48,54, 76,124)]-450,dt.fat[c(182,96, 48,54, 76,124), -1]), col.mean1)\n",
    "colnames(bd)[1] = \"BODYFAT_computed\"\n",
    "rownames(bd)[4] = '54 (compared with 48)'\n",
    "rownames(bd)[6] = '124 (compared with 76)'\n",
    "rownames(bd)[7] = ' Sample Mean'\n",
    "bd"
   ]
  },
  {
   "cell_type": "markdown",
   "metadata": {},
   "source": [
    "**For No.182:**\n",
    "No one's bodyfat can be 0 or negative. Therefore we should delete this abnormal point(No.182).\n",
    "\n",
    "**For No.96:**\n",
    "The bodyfat computed by the density is 495/1.0991-450=0.3684833. It is very close to 0. Therefore we think the density is wrong meanwhile the bodyfat is right. So we will keep this point.\n",
    "\n",
    "**For No.48:**\n",
    "We find a normal point(No.54) which is very similar with No.48 point except AGE and BICEPS. But these two factors influence bodyfat little. Therefore we think the bodyfat of No.48 point is normal. Then we keep this point.\n",
    "\n",
    "**For No.76:**\n",
    "We find a normal point(No.124) which is very similar with No.76 point .Therefore we think the bodyfat of No.76 point is normal. Then we keep this point."
   ]
  },
  {
   "cell_type": "markdown",
   "metadata": {},
   "source": [
    "From the histgram of height in the previous part, we notice that there is a person whose height is around 30 inches. But when we look into this point, we find that his weight and BMI are quite normal, so we take the height as a wrong record and use $ADIPOSITY = \\frac{WEIGHT}{HIGHT^2} $ to impute it.\n",
    "Using this formula, we also find No.163 and No.221 as two possible bad points candidates.\n",
    "Similarly, we also look into the outliers in other features."
   ]
  },
  {
   "cell_type": "code",
   "execution_count": 8,
   "metadata": {},
   "outputs": [
    {
     "data": {
      "text/html": [
       "<table>\n",
       "<thead><tr><th></th><th scope=col>IDNO</th><th scope=col>BODYFAT</th><th scope=col>DENSITY</th><th scope=col>AGE</th><th scope=col>WEIGHT</th><th scope=col>HEIGHT</th><th scope=col>ADIPOSITY</th><th scope=col>NECK</th><th scope=col>CHEST</th><th scope=col>ABDOMEN</th><th scope=col>HIP</th><th scope=col>THIGH</th><th scope=col>KNEE</th><th scope=col>ANKLE</th><th scope=col>BICEPS</th><th scope=col>FOREARM</th><th scope=col>WRIST</th></tr></thead>\n",
       "<tbody>\n",
       "\t<tr><th scope=row>216</th><td>216  </td><td>45.1 </td><td>0.995</td><td>51   </td><td>219  </td><td>64   </td><td>37.6 </td><td>41.2 </td><td>119.8</td><td>122.1</td><td>112.8</td><td>62.5 </td><td>36.9 </td><td>23.6 </td><td>34.7 </td><td>29.1 </td><td>18.4 </td></tr>\n",
       "</tbody>\n",
       "</table>\n"
      ],
      "text/latex": [
       "\\begin{tabular}{r|lllllllllllllllll}\n",
       "  & IDNO & BODYFAT & DENSITY & AGE & WEIGHT & HEIGHT & ADIPOSITY & NECK & CHEST & ABDOMEN & HIP & THIGH & KNEE & ANKLE & BICEPS & FOREARM & WRIST\\\\\n",
       "\\hline\n",
       "\t216 & 216   & 45.1  & 0.995 & 51    & 219   & 64    & 37.6  & 41.2  & 119.8 & 122.1 & 112.8 & 62.5  & 36.9  & 23.6  & 34.7  & 29.1  & 18.4 \\\\\n",
       "\\end{tabular}\n"
      ],
      "text/markdown": [
       "\n",
       "| <!--/--> | IDNO | BODYFAT | DENSITY | AGE | WEIGHT | HEIGHT | ADIPOSITY | NECK | CHEST | ABDOMEN | HIP | THIGH | KNEE | ANKLE | BICEPS | FOREARM | WRIST |\n",
       "|---|---|---|---|---|---|---|---|---|---|---|---|---|---|---|---|---|---|\n",
       "| 216 | 216   | 45.1  | 0.995 | 51    | 219   | 64    | 37.6  | 41.2  | 119.8 | 122.1 | 112.8 | 62.5  | 36.9  | 23.6  | 34.7  | 29.1  | 18.4  |\n",
       "\n"
      ],
      "text/plain": [
       "    IDNO BODYFAT DENSITY AGE WEIGHT HEIGHT ADIPOSITY NECK CHEST ABDOMEN HIP  \n",
       "216 216  45.1    0.995   51  219    64     37.6      41.2 119.8 122.1   112.8\n",
       "    THIGH KNEE ANKLE BICEPS FOREARM WRIST\n",
       "216 62.5  36.9 23.6  34.7   29.1    18.4 "
      ]
     },
     "metadata": {},
     "output_type": "display_data"
    }
   ],
   "source": [
    "# Impute the height for the shortest man\n",
    "body.fat$HEIGHT[42] = round(sqrt(205*0.45359237/29.9)*39.3700787,1)\n",
    "# The person with largest bodyfat\n",
    "dt.fat[dt.fat$BODYFAT==max(dt.fat$BODYFAT), ]\n",
    "body.fat.clean <- body.fat[-c(182,216),]"
   ]
  },
  {
   "cell_type": "markdown",
   "metadata": {},
   "source": [
    "The one with bodyfat 45.1% is too impossible  to exist in the world and his density is smaller than 1. So we delete this example."
   ]
  },
  {
   "cell_type": "code",
   "execution_count": 9,
   "metadata": {},
   "outputs": [
    {
     "data": {
      "image/png": "[encoded data removed]",
      "text/plain": [
       "Plot with title \"\""
      ]
     },
     "metadata": {},
     "output_type": "display_data"
    }
   ],
   "source": [
    "model.clean = lm(BODYFAT ~ ., data = body.fat.clean)\n",
    "# summary(model.clean)$coefficient\n",
    "plot(model.clean, which = 4)\n",
    "abline(h = 4/(dim(body.fat)[1]-dim(body.fat)[2]), lty = 2, col = 'blue')"
   ]
  },
  {
   "cell_type": "code",
   "execution_count": 10,
   "metadata": {},
   "outputs": [
    {
     "data": {
      "text/html": [
       "<table>\n",
       "<thead><tr><th></th><th scope=col>BODYFAT</th><th scope=col>AGE</th><th scope=col>WEIGHT</th><th scope=col>HEIGHT</th><th scope=col>ADIPOSITY</th><th scope=col>NECK</th><th scope=col>CHEST</th><th scope=col>ABDOMEN</th><th scope=col>HIP</th><th scope=col>THIGH</th><th scope=col>KNEE</th><th scope=col>ANKLE</th><th scope=col>BICEPS</th><th scope=col>FOREARM</th><th scope=col>WRIST</th></tr></thead>\n",
       "<tbody>\n",
       "\t<tr><th scope=row>39</th><td>33.80 </td><td>46.00 </td><td>363.15</td><td>72.25 </td><td>48.90 </td><td>51.20 </td><td>136.20</td><td>148.10</td><td>147.7 </td><td>87.30 </td><td>49.10 </td><td>29.6  </td><td>45.00 </td><td>29.00 </td><td>21.40 </td></tr>\n",
       "\t<tr><th scope=row>86</th><td>25.80 </td><td>67.00 </td><td>167.00</td><td>67.50 </td><td>26.00 </td><td>36.50 </td><td> 98.90</td><td> 89.70</td><td> 96.2 </td><td>54.70 </td><td>37.80 </td><td>33.7  </td><td>32.40 </td><td>27.70 </td><td>18.20 </td></tr>\n",
       "\t<tr><th scope=row>221</th><td>12.70 </td><td>54.00 </td><td>153.25</td><td>70.50 </td><td>24.50 </td><td>38.50 </td><td> 99.00</td><td> 91.80</td><td> 96.2 </td><td>57.70 </td><td>38.10 </td><td>23.9  </td><td>31.40 </td><td>29.90 </td><td>18.90 </td></tr>\n",
       "\t<tr><th scope=row> Sample Mean</th><td>18.94 </td><td>44.88 </td><td>178.92</td><td>70.31 </td><td>25.44 </td><td>37.99 </td><td>100.82</td><td> 92.56</td><td> 99.9 </td><td>59.41 </td><td>38.59 </td><td>23.1  </td><td>32.27 </td><td>28.66 </td><td>18.23 </td></tr>\n",
       "</tbody>\n",
       "</table>\n"
      ],
      "text/latex": [
       "\\begin{tabular}{r|lllllllllllllll}\n",
       "  & BODYFAT & AGE & WEIGHT & HEIGHT & ADIPOSITY & NECK & CHEST & ABDOMEN & HIP & THIGH & KNEE & ANKLE & BICEPS & FOREARM & WRIST\\\\\n",
       "\\hline\n",
       "\t39 & 33.80  & 46.00  & 363.15 & 72.25  & 48.90  & 51.20  & 136.20 & 148.10 & 147.7  & 87.30  & 49.10  & 29.6   & 45.00  & 29.00  & 21.40 \\\\\n",
       "\t86 & 25.80  & 67.00  & 167.00 & 67.50  & 26.00  & 36.50  &  98.90 &  89.70 &  96.2  & 54.70  & 37.80  & 33.7   & 32.40  & 27.70  & 18.20 \\\\\n",
       "\t221 & 12.70  & 54.00  & 153.25 & 70.50  & 24.50  & 38.50  &  99.00 &  91.80 &  96.2  & 57.70  & 38.10  & 23.9   & 31.40  & 29.90  & 18.90 \\\\\n",
       "\t Sample Mean & 18.94  & 44.88  & 178.92 & 70.31  & 25.44  & 37.99  & 100.82 &  92.56 &  99.9  & 59.41  & 38.59  & 23.1   & 32.27  & 28.66  & 18.23 \\\\\n",
       "\\end{tabular}\n"
      ],
      "text/markdown": [
       "\n",
       "| <!--/--> | BODYFAT | AGE | WEIGHT | HEIGHT | ADIPOSITY | NECK | CHEST | ABDOMEN | HIP | THIGH | KNEE | ANKLE | BICEPS | FOREARM | WRIST |\n",
       "|---|---|---|---|---|---|---|---|---|---|---|---|---|---|---|---|\n",
       "| 39 | 33.80  | 46.00  | 363.15 | 72.25  | 48.90  | 51.20  | 136.20 | 148.10 | 147.7  | 87.30  | 49.10  | 29.6   | 45.00  | 29.00  | 21.40  |\n",
       "| 86 | 25.80  | 67.00  | 167.00 | 67.50  | 26.00  | 36.50  |  98.90 |  89.70 |  96.2  | 54.70  | 37.80  | 33.7   | 32.40  | 27.70  | 18.20  |\n",
       "| 221 | 12.70  | 54.00  | 153.25 | 70.50  | 24.50  | 38.50  |  99.00 |  91.80 |  96.2  | 57.70  | 38.10  | 23.9   | 31.40  | 29.90  | 18.90  |\n",
       "|  Sample Mean | 18.94  | 44.88  | 178.92 | 70.31  | 25.44  | 37.99  | 100.82 |  92.56 |  99.9  | 59.41  | 38.59  | 23.1   | 32.27  | 28.66  | 18.23  |\n",
       "\n"
      ],
      "text/plain": [
       "             BODYFAT AGE   WEIGHT HEIGHT ADIPOSITY NECK  CHEST  ABDOMEN HIP  \n",
       "39           33.80   46.00 363.15 72.25  48.90     51.20 136.20 148.10  147.7\n",
       "86           25.80   67.00 167.00 67.50  26.00     36.50  98.90  89.70   96.2\n",
       "221          12.70   54.00 153.25 70.50  24.50     38.50  99.00  91.80   96.2\n",
       " Sample Mean 18.94   44.88 178.92 70.31  25.44     37.99 100.82  92.56   99.9\n",
       "             THIGH KNEE  ANKLE BICEPS FOREARM WRIST\n",
       "39           87.30 49.10 29.6  45.00  29.00   21.40\n",
       "86           54.70 37.80 33.7  32.40  27.70   18.20\n",
       "221          57.70 38.10 23.9  31.40  29.90   18.90\n",
       " Sample Mean 59.41 38.59 23.1  32.27  28.66   18.23"
      ]
     },
     "metadata": {},
     "output_type": "display_data"
    }
   ],
   "source": [
    "col.mean = round(sapply(body.fat, dim = 1, FUN = mean), digits = 2)\n",
    ". = rbind(body.fat[c(39, 86, 221), ], col.mean)\n",
    "rownames(.)[4] = ' Sample Mean'\n",
    "."
   ]
  },
  {
   "cell_type": "markdown",
   "metadata": {},
   "source": [
    "* Sample 39 is highly overweighted.However, \\#39 is merely a stronger person whose body measurements are within normal range. \n",
    "* Sample 86 has relatively larger Cook's distance. However, \\#86 is merely a person whose body measurements are within normal range. \n",
    "* Sample 221 has normal body measurements and he is a really fit person.\n",
    "\n",
    "Therefore, \\#39, \\#86 and \\#221 should be kept in our model."
   ]
  },
  {
   "cell_type": "markdown",
   "metadata": {},
   "source": [
    "**Given the above, $163, 182, 216$ show up as outlier candidates.**"
   ]
  },
  {
   "cell_type": "code",
   "execution_count": 11,
   "metadata": {},
   "outputs": [],
   "source": [
    "body.fat.clean = body.fat[-c(163, 182,216),]"
   ]
  },
  {
   "cell_type": "code",
   "execution_count": 12,
   "metadata": {},
   "outputs": [],
   "source": [
    "# options(repr.plot.width=5, repr.plot.height=5)\n",
    "# model.clean2 = lm(BODYFAT ~ ., data = body.fat.clean)\n",
    "# layout(matrix(1:4, ncol = 2))\n",
    "# plot(model.clean2)\n",
    "# Do we need?"
   ]
  },
  {
   "cell_type": "markdown",
   "metadata": {},
   "source": [
    "## 3. Variable Selection"
   ]
  },
  {
   "cell_type": "markdown",
   "metadata": {},
   "source": [
    "### Linear Model"
   ]
  },
  {
   "cell_type": "markdown",
   "metadata": {},
   "source": [
    "#### Forward selection using AIC"
   ]
  },
  {
   "cell_type": "code",
   "execution_count": 13,
   "metadata": {},
   "outputs": [
    {
     "data": {
      "text/plain": [
       "\n",
       "Call:\n",
       "lm(formula = BODYFAT ~ ABDOMEN + WEIGHT + WRIST + FOREARM + NECK + \n",
       "    BICEPS + AGE + THIGH + HIP, data = body.fat.clean)\n",
       "\n",
       "Residuals:\n",
       "     Min       1Q   Median       3Q      Max \n",
       "-10.1521  -2.6483  -0.0242   2.7992   9.4679 \n",
       "\n",
       "Coefficients:\n",
       "             Estimate Std. Error t value Pr(>|t|)    \n",
       "(Intercept) -19.74731   11.06768  -1.784  0.07565 .  \n",
       "ABDOMEN       0.85672    0.06794  12.610  < 2e-16 ***\n",
       "WEIGHT       -0.08717    0.03826  -2.279  0.02358 *  \n",
       "WRIST        -1.36738    0.47545  -2.876  0.00439 ** \n",
       "FOREARM       0.41728    0.18125   2.302  0.02218 *  \n",
       "NECK         -0.45634    0.20978  -2.175  0.03059 *  \n",
       "BICEPS        0.15282    0.15571   0.981  0.32738    \n",
       "AGE           0.06043    0.02879   2.099  0.03688 *  \n",
       "THIGH         0.27626    0.12552   2.201  0.02870 *  \n",
       "HIP          -0.18777    0.12908  -1.455  0.14706    \n",
       "---\n",
       "Signif. codes:  0 '***' 0.001 '**' 0.01 '*' 0.05 '.' 0.1 ' ' 1\n",
       "\n",
       "Residual standard error: 3.951 on 239 degrees of freedom\n",
       "Multiple R-squared:  0.7336,\tAdjusted R-squared:  0.7236 \n",
       "F-statistic: 73.12 on 9 and 239 DF,  p-value: < 2.2e-16\n"
      ]
     },
     "metadata": {},
     "output_type": "display_data"
    }
   ],
   "source": [
    "model.clean2 = lm(BODYFAT ~ ., data = body.fat.clean)\n",
    "model.1 <- lm(BODYFAT~1,data = body.fat.clean)\n",
    "model.AIC.forward <- step(model.1,list(lower = model.1,upper = model.clean2),k = 2,direction = \"forward\",trace = 0)\n",
    "summary(model.AIC.forward)"
   ]
  },
  {
   "cell_type": "markdown",
   "metadata": {},
   "source": [
    "#### Backward selection using AIC"
   ]
  },
  {
   "cell_type": "code",
   "execution_count": 14,
   "metadata": {},
   "outputs": [
    {
     "data": {
      "text/plain": [
       "\n",
       "Call:\n",
       "lm(formula = BODYFAT ~ AGE + WEIGHT + NECK + ABDOMEN + HIP + \n",
       "    THIGH + FOREARM + WRIST, data = body.fat.clean)\n",
       "\n",
       "Residuals:\n",
       "     Min       1Q   Median       3Q      Max \n",
       "-10.1325  -2.7879  -0.1165   2.7325   9.6502 \n",
       "\n",
       "Coefficients:\n",
       "             Estimate Std. Error t value Pr(>|t|)    \n",
       "(Intercept) -19.28149   11.05665  -1.744  0.08246 .  \n",
       "AGE           0.06247    0.02871   2.176  0.03056 *  \n",
       "WEIGHT       -0.07997    0.03755  -2.130  0.03419 *  \n",
       "NECK         -0.43369    0.20849  -2.080  0.03857 *  \n",
       "ABDOMEN       0.85266    0.06781  12.574  < 2e-16 ***\n",
       "HIP          -0.19866    0.12859  -1.545  0.12368    \n",
       "THIGH         0.30912    0.12096   2.556  0.01122 *  \n",
       "FOREARM       0.47278    0.17219   2.746  0.00650 ** \n",
       "WRIST        -1.35941    0.47535  -2.860  0.00461 ** \n",
       "---\n",
       "Signif. codes:  0 '***' 0.001 '**' 0.01 '*' 0.05 '.' 0.1 ' ' 1\n",
       "\n",
       "Residual standard error: 3.951 on 240 degrees of freedom\n",
       "Multiple R-squared:  0.7325,\tAdjusted R-squared:  0.7236 \n",
       "F-statistic: 82.15 on 8 and 240 DF,  p-value: < 2.2e-16\n"
      ]
     },
     "metadata": {},
     "output_type": "display_data"
    }
   ],
   "source": [
    "model.AIC.backward <- step(model.clean2,k = 2,direction = \"backward\",trace = 0)\n",
    "summary(model.AIC.backward)"
   ]
  },
  {
   "cell_type": "markdown",
   "metadata": {},
   "source": [
    "#### Forward selection using BIC"
   ]
  },
  {
   "cell_type": "code",
   "execution_count": 15,
   "metadata": {},
   "outputs": [
    {
     "data": {
      "text/plain": [
       "\n",
       "Call:\n",
       "lm(formula = BODYFAT ~ ABDOMEN + WEIGHT + WRIST + FOREARM, data = body.fat.clean)\n",
       "\n",
       "Residuals:\n",
       "    Min      1Q  Median      3Q     Max \n",
       "-9.8084 -2.8926 -0.0708  2.8601  8.3356 \n",
       "\n",
       "Coefficients:\n",
       "             Estimate Std. Error t value Pr(>|t|)    \n",
       "(Intercept) -30.86008    6.77840  -4.553 8.36e-06 ***\n",
       "ABDOMEN       0.90524    0.05301  17.078  < 2e-16 ***\n",
       "WEIGHT       -0.12356    0.02301  -5.371 1.83e-07 ***\n",
       "WRIST        -1.33925    0.41283  -3.244  0.00134 ** \n",
       "FOREARM       0.43804    0.16831   2.603  0.00982 ** \n",
       "---\n",
       "Signif. codes:  0 '***' 0.001 '**' 0.01 '*' 0.05 '.' 0.1 ' ' 1\n",
       "\n",
       "Residual standard error: 4.013 on 244 degrees of freedom\n",
       "Multiple R-squared:  0.7193,\tAdjusted R-squared:  0.7147 \n",
       "F-statistic: 156.3 on 4 and 244 DF,  p-value: < 2.2e-16\n"
      ]
     },
     "metadata": {},
     "output_type": "display_data"
    }
   ],
   "source": [
    "model.BIC.forward <- step(model.1,list(lower = model.1,upper = model.clean2),k = log(dim(body.fat.clean)[1]),direction = \"forward\",trace = 0)\n",
    "summary(model.BIC.forward)"
   ]
  },
  {
   "cell_type": "markdown",
   "metadata": {},
   "source": [
    "#### Backward selection using BIC"
   ]
  },
  {
   "cell_type": "code",
   "execution_count": 16,
   "metadata": {},
   "outputs": [
    {
     "data": {
      "text/plain": [
       "\n",
       "Call:\n",
       "lm(formula = BODYFAT ~ WEIGHT + ABDOMEN + FOREARM + WRIST, data = body.fat.clean)\n",
       "\n",
       "Residuals:\n",
       "    Min      1Q  Median      3Q     Max \n",
       "-9.8084 -2.8926 -0.0708  2.8601  8.3356 \n",
       "\n",
       "Coefficients:\n",
       "             Estimate Std. Error t value Pr(>|t|)    \n",
       "(Intercept) -30.86008    6.77840  -4.553 8.36e-06 ***\n",
       "WEIGHT       -0.12356    0.02301  -5.371 1.83e-07 ***\n",
       "ABDOMEN       0.90524    0.05301  17.078  < 2e-16 ***\n",
       "FOREARM       0.43804    0.16831   2.603  0.00982 ** \n",
       "WRIST        -1.33925    0.41283  -3.244  0.00134 ** \n",
       "---\n",
       "Signif. codes:  0 '***' 0.001 '**' 0.01 '*' 0.05 '.' 0.1 ' ' 1\n",
       "\n",
       "Residual standard error: 4.013 on 244 degrees of freedom\n",
       "Multiple R-squared:  0.7193,\tAdjusted R-squared:  0.7147 \n",
       "F-statistic: 156.3 on 4 and 244 DF,  p-value: < 2.2e-16\n"
      ]
     },
     "metadata": {},
     "output_type": "display_data"
    }
   ],
   "source": [
    "model.BIC.backward <- step(model.clean2,k = log(dim(body.fat.clean)[1]),direction = \"backward\",trace = 0)\n",
    "summary(model.BIC.backward)"
   ]
  },
  {
   "cell_type": "markdown",
   "metadata": {},
   "source": [
    "#### Back/forward selection uing A/BIC"
   ]
  },
  {
   "cell_type": "code",
   "execution_count": 17,
   "metadata": {},
   "outputs": [],
   "source": [
    "model.full = lm(BODYFAT ~ ., body.fat.clean)"
   ]
  },
  {
   "cell_type": "code",
   "execution_count": 18,
   "metadata": {},
   "outputs": [
    {
     "data": {
      "text/plain": [
       "\n",
       "Call:\n",
       "lm(formula = BODYFAT ~ AGE + WEIGHT + NECK + ABDOMEN + HIP + \n",
       "    THIGH + FOREARM + WRIST, data = body.fat.clean)\n",
       "\n",
       "Residuals:\n",
       "     Min       1Q   Median       3Q      Max \n",
       "-10.1325  -2.7879  -0.1165   2.7325   9.6502 \n",
       "\n",
       "Coefficients:\n",
       "             Estimate Std. Error t value Pr(>|t|)    \n",
       "(Intercept) -19.28149   11.05665  -1.744  0.08246 .  \n",
       "AGE           0.06247    0.02871   2.176  0.03056 *  \n",
       "WEIGHT       -0.07997    0.03755  -2.130  0.03419 *  \n",
       "NECK         -0.43369    0.20849  -2.080  0.03857 *  \n",
       "ABDOMEN       0.85266    0.06781  12.574  < 2e-16 ***\n",
       "HIP          -0.19866    0.12859  -1.545  0.12368    \n",
       "THIGH         0.30912    0.12096   2.556  0.01122 *  \n",
       "FOREARM       0.47278    0.17219   2.746  0.00650 ** \n",
       "WRIST        -1.35941    0.47535  -2.860  0.00461 ** \n",
       "---\n",
       "Signif. codes:  0 '***' 0.001 '**' 0.01 '*' 0.05 '.' 0.1 ' ' 1\n",
       "\n",
       "Residual standard error: 3.951 on 240 degrees of freedom\n",
       "Multiple R-squared:  0.7325,\tAdjusted R-squared:  0.7236 \n",
       "F-statistic: 82.15 on 8 and 240 DF,  p-value: < 2.2e-16\n"
      ]
     },
     "metadata": {},
     "output_type": "display_data"
    }
   ],
   "source": [
    "model.aic.both = step(model.full, direction = \"both\", k = 2, trace = 0)\n",
    "summary(model.aic.both)"
   ]
  },
  {
   "cell_type": "code",
   "execution_count": 19,
   "metadata": {},
   "outputs": [
    {
     "data": {
      "text/plain": [
       "\n",
       "Call:\n",
       "lm(formula = BODYFAT ~ WEIGHT + ABDOMEN + FOREARM + WRIST, data = body.fat.clean)\n",
       "\n",
       "Residuals:\n",
       "    Min      1Q  Median      3Q     Max \n",
       "-9.8084 -2.8926 -0.0708  2.8601  8.3356 \n",
       "\n",
       "Coefficients:\n",
       "             Estimate Std. Error t value Pr(>|t|)    \n",
       "(Intercept) -30.86008    6.77840  -4.553 8.36e-06 ***\n",
       "WEIGHT       -0.12356    0.02301  -5.371 1.83e-07 ***\n",
       "ABDOMEN       0.90524    0.05301  17.078  < 2e-16 ***\n",
       "FOREARM       0.43804    0.16831   2.603  0.00982 ** \n",
       "WRIST        -1.33925    0.41283  -3.244  0.00134 ** \n",
       "---\n",
       "Signif. codes:  0 '***' 0.001 '**' 0.01 '*' 0.05 '.' 0.1 ' ' 1\n",
       "\n",
       "Residual standard error: 4.013 on 244 degrees of freedom\n",
       "Multiple R-squared:  0.7193,\tAdjusted R-squared:  0.7147 \n",
       "F-statistic: 156.3 on 4 and 244 DF,  p-value: < 2.2e-16\n"
      ]
     },
     "metadata": {},
     "output_type": "display_data"
    }
   ],
   "source": [
    "model.bic.both = step(model.full, direction = \"both\", k = log(dim(body.fat.clean)[1]), trace = 0)\n",
    "summary(model.bic.both)"
   ]
  },
  {
   "cell_type": "markdown",
   "metadata": {},
   "source": [
    "#### Mallow's Cp"
   ]
  },
  {
   "cell_type": "code",
   "execution_count": 20,
   "metadata": {},
   "outputs": [
    {
     "name": "stdout",
     "output_type": "stream",
     "text": [
      "package 'leaps' successfully unpacked and MD5 sums checked\n",
      "\n",
      "The downloaded binary packages are in\n",
      "\tC:\\Users\\shuya\\AppData\\Local\\Temp\\RtmpacWJ6f\\downloaded_packages\n",
      "package 'faraway' successfully unpacked and MD5 sums checked\n",
      "\n",
      "The downloaded binary packages are in\n",
      "\tC:\\Users\\shuya\\AppData\\Local\\Temp\\RtmpacWJ6f\\downloaded_packages\n"
     ]
    },
    {
     "name": "stderr",
     "output_type": "stream",
     "text": [
      "\n",
      "Attaching package: 'faraway'\n",
      "\n",
      "The following object is masked from 'package:lattice':\n",
      "\n",
      "    melanoma\n",
      "\n"
     ]
    }
   ],
   "source": [
    "#detach(\"package:car\")\n",
    "install.packages(\"leaps\")\n",
    "library(\"leaps\") # for leaps()\n",
    "install.packages(\"faraway\")\n",
    "library(\"faraway\") # for Cpplot()"
   ]
  },
  {
   "cell_type": "code",
   "execution_count": 21,
   "metadata": {},
   "outputs": [
    {
     "data": {
      "image/png": "[encoded data removed]",
      "text/plain": [
       "plot without title"
      ]
     },
     "metadata": {},
     "output_type": "display_data"
    }
   ],
   "source": [
    "X = model.matrix(model.full)[,-1]\n",
    "Y = body.fat.clean[,1]\n",
    "g = leaps::leaps(X,Y,nbest=1)\n",
    "Cpplot(g) # Include all variable."
   ]
  },
  {
   "cell_type": "markdown",
   "metadata": {},
   "source": [
    "#### $R^2$"
   ]
  },
  {
   "cell_type": "code",
   "execution_count": 22,
   "metadata": {},
   "outputs": [
    {
     "data": {
      "text/html": [
       "<dl class=dl-horizontal>\n",
       "\t<dt>1</dt>\n",
       "\t\t<dd>TRUE</dd>\n",
       "\t<dt>2</dt>\n",
       "\t\t<dd>TRUE</dd>\n",
       "\t<dt>3</dt>\n",
       "\t\t<dd>FALSE</dd>\n",
       "\t<dt>4</dt>\n",
       "\t\t<dd>FALSE</dd>\n",
       "\t<dt>5</dt>\n",
       "\t\t<dd>TRUE</dd>\n",
       "\t<dt>6</dt>\n",
       "\t\t<dd>FALSE</dd>\n",
       "\t<dt>7</dt>\n",
       "\t\t<dd>TRUE</dd>\n",
       "\t<dt>8</dt>\n",
       "\t\t<dd>TRUE</dd>\n",
       "\t<dt>9</dt>\n",
       "\t\t<dd>TRUE</dd>\n",
       "\t<dt>A</dt>\n",
       "\t\t<dd>FALSE</dd>\n",
       "\t<dt>B</dt>\n",
       "\t\t<dd>FALSE</dd>\n",
       "\t<dt>C</dt>\n",
       "\t\t<dd>FALSE</dd>\n",
       "\t<dt>D</dt>\n",
       "\t\t<dd>TRUE</dd>\n",
       "\t<dt>E</dt>\n",
       "\t\t<dd>TRUE</dd>\n",
       "</dl>\n"
      ],
      "text/latex": [
       "\\begin{description*}\n",
       "\\item[1] TRUE\n",
       "\\item[2] TRUE\n",
       "\\item[3] FALSE\n",
       "\\item[4] FALSE\n",
       "\\item[5] TRUE\n",
       "\\item[6] FALSE\n",
       "\\item[7] TRUE\n",
       "\\item[8] TRUE\n",
       "\\item[9] TRUE\n",
       "\\item[A] FALSE\n",
       "\\item[B] FALSE\n",
       "\\item[C] FALSE\n",
       "\\item[D] TRUE\n",
       "\\item[E] TRUE\n",
       "\\end{description*}\n"
      ],
      "text/markdown": [
       "1\n",
       ":   TRUE2\n",
       ":   TRUE3\n",
       ":   FALSE4\n",
       ":   FALSE5\n",
       ":   TRUE6\n",
       ":   FALSE7\n",
       ":   TRUE8\n",
       ":   TRUE9\n",
       ":   TRUEA\n",
       ":   FALSEB\n",
       ":   FALSEC\n",
       ":   FALSED\n",
       ":   TRUEE\n",
       ":   TRUE\n",
       "\n"
      ],
      "text/plain": [
       "    1     2     3     4     5     6     7     8     9     A     B     C     D \n",
       " TRUE  TRUE FALSE FALSE  TRUE FALSE  TRUE  TRUE  TRUE FALSE FALSE FALSE  TRUE \n",
       "    E \n",
       " TRUE "
      ]
     },
     "metadata": {},
     "output_type": "display_data"
    },
    {
     "data": {
      "image/png": "[encoded data removed]",
      "text/plain": [
       "plot without title"
      ]
     },
     "metadata": {},
     "output_type": "display_data"
    }
   ],
   "source": [
    "r = leaps::leaps(X,Y,nbest=1, method=\"adjr2\")\n",
    "plot(r$adjr2)\n",
    "(r$which)[which(r$adjr2 == max(r$adjr2)),] # 1,2,3,7,12,13"
   ]
  },
  {
   "cell_type": "markdown",
   "metadata": {},
   "source": [
    "### Fraction Model\n",
    "\n",
    "$$\\text{Bodyfat }= \\beta_1 \\frac{X_1}{\\text{Weight}} + \\beta_2 \\frac{1}{\\text{Weight}} + \\beta_3$$\n",
    "\n",
    "where $X_1$ is chosen from the remaining variables. "
   ]
  },
  {
   "cell_type": "code",
   "execution_count": 23,
   "metadata": {},
   "outputs": [],
   "source": [
    "data = body.fat.clean\n",
    "data.invwei <- data.frame(BODYFAT = data$BODYFAT,HEIGHT = data$HEIGHT/data$WEIGHT,\n",
    "                          ADIPOSITY = data$ADIPOSITY/data$WEIGHT,NECK = data$NECK/data$WEIGHT,\n",
    "                          CHEST = data$CHEST/data$WEIGHT,ABDOMEN = data$ABDOMEN/data$WEIGHT,\n",
    "                          HIP = data$HIP/data$WEIGHT,THIGH = data$THIGH/data$WEIGHT,\n",
    "                          KNEE = data$KNEE/data$WEIGHT,ANKLE = data$ANKLE/data$WEIGHT,\n",
    "                          BICEPS = data$BICEPS/data$WEIGHT,FOREARM = data$FOREARM/data$WEIGHT,\n",
    "                          WRIST = data$WRIST/data$WEIGHT)\n",
    "data.invwei$inv_wei <- 1/data$WEIGHT"
   ]
  },
  {
   "cell_type": "code",
   "execution_count": 24,
   "metadata": {},
   "outputs": [],
   "source": [
    "BF.nonlinear = body.fat.clean\n",
    "kFoldCV = 10\n",
    "\n",
    "nonWeightCol = c(2, seq(4, 15))\n",
    "WeightCol = c(3)\n",
    "\n",
    "BF.nonlinear[, nonWeightCol] = BF.nonlinear[, nonWeightCol] / BF.nonlinear[, WeightCol]\n",
    "BF.nonlinear$invWeight = 1 / BF.nonlinear$WEIGHT\n",
    "BF.nonlinear$WEIGHT = NULL\n",
    "\n",
    "fracModelsInfo = data.frame(matrix(ncol = 3, nrow = length(nonWeightCol)))\n",
    "colnames(fracModelsInfo) = c(\"Variable.Name\", \"RMSE\", \"rSquare\")\n",
    "\n",
    "set.seed(123) \n",
    "train.control = trainControl(method = \"cv\", number = kFoldCV)\n",
    "\n",
    "for(i in seq(2, 14)){\n",
    "    varName = colnames(BF.nonlinear)[i]\n",
    "    model = train(BODYFAT ~ . , data = BF.nonlinear[, c(\"BODYFAT\", \"invWeight\", varName)],\n",
    "                  method = \"lm\", trControl = train.control)\n",
    "    \n",
    "    fracModelsInfo$Variable.Name[i-1] = varName\n",
    "    fracModelsInfo$RMSE[i-1] = model$results[, 'RMSE']\n",
    "    fracModelsInfo$rSquare[i-1] = model$results[, 'Rsquared']\n",
    "    # fracModelsInfo$model[i-1] = model$finalModel\n",
    "}"
   ]
  },
  {
   "cell_type": "code",
   "execution_count": 25,
   "metadata": {},
   "outputs": [
    {
     "name": "stdout",
     "output_type": "stream",
     "text": [
      "Best Model by RMSE"
     ]
    },
    {
     "data": {
      "text/html": [
       "<table>\n",
       "<thead><tr><th></th><th scope=col>Variable.Name</th><th scope=col>RMSE</th><th scope=col>rSquare</th></tr></thead>\n",
       "<tbody>\n",
       "\t<tr><th scope=row>6</th><td>ABDOMEN  </td><td>4.106067 </td><td>0.7097229</td></tr>\n",
       "</tbody>\n",
       "</table>\n"
      ],
      "text/latex": [
       "\\begin{tabular}{r|lll}\n",
       "  & Variable.Name & RMSE & rSquare\\\\\n",
       "\\hline\n",
       "\t6 & ABDOMEN   & 4.106067  & 0.7097229\\\\\n",
       "\\end{tabular}\n"
      ],
      "text/markdown": [
       "\n",
       "| <!--/--> | Variable.Name | RMSE | rSquare |\n",
       "|---|---|---|---|\n",
       "| 6 | ABDOMEN   | 4.106067  | 0.7097229 |\n",
       "\n"
      ],
      "text/plain": [
       "  Variable.Name RMSE     rSquare  \n",
       "6 ABDOMEN       4.106067 0.7097229"
      ]
     },
     "metadata": {},
     "output_type": "display_data"
    },
    {
     "name": "stdout",
     "output_type": "stream",
     "text": [
      "Best Model by R Square"
     ]
    },
    {
     "data": {
      "text/html": [
       "<table>\n",
       "<thead><tr><th></th><th scope=col>Variable.Name</th><th scope=col>RMSE</th><th scope=col>rSquare</th></tr></thead>\n",
       "<tbody>\n",
       "\t<tr><th scope=row>6</th><td>ABDOMEN  </td><td>4.106067 </td><td>0.7097229</td></tr>\n",
       "</tbody>\n",
       "</table>\n"
      ],
      "text/latex": [
       "\\begin{tabular}{r|lll}\n",
       "  & Variable.Name & RMSE & rSquare\\\\\n",
       "\\hline\n",
       "\t6 & ABDOMEN   & 4.106067  & 0.7097229\\\\\n",
       "\\end{tabular}\n"
      ],
      "text/markdown": [
       "\n",
       "| <!--/--> | Variable.Name | RMSE | rSquare |\n",
       "|---|---|---|---|\n",
       "| 6 | ABDOMEN   | 4.106067  | 0.7097229 |\n",
       "\n"
      ],
      "text/plain": [
       "  Variable.Name RMSE     rSquare  \n",
       "6 ABDOMEN       4.106067 0.7097229"
      ]
     },
     "metadata": {},
     "output_type": "display_data"
    },
    {
     "name": "stdout",
     "output_type": "stream",
     "text": [
      "Sorted by RMSE"
     ]
    },
    {
     "data": {
      "text/html": [
       "<table>\n",
       "<thead><tr><th></th><th scope=col>Variable.Name</th><th scope=col>RMSE</th><th scope=col>rSquare</th></tr></thead>\n",
       "<tbody>\n",
       "\t<tr><th scope=row>6</th><td>ABDOMEN  </td><td>4.106067 </td><td>0.7097229</td></tr>\n",
       "\t<tr><th scope=row>3</th><td>ADIPOSITY</td><td>5.069200 </td><td>0.5585059</td></tr>\n",
       "\t<tr><th scope=row>2</th><td>HEIGHT   </td><td>5.091234 </td><td>0.5570014</td></tr>\n",
       "\t<tr><th scope=row>5</th><td>CHEST    </td><td>5.421535 </td><td>0.4889839</td></tr>\n",
       "\t<tr><th scope=row>1</th><td>AGE      </td><td>5.445023 </td><td>0.4781106</td></tr>\n",
       "\t<tr><th scope=row>13</th><td>WRIST    </td><td>5.763896 </td><td>0.4182184</td></tr>\n",
       "\t<tr><th scope=row>7</th><td>HIP      </td><td>5.766817 </td><td>0.4217126</td></tr>\n",
       "\t<tr><th scope=row>8</th><td>THIGH    </td><td>5.845911 </td><td>0.4030650</td></tr>\n",
       "\t<tr><th scope=row>10</th><td>ANKLE    </td><td>5.857416 </td><td>0.3960387</td></tr>\n",
       "\t<tr><th scope=row>12</th><td>FOREARM  </td><td>5.864272 </td><td>0.4028571</td></tr>\n",
       "\t<tr><th scope=row>4</th><td>NECK     </td><td>5.865543 </td><td>0.3978908</td></tr>\n",
       "\t<tr><th scope=row>11</th><td>BICEPS   </td><td>5.868534 </td><td>0.3948352</td></tr>\n",
       "\t<tr><th scope=row>9</th><td>KNEE     </td><td>5.876304 </td><td>0.4017343</td></tr>\n",
       "</tbody>\n",
       "</table>\n"
      ],
      "text/latex": [
       "\\begin{tabular}{r|lll}\n",
       "  & Variable.Name & RMSE & rSquare\\\\\n",
       "\\hline\n",
       "\t6 & ABDOMEN   & 4.106067  & 0.7097229\\\\\n",
       "\t3 & ADIPOSITY & 5.069200  & 0.5585059\\\\\n",
       "\t2 & HEIGHT    & 5.091234  & 0.5570014\\\\\n",
       "\t5 & CHEST     & 5.421535  & 0.4889839\\\\\n",
       "\t1 & AGE       & 5.445023  & 0.4781106\\\\\n",
       "\t13 & WRIST     & 5.763896  & 0.4182184\\\\\n",
       "\t7 & HIP       & 5.766817  & 0.4217126\\\\\n",
       "\t8 & THIGH     & 5.845911  & 0.4030650\\\\\n",
       "\t10 & ANKLE     & 5.857416  & 0.3960387\\\\\n",
       "\t12 & FOREARM   & 5.864272  & 0.4028571\\\\\n",
       "\t4 & NECK      & 5.865543  & 0.3978908\\\\\n",
       "\t11 & BICEPS    & 5.868534  & 0.3948352\\\\\n",
       "\t9 & KNEE      & 5.876304  & 0.4017343\\\\\n",
       "\\end{tabular}\n"
      ],
      "text/markdown": [
       "\n",
       "| <!--/--> | Variable.Name | RMSE | rSquare |\n",
       "|---|---|---|---|\n",
       "| 6 | ABDOMEN   | 4.106067  | 0.7097229 |\n",
       "| 3 | ADIPOSITY | 5.069200  | 0.5585059 |\n",
       "| 2 | HEIGHT    | 5.091234  | 0.5570014 |\n",
       "| 5 | CHEST     | 5.421535  | 0.4889839 |\n",
       "| 1 | AGE       | 5.445023  | 0.4781106 |\n",
       "| 13 | WRIST     | 5.763896  | 0.4182184 |\n",
       "| 7 | HIP       | 5.766817  | 0.4217126 |\n",
       "| 8 | THIGH     | 5.845911  | 0.4030650 |\n",
       "| 10 | ANKLE     | 5.857416  | 0.3960387 |\n",
       "| 12 | FOREARM   | 5.864272  | 0.4028571 |\n",
       "| 4 | NECK      | 5.865543  | 0.3978908 |\n",
       "| 11 | BICEPS    | 5.868534  | 0.3948352 |\n",
       "| 9 | KNEE      | 5.876304  | 0.4017343 |\n",
       "\n"
      ],
      "text/plain": [
       "   Variable.Name RMSE     rSquare  \n",
       "6  ABDOMEN       4.106067 0.7097229\n",
       "3  ADIPOSITY     5.069200 0.5585059\n",
       "2  HEIGHT        5.091234 0.5570014\n",
       "5  CHEST         5.421535 0.4889839\n",
       "1  AGE           5.445023 0.4781106\n",
       "13 WRIST         5.763896 0.4182184\n",
       "7  HIP           5.766817 0.4217126\n",
       "8  THIGH         5.845911 0.4030650\n",
       "10 ANKLE         5.857416 0.3960387\n",
       "12 FOREARM       5.864272 0.4028571\n",
       "4  NECK          5.865543 0.3978908\n",
       "11 BICEPS        5.868534 0.3948352\n",
       "9  KNEE          5.876304 0.4017343"
      ]
     },
     "metadata": {},
     "output_type": "display_data"
    },
    {
     "name": "stdout",
     "output_type": "stream",
     "text": [
      "Sorted by R Square"
     ]
    },
    {
     "data": {
      "text/html": [
       "<table>\n",
       "<thead><tr><th></th><th scope=col>Variable.Name</th><th scope=col>RMSE</th><th scope=col>rSquare</th></tr></thead>\n",
       "<tbody>\n",
       "\t<tr><th scope=row>6</th><td>ABDOMEN  </td><td>4.106067 </td><td>0.7097229</td></tr>\n",
       "\t<tr><th scope=row>3</th><td>ADIPOSITY</td><td>5.069200 </td><td>0.5585059</td></tr>\n",
       "\t<tr><th scope=row>2</th><td>HEIGHT   </td><td>5.091234 </td><td>0.5570014</td></tr>\n",
       "\t<tr><th scope=row>5</th><td>CHEST    </td><td>5.421535 </td><td>0.4889839</td></tr>\n",
       "\t<tr><th scope=row>1</th><td>AGE      </td><td>5.445023 </td><td>0.4781106</td></tr>\n",
       "\t<tr><th scope=row>7</th><td>HIP      </td><td>5.766817 </td><td>0.4217126</td></tr>\n",
       "\t<tr><th scope=row>13</th><td>WRIST    </td><td>5.763896 </td><td>0.4182184</td></tr>\n",
       "\t<tr><th scope=row>8</th><td>THIGH    </td><td>5.845911 </td><td>0.4030650</td></tr>\n",
       "\t<tr><th scope=row>12</th><td>FOREARM  </td><td>5.864272 </td><td>0.4028571</td></tr>\n",
       "\t<tr><th scope=row>9</th><td>KNEE     </td><td>5.876304 </td><td>0.4017343</td></tr>\n",
       "\t<tr><th scope=row>4</th><td>NECK     </td><td>5.865543 </td><td>0.3978908</td></tr>\n",
       "\t<tr><th scope=row>10</th><td>ANKLE    </td><td>5.857416 </td><td>0.3960387</td></tr>\n",
       "\t<tr><th scope=row>11</th><td>BICEPS   </td><td>5.868534 </td><td>0.3948352</td></tr>\n",
       "</tbody>\n",
       "</table>\n"
      ],
      "text/latex": [
       "\\begin{tabular}{r|lll}\n",
       "  & Variable.Name & RMSE & rSquare\\\\\n",
       "\\hline\n",
       "\t6 & ABDOMEN   & 4.106067  & 0.7097229\\\\\n",
       "\t3 & ADIPOSITY & 5.069200  & 0.5585059\\\\\n",
       "\t2 & HEIGHT    & 5.091234  & 0.5570014\\\\\n",
       "\t5 & CHEST     & 5.421535  & 0.4889839\\\\\n",
       "\t1 & AGE       & 5.445023  & 0.4781106\\\\\n",
       "\t7 & HIP       & 5.766817  & 0.4217126\\\\\n",
       "\t13 & WRIST     & 5.763896  & 0.4182184\\\\\n",
       "\t8 & THIGH     & 5.845911  & 0.4030650\\\\\n",
       "\t12 & FOREARM   & 5.864272  & 0.4028571\\\\\n",
       "\t9 & KNEE      & 5.876304  & 0.4017343\\\\\n",
       "\t4 & NECK      & 5.865543  & 0.3978908\\\\\n",
       "\t10 & ANKLE     & 5.857416  & 0.3960387\\\\\n",
       "\t11 & BICEPS    & 5.868534  & 0.3948352\\\\\n",
       "\\end{tabular}\n"
      ],
      "text/markdown": [
       "\n",
       "| <!--/--> | Variable.Name | RMSE | rSquare |\n",
       "|---|---|---|---|\n",
       "| 6 | ABDOMEN   | 4.106067  | 0.7097229 |\n",
       "| 3 | ADIPOSITY | 5.069200  | 0.5585059 |\n",
       "| 2 | HEIGHT    | 5.091234  | 0.5570014 |\n",
       "| 5 | CHEST     | 5.421535  | 0.4889839 |\n",
       "| 1 | AGE       | 5.445023  | 0.4781106 |\n",
       "| 7 | HIP       | 5.766817  | 0.4217126 |\n",
       "| 13 | WRIST     | 5.763896  | 0.4182184 |\n",
       "| 8 | THIGH     | 5.845911  | 0.4030650 |\n",
       "| 12 | FOREARM   | 5.864272  | 0.4028571 |\n",
       "| 9 | KNEE      | 5.876304  | 0.4017343 |\n",
       "| 4 | NECK      | 5.865543  | 0.3978908 |\n",
       "| 10 | ANKLE     | 5.857416  | 0.3960387 |\n",
       "| 11 | BICEPS    | 5.868534  | 0.3948352 |\n",
       "\n"
      ],
      "text/plain": [
       "   Variable.Name RMSE     rSquare  \n",
       "6  ABDOMEN       4.106067 0.7097229\n",
       "3  ADIPOSITY     5.069200 0.5585059\n",
       "2  HEIGHT        5.091234 0.5570014\n",
       "5  CHEST         5.421535 0.4889839\n",
       "1  AGE           5.445023 0.4781106\n",
       "7  HIP           5.766817 0.4217126\n",
       "13 WRIST         5.763896 0.4182184\n",
       "8  THIGH         5.845911 0.4030650\n",
       "12 FOREARM       5.864272 0.4028571\n",
       "9  KNEE          5.876304 0.4017343\n",
       "4  NECK          5.865543 0.3978908\n",
       "10 ANKLE         5.857416 0.3960387\n",
       "11 BICEPS        5.868534 0.3948352"
      ]
     },
     "metadata": {},
     "output_type": "display_data"
    }
   ],
   "source": [
    "cat(\"Best Model by RMSE\")\n",
    "fracModelsInfo[ which.min(fracModelsInfo$RMSE),  ]\n",
    "cat(\"Best Model by R Square\")\n",
    "fracModelsInfo[ which.max(fracModelsInfo$rSquare),  ]\n",
    "\n",
    "fracModelBestVar = fracModelsInfo[ which.min(fracModelsInfo$RMSE), 'Variable.Name']\n",
    "\n",
    "cat(\"Sorted by RMSE\")\n",
    "fracModelsInfo[ order(fracModelsInfo$RMSE), ]\n",
    "cat(\"Sorted by R Square\")\n",
    "fracModelsInfo[ order(fracModelsInfo$rSquare, decreasing = TRUE), ]"
   ]
  },
  {
   "cell_type": "code",
   "execution_count": 26,
   "metadata": {},
   "outputs": [
    {
     "data": {
      "text/plain": [
       "\n",
       "Call:\n",
       "lm(formula = BODYFAT ~ ., data = BF.nonlinear[, c(\"BODYFAT\", \n",
       "    \"invWeight\", fracModelBestVar)])\n",
       "\n",
       "Residuals:\n",
       "     Min       1Q   Median       3Q      Max \n",
       "-10.6759  -2.9917  -0.0988   2.8047   9.1034 \n",
       "\n",
       "Coefficients:\n",
       "              Estimate Std. Error t value Pr(>|t|)    \n",
       "(Intercept)     -1.428      3.566  -0.401    0.689    \n",
       "invWeight   -10684.826    442.715 -24.135   <2e-16 ***\n",
       "ABDOMEN        156.262      9.594  16.288   <2e-16 ***\n",
       "---\n",
       "Signif. codes:  0 '***' 0.001 '**' 0.01 '*' 0.05 '.' 0.1 ' ' 1\n",
       "\n",
       "Residual standard error: 4.097 on 246 degrees of freedom\n",
       "Multiple R-squared:  0.7052,\tAdjusted R-squared:  0.7028 \n",
       "F-statistic: 294.2 on 2 and 246 DF,  p-value: < 2.2e-16\n"
      ]
     },
     "metadata": {},
     "output_type": "display_data"
    },
    {
     "data": {
      "text/plain": [
       "\n",
       "Call:\n",
       "lm(formula = BODYFAT ~ . - 1, data = BF.nonlinear[, c(\"BODYFAT\", \n",
       "    \"invWeight\", fracModelBestVar)])\n",
       "\n",
       "Residuals:\n",
       "     Min       1Q   Median       3Q      Max \n",
       "-10.6455  -3.0098  -0.0213   2.6851   9.2262 \n",
       "\n",
       "Coefficients:\n",
       "            Estimate Std. Error t value Pr(>|t|)    \n",
       "invWeight -10626.109    417.034  -25.48   <2e-16 ***\n",
       "ABDOMEN      152.894      4.615   33.13   <2e-16 ***\n",
       "---\n",
       "Signif. codes:  0 '***' 0.001 '**' 0.01 '*' 0.05 '.' 0.1 ' ' 1\n",
       "\n",
       "Residual standard error: 4.09 on 247 degrees of freedom\n",
       "Multiple R-squared:   0.96,\tAdjusted R-squared:  0.9597 \n",
       "F-statistic:  2963 on 2 and 247 DF,  p-value: < 2.2e-16\n"
      ]
     },
     "metadata": {},
     "output_type": "display_data"
    }
   ],
   "source": [
    "frac.model.1 = lm(BODYFAT ~ . , data = BF.nonlinear[, c(\"BODYFAT\", \"invWeight\", fracModelBestVar)])\n",
    "summary(frac.model.1) # >>> the intercept is not significant so we consider drop it in the next model. \n",
    "\n",
    "frac.model.2 = lm(BODYFAT ~ . -1, data = BF.nonlinear[, c(\"BODYFAT\", \"invWeight\", fracModelBestVar)])\n",
    "summary(frac.model.2)"
   ]
  },
  {
   "cell_type": "markdown",
   "metadata": {},
   "source": [
    "## 4. Multicolinearity in the linear model"
   ]
  },
  {
   "cell_type": "markdown",
   "metadata": {},
   "source": [
    "From the above study, we can get two simple models. If we consider the simple liear model, we get a model with four variables in the end: \n",
    "\n",
    "\\begin{equation}\n",
    "\\text{BODYFAT} = \\text{WEIGHT} + \\text{ABDOMEN} + \\text{FOREARM} + \\text{WRIST}\n",
    "\\end{equation}\n",
    "\n",
    "Next, we are going to detect multicolinearity problem among the four variables."
   ]
  },
  {
   "cell_type": "code",
   "execution_count": 27,
   "metadata": {},
   "outputs": [
    {
     "name": "stderr",
     "output_type": "stream",
     "text": [
      "Loading required package: carData\n",
      "Registered S3 methods overwritten by 'car':\n",
      "  method                          from\n",
      "  influence.merMod                lme4\n",
      "  cooks.distance.influence.merMod lme4\n",
      "  dfbeta.influence.merMod         lme4\n",
      "  dfbetas.influence.merMod        lme4\n",
      "\n",
      "Attaching package: 'car'\n",
      "\n",
      "The following objects are masked from 'package:faraway':\n",
      "\n",
      "    logit, vif\n",
      "\n",
      "The following object is masked from 'package:purrr':\n",
      "\n",
      "    some\n",
      "\n",
      "The following object is masked from 'package:dplyr':\n",
      "\n",
      "    recode\n",
      "\n"
     ]
    }
   ],
   "source": [
    "#install.packages(\"caret\")\n",
    "#install.packages(\"car\")\n",
    "library(caret)\n",
    "library(car)\n",
    "attach(body.fat.clean)"
   ]
  },
  {
   "cell_type": "code",
   "execution_count": 28,
   "metadata": {},
   "outputs": [],
   "source": [
    "training.index = sample(1:dim(body.fat.clean)[1],size = 0.7*dim(body.fat.clean)[1])\n",
    "training.set = body.fat.clean[training.index,]\n",
    "test.set = body.fat.clean[-training.index,]"
   ]
  },
  {
   "cell_type": "code",
   "execution_count": 29,
   "metadata": {
    "scrolled": true
   },
   "outputs": [
    {
     "data": {
      "text/html": [
       "<dl class=dl-horizontal>\n",
       "\t<dt>WEIGHT</dt>\n",
       "\t\t<dd>7.66785367541814</dd>\n",
       "\t<dt>ABDOMEN</dt>\n",
       "\t\t<dd>5.1607319910436</dd>\n",
       "\t<dt>FOREARM</dt>\n",
       "\t\t<dd>1.89340839818413</dd>\n",
       "\t<dt>WRIST</dt>\n",
       "\t\t<dd>2.31829488382059</dd>\n",
       "</dl>\n"
      ],
      "text/latex": [
       "\\begin{description*}\n",
       "\\item[WEIGHT] 7.66785367541814\n",
       "\\item[ABDOMEN] 5.1607319910436\n",
       "\\item[FOREARM] 1.89340839818413\n",
       "\\item[WRIST] 2.31829488382059\n",
       "\\end{description*}\n"
      ],
      "text/markdown": [
       "WEIGHT\n",
       ":   7.66785367541814ABDOMEN\n",
       ":   5.1607319910436FOREARM\n",
       ":   1.89340839818413WRIST\n",
       ":   2.31829488382059\n",
       "\n"
      ],
      "text/plain": [
       "  WEIGHT  ABDOMEN  FOREARM    WRIST \n",
       "7.667854 5.160732 1.893408 2.318295 "
      ]
     },
     "metadata": {},
     "output_type": "display_data"
    }
   ],
   "source": [
    "# Full model with four variables\n",
    "m1 = lm(BODYFAT ~ WEIGHT + ABDOMEN + FOREARM + WRIST, data = training.set)\n",
    "predictions = predict(m1,test.set)\n",
    "df1 = data.frame(RMSE = RMSE(predictions, test.set$BODYFAT),\n",
    "                 R2 = R2(predictions, test.set$BODYFAT))\n",
    "vif(m1)"
   ]
  },
  {
   "cell_type": "markdown",
   "metadata": {},
   "source": [
    "From the full model, **weight** has the highest VIF value and it may have some multicolinearity problem. In order to find two variables that has the best prediction power while suffer less from multicoliearity problem, we are going to drop the variables gradually to see whether the model performance changes a lot."
   ]
  },
  {
   "cell_type": "code",
   "execution_count": 30,
   "metadata": {},
   "outputs": [],
   "source": [
    "# Drop WEIGHT >>> model performance does not change too much so we can dropping weight might be helpful with multicolinearity\n",
    "m2 = lm(BODYFAT ~ ABDOMEN + FOREARM + WRIST, data = training.set)\n",
    "predictions = predict(m2,test.set)\n",
    "df2 = data.frame(RMSE = RMSE(predictions, test.set$BODYFAT),\n",
    "                 R2 = R2(predictions, test.set$BODYFAT))\n",
    "\n",
    "# Drop WEIGHT + ABDOMEN >>> model performance gets worse so we can not drop ABDOMEN\n",
    "m3 = lm(BODYFAT ~ FOREARM + WRIST, data = training.set)\n",
    "predictions = predict(m3,test.set)\n",
    "df3 = data.frame(RMSE = RMSE(predictions, test.set$BODYFAT),\n",
    "                 R2 = R2(predictions, test.set$BODYFAT))\n",
    "\n",
    "# Drop WEIGHT + FOREARM\n",
    "m4 = lm(BODYFAT ~ ABDOMEN + WRIST, data = training.set)\n",
    "predictions = predict(m4,test.set)\n",
    "df4 = data.frame(RMSE = RMSE(predictions, test.set$BODYFAT),\n",
    "                 R2 = R2(predictions, test.set$BODYFAT))\n",
    "\n",
    "# Drop WEIGHT + WRIST\n",
    "m5 = lm(BODYFAT ~ ABDOMEN + FOREARM, data = training.set)\n",
    "predictions = predict(m5,test.set)\n",
    "df5 = data.frame(RMSE = RMSE(predictions, test.set$BODYFAT),\n",
    "                 R2 = R2(predictions, test.set$BODYFAT))\n",
    "\n",
    "# Drop WRIST + FOREARM\n",
    "m6 = lm(BODYFAT ~ WEIGHT + ABDOMEN, data = training.set)\n",
    "predictions = predict(m6,test.set)\n",
    "df6 = data.frame(RMSE = RMSE(predictions, test.set$BODYFAT),\n",
    "                 R2 = R2(predictions, test.set$BODYFAT))"
   ]
  },
  {
   "cell_type": "code",
   "execution_count": 31,
   "metadata": {},
   "outputs": [
    {
     "data": {
      "text/html": [
       "<table>\n",
       "<thead><tr><th scope=col>Models</th><th scope=col>RMSE</th><th scope=col>R2</th></tr></thead>\n",
       "<tbody>\n",
       "\t<tr><td>Full model               </td><td>4.184500                 </td><td>0.6763756                </td></tr>\n",
       "\t<tr><td>ABDOMEN + FOREARM + WRIST</td><td>3.961650                 </td><td>0.7038511                </td></tr>\n",
       "\t<tr><td>FOREARM + WRIST          </td><td>6.816261                 </td><td>0.1174587                </td></tr>\n",
       "\t<tr><td>ABDOMEN + WRIST          </td><td>3.877866                 </td><td>0.7181278                </td></tr>\n",
       "\t<tr><td>ABDOMEN + FOREARM        </td><td>4.147919                 </td><td>0.6755324                </td></tr>\n",
       "\t<tr><td>WEIGHT + ABDOMEN         </td><td>3.977992                 </td><td>0.7025314                </td></tr>\n",
       "</tbody>\n",
       "</table>\n"
      ],
      "text/latex": [
       "\\begin{tabular}{r|lll}\n",
       " Models & RMSE & R2\\\\\n",
       "\\hline\n",
       "\t Full model                & 4.184500                  & 0.6763756                \\\\\n",
       "\t ABDOMEN + FOREARM + WRIST & 3.961650                  & 0.7038511                \\\\\n",
       "\t FOREARM + WRIST           & 6.816261                  & 0.1174587                \\\\\n",
       "\t ABDOMEN + WRIST           & 3.877866                  & 0.7181278                \\\\\n",
       "\t ABDOMEN + FOREARM         & 4.147919                  & 0.6755324                \\\\\n",
       "\t WEIGHT + ABDOMEN          & 3.977992                  & 0.7025314                \\\\\n",
       "\\end{tabular}\n"
      ],
      "text/markdown": [
       "\n",
       "| Models | RMSE | R2 |\n",
       "|---|---|---|\n",
       "| Full model                | 4.184500                  | 0.6763756                 |\n",
       "| ABDOMEN + FOREARM + WRIST | 3.961650                  | 0.7038511                 |\n",
       "| FOREARM + WRIST           | 6.816261                  | 0.1174587                 |\n",
       "| ABDOMEN + WRIST           | 3.877866                  | 0.7181278                 |\n",
       "| ABDOMEN + FOREARM         | 4.147919                  | 0.6755324                 |\n",
       "| WEIGHT + ABDOMEN          | 3.977992                  | 0.7025314                 |\n",
       "\n"
      ],
      "text/plain": [
       "  Models                    RMSE     R2       \n",
       "1 Full model                4.184500 0.6763756\n",
       "2 ABDOMEN + FOREARM + WRIST 3.961650 0.7038511\n",
       "3 FOREARM + WRIST           6.816261 0.1174587\n",
       "4 ABDOMEN + WRIST           3.877866 0.7181278\n",
       "5 ABDOMEN + FOREARM         4.147919 0.6755324\n",
       "6 WEIGHT + ABDOMEN          3.977992 0.7025314"
      ]
     },
     "metadata": {},
     "output_type": "display_data"
    }
   ],
   "source": [
    "result= data.frame(c(\"Full model\", \"ABDOMEN + FOREARM + WRIST\", \"FOREARM + WRIST\",\n",
    "                            \"ABDOMEN + WRIST\", \"ABDOMEN + FOREARM\",\"WEIGHT + ABDOMEN\"))\n",
    "df = rbind(df1, df2, df3, df4, df5, df6)\n",
    "result = cbind(result, df)\n",
    "colnames(result) = c(\"Models\", \"RMSE\", \"R2\")\n",
    "result"
   ]
  },
  {
   "cell_type": "markdown",
   "metadata": {},
   "source": [
    "From the above table, we can conclude than \n",
    "\\begin{equation}\n",
    "BODYFAT = ABDOMEN + WRIST\n",
    "\\end{equation}\n",
    "is the best linear models."
   ]
  },
  {
   "cell_type": "code",
   "execution_count": 32,
   "metadata": {},
   "outputs": [
    {
     "data": {
      "text/plain": [
       "\n",
       "Call:\n",
       "lm(formula = BODYFAT ~ ABDOMEN + WRIST, data = body.fat.clean)\n",
       "\n",
       "Residuals:\n",
       "     Min       1Q   Median       3Q      Max \n",
       "-16.5970  -3.0393  -0.0836   3.0330  10.6110 \n",
       "\n",
       "Coefficients:\n",
       "            Estimate Std. Error t value Pr(>|t|)    \n",
       "(Intercept) -6.96883    5.42479  -1.285      0.2    \n",
       "ABDOMEN      0.68294    0.03253  20.995  < 2e-16 ***\n",
       "WRIST       -2.04567    0.37095  -5.515 8.83e-08 ***\n",
       "---\n",
       "Signif. codes:  0 '***' 0.001 '**' 0.01 '*' 0.05 '.' 0.1 ' ' 1\n",
       "\n",
       "Residual standard error: 4.233 on 246 degrees of freedom\n",
       "Multiple R-squared:  0.6853,\tAdjusted R-squared:  0.6827 \n",
       "F-statistic: 267.8 on 2 and 246 DF,  p-value: < 2.2e-16\n"
      ]
     },
     "metadata": {},
     "output_type": "display_data"
    }
   ],
   "source": [
    "linear.model = lm(BODYFAT~ABDOMEN+WRIST,data = body.fat.clean)\n",
    "summary(linear.model)"
   ]
  },
  {
   "cell_type": "markdown",
   "metadata": {},
   "source": [
    "## 4. Compare the linear model and fraction model"
   ]
  },
  {
   "cell_type": "markdown",
   "metadata": {},
   "source": [
    "Now we have two models. The linear model:\n",
    "\\begin{equation}\n",
    "\\text{Bodyfat} = 0.683 \\times \\text{Abdomen} -2.046 \\times \\text{Wrist}, R^2 = 0.6827\n",
    "\\end{equation}\n",
    "The fraction model:\n",
    "\\begin{equation}\n",
    "\\text{Bodyfat }= 152.894 \\times \\frac{\\text{Abdomen}}{\\text{Weight}} - 10626.109 \\times \\frac{1}{\\text{Weight}}, R^2 = 0.9597\n",
    "\\end{equation}"
   ]
  },
  {
   "cell_type": "markdown",
   "metadata": {},
   "source": [
    "# Contributions of each member"
   ]
  },
  {
   "cell_type": "code",
   "execution_count": null,
   "metadata": {},
   "outputs": [],
   "source": []
  }
 ],
 "metadata": {
  "kernelspec": {
   "display_name": "R",
   "language": "R",
   "name": "ir"
  },
  "language_info": {
   "codemirror_mode": "r",
   "file_extension": ".r",
   "mimetype": "text/x-r-source",
   "name": "R",
   "pygments_lexer": "r",
   "version": "3.6.1"
  }
 },
 "nbformat": 4,
 "nbformat_minor": 4
}
