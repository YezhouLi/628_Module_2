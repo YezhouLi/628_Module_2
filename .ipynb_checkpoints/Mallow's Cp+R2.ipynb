{
 "cells": [
  {
   "cell_type": "code",
   "execution_count": 26,
   "metadata": {
    "collapsed": true
   },
   "outputs": [
    {
     "name": "stderr",
     "output_type": "stream",
     "text": [
      "The following objects are masked from data (pos = 5):\n",
      "\n",
      "    ABDOMEN, ADIPOSITY, AGE, ANKLE, BICEPS, BODYFAT, CHEST, DENSITY,\n",
      "    FOREARM, HEIGHT, HIP, IDNO, KNEE, NECK, THIGH, WEIGHT, WRIST\n",
      "\n",
      "The following objects are masked from data (pos = 6):\n",
      "\n",
      "    ABDOMEN, ADIPOSITY, AGE, ANKLE, BICEPS, BODYFAT, CHEST, DENSITY,\n",
      "    FOREARM, HEIGHT, HIP, IDNO, KNEE, NECK, THIGH, WEIGHT, WRIST\n",
      "\n",
      "The following objects are masked from data (pos = 7):\n",
      "\n",
      "    ABDOMEN, ADIPOSITY, AGE, ANKLE, BICEPS, BODYFAT, CHEST, DENSITY,\n",
      "    FOREARM, HEIGHT, HIP, IDNO, KNEE, NECK, THIGH, WEIGHT, WRIST\n",
      "\n",
      "The following objects are masked from data (pos = 8):\n",
      "\n",
      "    ABDOMEN, ADIPOSITY, AGE, ANKLE, BICEPS, BODYFAT, CHEST, DENSITY,\n",
      "    FOREARM, HEIGHT, HIP, KNEE, NECK, THIGH, WEIGHT, WRIST\n",
      "\n"
     ]
    }
   ],
   "source": [
    "setwd(\"D:/Fall2019/STAT 628 Data Science Practicum/Module2\")\n",
    "data = read.csv(\"Bodyfat.csv\",header = T)\n",
    "attach(data)"
   ]
  },
  {
   "cell_type": "markdown",
   "metadata": {},
   "source": [
    "## Explore the dataset"
   ]
  },
  {
   "cell_type": "code",
   "execution_count": 27,
   "metadata": {},
   "outputs": [
    {
     "data": {
      "text/html": [
       "<table>\n",
       "<thead><tr><th scope=col>IDNO</th><th scope=col>BODYFAT</th><th scope=col>DENSITY</th><th scope=col>AGE</th><th scope=col>WEIGHT</th><th scope=col>HEIGHT</th><th scope=col>ADIPOSITY</th><th scope=col>NECK</th><th scope=col>CHEST</th><th scope=col>ABDOMEN</th><th scope=col>HIP</th><th scope=col>THIGH</th><th scope=col>KNEE</th><th scope=col>ANKLE</th><th scope=col>BICEPS</th><th scope=col>FOREARM</th><th scope=col>WRIST</th></tr></thead>\n",
       "<tbody>\n",
       "\t<tr><td>1     </td><td>12.6  </td><td>1.0708</td><td>23    </td><td>154.25</td><td>67.75 </td><td>23.7  </td><td>36.2  </td><td> 93.1 </td><td> 85.2 </td><td> 94.5 </td><td>59.0  </td><td>37.3  </td><td>21.9  </td><td>32.0  </td><td>27.4  </td><td>17.1  </td></tr>\n",
       "\t<tr><td>2     </td><td> 6.9  </td><td>1.0853</td><td>22    </td><td>173.25</td><td>72.25 </td><td>23.4  </td><td>38.5  </td><td> 93.6 </td><td> 83.0 </td><td> 98.7 </td><td>58.7  </td><td>37.3  </td><td>23.4  </td><td>30.5  </td><td>28.9  </td><td>18.2  </td></tr>\n",
       "\t<tr><td>3     </td><td>24.6  </td><td>1.0414</td><td>22    </td><td>154.00</td><td>66.25 </td><td>24.7  </td><td>34.0  </td><td> 95.8 </td><td> 87.9 </td><td> 99.2 </td><td>59.6  </td><td>38.9  </td><td>24.0  </td><td>28.8  </td><td>25.2  </td><td>16.6  </td></tr>\n",
       "\t<tr><td>4     </td><td>10.9  </td><td>1.0751</td><td>26    </td><td>184.75</td><td>72.25 </td><td>24.9  </td><td>37.4  </td><td>101.8 </td><td> 86.4 </td><td>101.2 </td><td>60.1  </td><td>37.3  </td><td>22.8  </td><td>32.4  </td><td>29.4  </td><td>18.2  </td></tr>\n",
       "\t<tr><td>5     </td><td>27.8  </td><td>1.0340</td><td>24    </td><td>184.25</td><td>71.25 </td><td>25.6  </td><td>34.4  </td><td> 97.3 </td><td>100.0 </td><td>101.9 </td><td>63.2  </td><td>42.2  </td><td>24.0  </td><td>32.2  </td><td>27.7  </td><td>17.7  </td></tr>\n",
       "\t<tr><td>6     </td><td>20.6  </td><td>1.0502</td><td>24    </td><td>210.25</td><td>74.75 </td><td>26.5  </td><td>39.0  </td><td>104.5 </td><td> 94.4 </td><td>107.8 </td><td>66.0  </td><td>42.0  </td><td>25.6  </td><td>35.7  </td><td>30.6  </td><td>18.8  </td></tr>\n",
       "</tbody>\n",
       "</table>\n"
      ],
      "text/latex": [
       "\\begin{tabular}{r|lllllllllllllllll}\n",
       " IDNO & BODYFAT & DENSITY & AGE & WEIGHT & HEIGHT & ADIPOSITY & NECK & CHEST & ABDOMEN & HIP & THIGH & KNEE & ANKLE & BICEPS & FOREARM & WRIST\\\\\n",
       "\\hline\n",
       "\t 1      & 12.6   & 1.0708 & 23     & 154.25 & 67.75  & 23.7   & 36.2   &  93.1  &  85.2  &  94.5  & 59.0   & 37.3   & 21.9   & 32.0   & 27.4   & 17.1  \\\\\n",
       "\t 2      &  6.9   & 1.0853 & 22     & 173.25 & 72.25  & 23.4   & 38.5   &  93.6  &  83.0  &  98.7  & 58.7   & 37.3   & 23.4   & 30.5   & 28.9   & 18.2  \\\\\n",
       "\t 3      & 24.6   & 1.0414 & 22     & 154.00 & 66.25  & 24.7   & 34.0   &  95.8  &  87.9  &  99.2  & 59.6   & 38.9   & 24.0   & 28.8   & 25.2   & 16.6  \\\\\n",
       "\t 4      & 10.9   & 1.0751 & 26     & 184.75 & 72.25  & 24.9   & 37.4   & 101.8  &  86.4  & 101.2  & 60.1   & 37.3   & 22.8   & 32.4   & 29.4   & 18.2  \\\\\n",
       "\t 5      & 27.8   & 1.0340 & 24     & 184.25 & 71.25  & 25.6   & 34.4   &  97.3  & 100.0  & 101.9  & 63.2   & 42.2   & 24.0   & 32.2   & 27.7   & 17.7  \\\\\n",
       "\t 6      & 20.6   & 1.0502 & 24     & 210.25 & 74.75  & 26.5   & 39.0   & 104.5  &  94.4  & 107.8  & 66.0   & 42.0   & 25.6   & 35.7   & 30.6   & 18.8  \\\\\n",
       "\\end{tabular}\n"
      ],
      "text/markdown": [
       "\n",
       "| IDNO | BODYFAT | DENSITY | AGE | WEIGHT | HEIGHT | ADIPOSITY | NECK | CHEST | ABDOMEN | HIP | THIGH | KNEE | ANKLE | BICEPS | FOREARM | WRIST |\n",
       "|---|---|---|---|---|---|---|---|---|---|---|---|---|---|---|---|---|\n",
       "| 1      | 12.6   | 1.0708 | 23     | 154.25 | 67.75  | 23.7   | 36.2   |  93.1  |  85.2  |  94.5  | 59.0   | 37.3   | 21.9   | 32.0   | 27.4   | 17.1   |\n",
       "| 2      |  6.9   | 1.0853 | 22     | 173.25 | 72.25  | 23.4   | 38.5   |  93.6  |  83.0  |  98.7  | 58.7   | 37.3   | 23.4   | 30.5   | 28.9   | 18.2   |\n",
       "| 3      | 24.6   | 1.0414 | 22     | 154.00 | 66.25  | 24.7   | 34.0   |  95.8  |  87.9  |  99.2  | 59.6   | 38.9   | 24.0   | 28.8   | 25.2   | 16.6   |\n",
       "| 4      | 10.9   | 1.0751 | 26     | 184.75 | 72.25  | 24.9   | 37.4   | 101.8  |  86.4  | 101.2  | 60.1   | 37.3   | 22.8   | 32.4   | 29.4   | 18.2   |\n",
       "| 5      | 27.8   | 1.0340 | 24     | 184.25 | 71.25  | 25.6   | 34.4   |  97.3  | 100.0  | 101.9  | 63.2   | 42.2   | 24.0   | 32.2   | 27.7   | 17.7   |\n",
       "| 6      | 20.6   | 1.0502 | 24     | 210.25 | 74.75  | 26.5   | 39.0   | 104.5  |  94.4  | 107.8  | 66.0   | 42.0   | 25.6   | 35.7   | 30.6   | 18.8   |\n",
       "\n"
      ],
      "text/plain": [
       "  IDNO BODYFAT DENSITY AGE WEIGHT HEIGHT ADIPOSITY NECK CHEST ABDOMEN HIP  \n",
       "1 1    12.6    1.0708  23  154.25 67.75  23.7      36.2  93.1  85.2    94.5\n",
       "2 2     6.9    1.0853  22  173.25 72.25  23.4      38.5  93.6  83.0    98.7\n",
       "3 3    24.6    1.0414  22  154.00 66.25  24.7      34.0  95.8  87.9    99.2\n",
       "4 4    10.9    1.0751  26  184.75 72.25  24.9      37.4 101.8  86.4   101.2\n",
       "5 5    27.8    1.0340  24  184.25 71.25  25.6      34.4  97.3 100.0   101.9\n",
       "6 6    20.6    1.0502  24  210.25 74.75  26.5      39.0 104.5  94.4   107.8\n",
       "  THIGH KNEE ANKLE BICEPS FOREARM WRIST\n",
       "1 59.0  37.3 21.9  32.0   27.4    17.1 \n",
       "2 58.7  37.3 23.4  30.5   28.9    18.2 \n",
       "3 59.6  38.9 24.0  28.8   25.2    16.6 \n",
       "4 60.1  37.3 22.8  32.4   29.4    18.2 \n",
       "5 63.2  42.2 24.0  32.2   27.7    17.7 \n",
       "6 66.0  42.0 25.6  35.7   30.6    18.8 "
      ]
     },
     "metadata": {},
     "output_type": "display_data"
    }
   ],
   "source": [
    "head(data)"
   ]
  },
  {
   "cell_type": "code",
   "execution_count": 28,
   "metadata": {},
   "outputs": [
    {
     "data": {
      "text/html": [
       "<ol class=list-inline>\n",
       "\t<li>252</li>\n",
       "\t<li>17</li>\n",
       "</ol>\n"
      ],
      "text/latex": [
       "\\begin{enumerate*}\n",
       "\\item 252\n",
       "\\item 17\n",
       "\\end{enumerate*}\n"
      ],
      "text/markdown": [
       "1. 252\n",
       "2. 17\n",
       "\n",
       "\n"
      ],
      "text/plain": [
       "[1] 252  17"
      ]
     },
     "metadata": {},
     "output_type": "display_data"
    }
   ],
   "source": [
    "dim(data)"
   ]
  },
  {
   "cell_type": "code",
   "execution_count": 29,
   "metadata": {},
   "outputs": [
    {
     "name": "stdout",
     "output_type": "stream",
     "text": [
      "'data.frame':\t252 obs. of  17 variables:\n",
      " $ IDNO     : int  1 2 3 4 5 6 7 8 9 10 ...\n",
      " $ BODYFAT  : num  12.6 6.9 24.6 10.9 27.8 20.6 19 12.8 5.1 12 ...\n",
      " $ DENSITY  : num  1.07 1.09 1.04 1.08 1.03 ...\n",
      " $ AGE      : int  23 22 22 26 24 24 26 25 25 23 ...\n",
      " $ WEIGHT   : num  154 173 154 185 184 ...\n",
      " $ HEIGHT   : num  67.8 72.2 66.2 72.2 71.2 ...\n",
      " $ ADIPOSITY: num  23.7 23.4 24.7 24.9 25.6 26.5 26.2 23.6 24.6 25.8 ...\n",
      " $ NECK     : num  36.2 38.5 34 37.4 34.4 39 36.4 37.8 38.1 42.1 ...\n",
      " $ CHEST    : num  93.1 93.6 95.8 101.8 97.3 ...\n",
      " $ ABDOMEN  : num  85.2 83 87.9 86.4 100 94.4 90.7 88.5 82.5 88.6 ...\n",
      " $ HIP      : num  94.5 98.7 99.2 101.2 101.9 ...\n",
      " $ THIGH    : num  59 58.7 59.6 60.1 63.2 66 58.4 60 62.9 63.1 ...\n",
      " $ KNEE     : num  37.3 37.3 38.9 37.3 42.2 42 38.3 39.4 38.3 41.7 ...\n",
      " $ ANKLE    : num  21.9 23.4 24 22.8 24 25.6 22.9 23.2 23.8 25 ...\n",
      " $ BICEPS   : num  32 30.5 28.8 32.4 32.2 35.7 31.9 30.5 35.9 35.6 ...\n",
      " $ FOREARM  : num  27.4 28.9 25.2 29.4 27.7 30.6 27.8 29 31.1 30 ...\n",
      " $ WRIST    : num  17.1 18.2 16.6 18.2 17.7 18.8 17.7 18.8 18.2 19.2 ...\n"
     ]
    }
   ],
   "source": [
    "str(data)"
   ]
  },
  {
   "cell_type": "code",
   "execution_count": 30,
   "metadata": {},
   "outputs": [],
   "source": [
    "data = data[,-1]"
   ]
  },
  {
   "cell_type": "code",
   "execution_count": 31,
   "metadata": {},
   "outputs": [
    {
     "data": {
      "text/plain": [
       "    BODYFAT         DENSITY           AGE            WEIGHT     \n",
       " Min.   : 0.00   Min.   :0.995   Min.   :22.00   Min.   :118.5  \n",
       " 1st Qu.:12.80   1st Qu.:1.041   1st Qu.:35.75   1st Qu.:159.0  \n",
       " Median :19.00   Median :1.055   Median :43.00   Median :176.5  \n",
       " Mean   :18.94   Mean   :1.056   Mean   :44.88   Mean   :178.9  \n",
       " 3rd Qu.:24.60   3rd Qu.:1.070   3rd Qu.:54.00   3rd Qu.:197.0  \n",
       " Max.   :45.10   Max.   :1.109   Max.   :81.00   Max.   :363.1  \n",
       "     HEIGHT        ADIPOSITY          NECK           CHEST       \n",
       " Min.   :29.50   Min.   :18.10   Min.   :31.10   Min.   : 79.30  \n",
       " 1st Qu.:68.25   1st Qu.:23.10   1st Qu.:36.40   1st Qu.: 94.35  \n",
       " Median :70.00   Median :25.05   Median :38.00   Median : 99.65  \n",
       " Mean   :70.15   Mean   :25.44   Mean   :37.99   Mean   :100.82  \n",
       " 3rd Qu.:72.25   3rd Qu.:27.32   3rd Qu.:39.42   3rd Qu.:105.38  \n",
       " Max.   :77.75   Max.   :48.90   Max.   :51.20   Max.   :136.20  \n",
       "    ABDOMEN            HIP            THIGH            KNEE      \n",
       " Min.   : 69.40   Min.   : 85.0   Min.   :47.20   Min.   :33.00  \n",
       " 1st Qu.: 84.58   1st Qu.: 95.5   1st Qu.:56.00   1st Qu.:36.98  \n",
       " Median : 90.95   Median : 99.3   Median :59.00   Median :38.50  \n",
       " Mean   : 92.56   Mean   : 99.9   Mean   :59.41   Mean   :38.59  \n",
       " 3rd Qu.: 99.33   3rd Qu.:103.5   3rd Qu.:62.35   3rd Qu.:39.92  \n",
       " Max.   :148.10   Max.   :147.7   Max.   :87.30   Max.   :49.10  \n",
       "     ANKLE          BICEPS         FOREARM          WRIST      \n",
       " Min.   :19.1   Min.   :24.80   Min.   :21.00   Min.   :15.80  \n",
       " 1st Qu.:22.0   1st Qu.:30.20   1st Qu.:27.30   1st Qu.:17.60  \n",
       " Median :22.8   Median :32.05   Median :28.70   Median :18.30  \n",
       " Mean   :23.1   Mean   :32.27   Mean   :28.66   Mean   :18.23  \n",
       " 3rd Qu.:24.0   3rd Qu.:34.33   3rd Qu.:30.00   3rd Qu.:18.80  \n",
       " Max.   :33.9   Max.   :45.00   Max.   :34.90   Max.   :21.40  "
      ]
     },
     "metadata": {},
     "output_type": "display_data"
    }
   ],
   "source": [
    "summary(data)"
   ]
  },
  {
   "cell_type": "markdown",
   "metadata": {},
   "source": [
    "## Data Description"
   ]
  },
  {
   "cell_type": "code",
   "execution_count": 32,
   "metadata": {},
   "outputs": [
    {
     "data": {
      "image/png": "[encoded data removed]",
      "text/plain": [
       "Plot with title \"Histogram of Adiposity\""
      ]
     },
     "metadata": {},
     "output_type": "display_data"
    }
   ],
   "source": [
    "par(mfrow=c(2,3))\n",
    "hist(data$BODYFAT,breaks = 20, \n",
    "     main = \"Histogram of Bodyfat\",xlab=\"Bodyfat %\")\n",
    "hist(data$DENSITY,breaks = 20, \n",
    "     main = \"Histogram of Density\",xlab=\"Density\")\n",
    "hist(data$AGE,breaks = 20, \n",
    "     main = \"Histogram of Age\",xlab=\"Age\")\n",
    "hist(data$WEIGHT,breaks = 20, \n",
    "     main = \"Histogram of Weight\",xlab=\"Weight\")\n",
    "hist(data$HEIGHT,breaks = 20, \n",
    "     main = \"Histogram of Height\",xlab=\"Height\")\n",
    "hist(data$ADIPOSITY,breaks = 20, \n",
    "     main = \"Histogram of Adiposity\",xlab=\"Adiposity\")"
   ]
  },
  {
   "cell_type": "markdown",
   "metadata": {},
   "source": [
    "### Check extreme points"
   ]
  },
  {
   "cell_type": "code",
   "execution_count": 33,
   "metadata": {},
   "outputs": [
    {
     "data": {
      "text/html": [
       "<table>\n",
       "<thead><tr><th></th><th scope=col>BODYFAT</th><th scope=col>DENSITY</th><th scope=col>AGE</th><th scope=col>WEIGHT</th><th scope=col>HEIGHT</th><th scope=col>ADIPOSITY</th><th scope=col>NECK</th><th scope=col>CHEST</th><th scope=col>ABDOMEN</th><th scope=col>HIP</th><th scope=col>THIGH</th><th scope=col>KNEE</th><th scope=col>ANKLE</th><th scope=col>BICEPS</th><th scope=col>FOREARM</th><th scope=col>WRIST</th></tr></thead>\n",
       "<tbody>\n",
       "\t<tr><th scope=row>182</th><td>0     </td><td>1.1089</td><td>40    </td><td>118.5 </td><td>68    </td><td>18.1  </td><td>33.8  </td><td>79.3  </td><td>69.4  </td><td>85    </td><td>47.2  </td><td>33.5  </td><td>20.2  </td><td>27.7  </td><td>24.6  </td><td>16.5  </td></tr>\n",
       "</tbody>\n",
       "</table>\n"
      ],
      "text/latex": [
       "\\begin{tabular}{r|llllllllllllllll}\n",
       "  & BODYFAT & DENSITY & AGE & WEIGHT & HEIGHT & ADIPOSITY & NECK & CHEST & ABDOMEN & HIP & THIGH & KNEE & ANKLE & BICEPS & FOREARM & WRIST\\\\\n",
       "\\hline\n",
       "\t182 & 0      & 1.1089 & 40     & 118.5  & 68     & 18.1   & 33.8   & 79.3   & 69.4   & 85     & 47.2   & 33.5   & 20.2   & 27.7   & 24.6   & 16.5  \\\\\n",
       "\\end{tabular}\n"
      ],
      "text/markdown": [
       "\n",
       "| <!--/--> | BODYFAT | DENSITY | AGE | WEIGHT | HEIGHT | ADIPOSITY | NECK | CHEST | ABDOMEN | HIP | THIGH | KNEE | ANKLE | BICEPS | FOREARM | WRIST |\n",
       "|---|---|---|---|---|---|---|---|---|---|---|---|---|---|---|---|---|\n",
       "| 182 | 0      | 1.1089 | 40     | 118.5  | 68     | 18.1   | 33.8   | 79.3   | 69.4   | 85     | 47.2   | 33.5   | 20.2   | 27.7   | 24.6   | 16.5   |\n",
       "\n"
      ],
      "text/plain": [
       "    BODYFAT DENSITY AGE WEIGHT HEIGHT ADIPOSITY NECK CHEST ABDOMEN HIP THIGH\n",
       "182 0       1.1089  40  118.5  68     18.1      33.8 79.3  69.4    85  47.2 \n",
       "    KNEE ANKLE BICEPS FOREARM WRIST\n",
       "182 33.5 20.2  27.7   24.6    16.5 "
      ]
     },
     "metadata": {},
     "output_type": "display_data"
    }
   ],
   "source": [
    "data[which(data$BODYFAT==0),] # 182. Consider drop it."
   ]
  },
  {
   "cell_type": "code",
   "execution_count": 34,
   "metadata": {},
   "outputs": [
    {
     "data": {
      "text/html": [
       "<table>\n",
       "<thead><tr><th></th><th scope=col>BODYFAT</th><th scope=col>DENSITY</th><th scope=col>AGE</th><th scope=col>WEIGHT</th><th scope=col>HEIGHT</th><th scope=col>ADIPOSITY</th><th scope=col>NECK</th><th scope=col>CHEST</th><th scope=col>ABDOMEN</th><th scope=col>HIP</th><th scope=col>THIGH</th><th scope=col>KNEE</th><th scope=col>ANKLE</th><th scope=col>BICEPS</th><th scope=col>FOREARM</th><th scope=col>WRIST</th></tr></thead>\n",
       "<tbody>\n",
       "\t<tr><th scope=row>216</th><td>45.1 </td><td>0.995</td><td>51   </td><td>219  </td><td>64   </td><td>37.6 </td><td>41.2 </td><td>119.8</td><td>122.1</td><td>112.8</td><td>62.5 </td><td>36.9 </td><td>23.6 </td><td>34.7 </td><td>29.1 </td><td>18.4 </td></tr>\n",
       "</tbody>\n",
       "</table>\n"
      ],
      "text/latex": [
       "\\begin{tabular}{r|llllllllllllllll}\n",
       "  & BODYFAT & DENSITY & AGE & WEIGHT & HEIGHT & ADIPOSITY & NECK & CHEST & ABDOMEN & HIP & THIGH & KNEE & ANKLE & BICEPS & FOREARM & WRIST\\\\\n",
       "\\hline\n",
       "\t216 & 45.1  & 0.995 & 51    & 219   & 64    & 37.6  & 41.2  & 119.8 & 122.1 & 112.8 & 62.5  & 36.9  & 23.6  & 34.7  & 29.1  & 18.4 \\\\\n",
       "\\end{tabular}\n"
      ],
      "text/markdown": [
       "\n",
       "| <!--/--> | BODYFAT | DENSITY | AGE | WEIGHT | HEIGHT | ADIPOSITY | NECK | CHEST | ABDOMEN | HIP | THIGH | KNEE | ANKLE | BICEPS | FOREARM | WRIST |\n",
       "|---|---|---|---|---|---|---|---|---|---|---|---|---|---|---|---|---|\n",
       "| 216 | 45.1  | 0.995 | 51    | 219   | 64    | 37.6  | 41.2  | 119.8 | 122.1 | 112.8 | 62.5  | 36.9  | 23.6  | 34.7  | 29.1  | 18.4  |\n",
       "\n"
      ],
      "text/plain": [
       "    BODYFAT DENSITY AGE WEIGHT HEIGHT ADIPOSITY NECK CHEST ABDOMEN HIP   THIGH\n",
       "216 45.1    0.995   51  219    64     37.6      41.2 119.8 122.1   112.8 62.5 \n",
       "    KNEE ANKLE BICEPS FOREARM WRIST\n",
       "216 36.9 23.6  34.7   29.1    18.4 "
      ]
     },
     "metadata": {},
     "output_type": "display_data"
    }
   ],
   "source": [
    "data[which(data$BODYFAT==max(BODYFAT)),] # 216"
   ]
  },
  {
   "cell_type": "code",
   "execution_count": 35,
   "metadata": {},
   "outputs": [
    {
     "data": {
      "text/html": [
       "<table>\n",
       "<thead><tr><th></th><th scope=col>BODYFAT</th><th scope=col>DENSITY</th><th scope=col>AGE</th><th scope=col>WEIGHT</th><th scope=col>HEIGHT</th><th scope=col>ADIPOSITY</th><th scope=col>NECK</th><th scope=col>CHEST</th><th scope=col>ABDOMEN</th><th scope=col>HIP</th><th scope=col>THIGH</th><th scope=col>KNEE</th><th scope=col>ANKLE</th><th scope=col>BICEPS</th><th scope=col>FOREARM</th><th scope=col>WRIST</th></tr></thead>\n",
       "<tbody>\n",
       "\t<tr><th scope=row>42</th><td>31.7 </td><td>1.025</td><td>44   </td><td>205  </td><td>29.5 </td><td>29.9 </td><td>36.6 </td><td>106  </td><td>104.3</td><td>115.5</td><td>70.6 </td><td>42.5 </td><td>23.7 </td><td>33.6 </td><td>28.7 </td><td>17.4 </td></tr>\n",
       "</tbody>\n",
       "</table>\n"
      ],
      "text/latex": [
       "\\begin{tabular}{r|llllllllllllllll}\n",
       "  & BODYFAT & DENSITY & AGE & WEIGHT & HEIGHT & ADIPOSITY & NECK & CHEST & ABDOMEN & HIP & THIGH & KNEE & ANKLE & BICEPS & FOREARM & WRIST\\\\\n",
       "\\hline\n",
       "\t42 & 31.7  & 1.025 & 44    & 205   & 29.5  & 29.9  & 36.6  & 106   & 104.3 & 115.5 & 70.6  & 42.5  & 23.7  & 33.6  & 28.7  & 17.4 \\\\\n",
       "\\end{tabular}\n"
      ],
      "text/markdown": [
       "\n",
       "| <!--/--> | BODYFAT | DENSITY | AGE | WEIGHT | HEIGHT | ADIPOSITY | NECK | CHEST | ABDOMEN | HIP | THIGH | KNEE | ANKLE | BICEPS | FOREARM | WRIST |\n",
       "|---|---|---|---|---|---|---|---|---|---|---|---|---|---|---|---|---|\n",
       "| 42 | 31.7  | 1.025 | 44    | 205   | 29.5  | 29.9  | 36.6  | 106   | 104.3 | 115.5 | 70.6  | 42.5  | 23.7  | 33.6  | 28.7  | 17.4  |\n",
       "\n"
      ],
      "text/plain": [
       "   BODYFAT DENSITY AGE WEIGHT HEIGHT ADIPOSITY NECK CHEST ABDOMEN HIP   THIGH\n",
       "42 31.7    1.025   44  205    29.5   29.9      36.6 106   104.3   115.5 70.6 \n",
       "   KNEE ANKLE BICEPS FOREARM WRIST\n",
       "42 42.5 23.7  33.6   28.7    17.4 "
      ]
     },
     "metadata": {},
     "output_type": "display_data"
    }
   ],
   "source": [
    "data[which(HEIGHT==min(HEIGHT)),] # 42, this person has extremely small heigth, 29.5in=77cm \n",
    "                                  # and relatively large weight. Consider drop it."
   ]
  },
  {
   "cell_type": "code",
   "execution_count": 36,
   "metadata": {},
   "outputs": [
    {
     "data": {
      "text/html": [
       "<table>\n",
       "<thead><tr><th></th><th scope=col>BODYFAT</th><th scope=col>DENSITY</th><th scope=col>AGE</th><th scope=col>WEIGHT</th><th scope=col>HEIGHT</th><th scope=col>ADIPOSITY</th><th scope=col>NECK</th><th scope=col>CHEST</th><th scope=col>ABDOMEN</th><th scope=col>HIP</th><th scope=col>THIGH</th><th scope=col>KNEE</th><th scope=col>ANKLE</th><th scope=col>BICEPS</th><th scope=col>FOREARM</th><th scope=col>WRIST</th></tr></thead>\n",
       "<tbody>\n",
       "\t<tr><th scope=row>39</th><td>33.8  </td><td>1.0202</td><td>46    </td><td>363.15</td><td>72.25 </td><td>48.9  </td><td>51.2  </td><td>136.2 </td><td>148.1 </td><td>147.7 </td><td>87.3  </td><td>49.1  </td><td>29.6  </td><td>45    </td><td>29    </td><td>21.4  </td></tr>\n",
       "</tbody>\n",
       "</table>\n"
      ],
      "text/latex": [
       "\\begin{tabular}{r|llllllllllllllll}\n",
       "  & BODYFAT & DENSITY & AGE & WEIGHT & HEIGHT & ADIPOSITY & NECK & CHEST & ABDOMEN & HIP & THIGH & KNEE & ANKLE & BICEPS & FOREARM & WRIST\\\\\n",
       "\\hline\n",
       "\t39 & 33.8   & 1.0202 & 46     & 363.15 & 72.25  & 48.9   & 51.2   & 136.2  & 148.1  & 147.7  & 87.3   & 49.1   & 29.6   & 45     & 29     & 21.4  \\\\\n",
       "\\end{tabular}\n"
      ],
      "text/markdown": [
       "\n",
       "| <!--/--> | BODYFAT | DENSITY | AGE | WEIGHT | HEIGHT | ADIPOSITY | NECK | CHEST | ABDOMEN | HIP | THIGH | KNEE | ANKLE | BICEPS | FOREARM | WRIST |\n",
       "|---|---|---|---|---|---|---|---|---|---|---|---|---|---|---|---|---|\n",
       "| 39 | 33.8   | 1.0202 | 46     | 363.15 | 72.25  | 48.9   | 51.2   | 136.2  | 148.1  | 147.7  | 87.3   | 49.1   | 29.6   | 45     | 29     | 21.4   |\n",
       "\n"
      ],
      "text/plain": [
       "   BODYFAT DENSITY AGE WEIGHT HEIGHT ADIPOSITY NECK CHEST ABDOMEN HIP   THIGH\n",
       "39 33.8    1.0202  46  363.15 72.25  48.9      51.2 136.2 148.1   147.7 87.3 \n",
       "   KNEE ANKLE BICEPS FOREARM WRIST\n",
       "39 49.1 29.6  45     29      21.4 "
      ]
     },
     "metadata": {},
     "output_type": "display_data"
    }
   ],
   "source": [
    "data[which(WEIGHT==max(WEIGHT)),] # 39"
   ]
  },
  {
   "cell_type": "code",
   "execution_count": 37,
   "metadata": {},
   "outputs": [
    {
     "data": {
      "text/html": [
       "<table>\n",
       "<thead><tr><th></th><th scope=col>BODYFAT</th><th scope=col>DENSITY</th><th scope=col>AGE</th><th scope=col>WEIGHT</th><th scope=col>HEIGHT</th><th scope=col>ADIPOSITY</th><th scope=col>NECK</th><th scope=col>CHEST</th><th scope=col>ABDOMEN</th><th scope=col>HIP</th><th scope=col>THIGH</th><th scope=col>KNEE</th><th scope=col>ANKLE</th><th scope=col>BICEPS</th><th scope=col>FOREARM</th><th scope=col>WRIST</th></tr></thead>\n",
       "<tbody>\n",
       "\t<tr><th scope=row>39</th><td>33.8  </td><td>1.0202</td><td>46    </td><td>363.15</td><td>72.25 </td><td>48.9  </td><td>51.2  </td><td>136.2 </td><td>148.1 </td><td>147.7 </td><td>87.3  </td><td>49.1  </td><td>29.6  </td><td>45    </td><td>29    </td><td>21.4  </td></tr>\n",
       "</tbody>\n",
       "</table>\n"
      ],
      "text/latex": [
       "\\begin{tabular}{r|llllllllllllllll}\n",
       "  & BODYFAT & DENSITY & AGE & WEIGHT & HEIGHT & ADIPOSITY & NECK & CHEST & ABDOMEN & HIP & THIGH & KNEE & ANKLE & BICEPS & FOREARM & WRIST\\\\\n",
       "\\hline\n",
       "\t39 & 33.8   & 1.0202 & 46     & 363.15 & 72.25  & 48.9   & 51.2   & 136.2  & 148.1  & 147.7  & 87.3   & 49.1   & 29.6   & 45     & 29     & 21.4  \\\\\n",
       "\\end{tabular}\n"
      ],
      "text/markdown": [
       "\n",
       "| <!--/--> | BODYFAT | DENSITY | AGE | WEIGHT | HEIGHT | ADIPOSITY | NECK | CHEST | ABDOMEN | HIP | THIGH | KNEE | ANKLE | BICEPS | FOREARM | WRIST |\n",
       "|---|---|---|---|---|---|---|---|---|---|---|---|---|---|---|---|---|\n",
       "| 39 | 33.8   | 1.0202 | 46     | 363.15 | 72.25  | 48.9   | 51.2   | 136.2  | 148.1  | 147.7  | 87.3   | 49.1   | 29.6   | 45     | 29     | 21.4   |\n",
       "\n"
      ],
      "text/plain": [
       "   BODYFAT DENSITY AGE WEIGHT HEIGHT ADIPOSITY NECK CHEST ABDOMEN HIP   THIGH\n",
       "39 33.8    1.0202  46  363.15 72.25  48.9      51.2 136.2 148.1   147.7 87.3 \n",
       "   KNEE ANKLE BICEPS FOREARM WRIST\n",
       "39 49.1 29.6  45     29      21.4 "
      ]
     },
     "metadata": {},
     "output_type": "display_data"
    }
   ],
   "source": [
    "data[which(ADIPOSITY==max(ADIPOSITY)),] # 39. This person is tooooo fat. T_T"
   ]
  },
  {
   "cell_type": "markdown",
   "metadata": {},
   "source": [
    "## Fit the full model"
   ]
  },
  {
   "cell_type": "code",
   "execution_count": 38,
   "metadata": {},
   "outputs": [
    {
     "data": {
      "text/plain": [
       "\n",
       "Call:\n",
       "lm(formula = BODYFAT ~ ., data = data)\n",
       "\n",
       "Residuals:\n",
       "    Min      1Q  Median      3Q     Max \n",
       "-7.7632 -0.3308 -0.0954  0.2078 13.9487 \n",
       "\n",
       "Coefficients:\n",
       "              Estimate Std. Error t value Pr(>|t|)    \n",
       "(Intercept)  4.190e+02  9.802e+00  42.750   <2e-16 ***\n",
       "DENSITY     -3.816e+02  7.559e+00 -50.481   <2e-16 ***\n",
       "AGE          1.078e-02  8.808e-03   1.224    0.222    \n",
       "WEIGHT       1.197e-02  1.467e-02   0.816    0.415    \n",
       "HEIGHT      -1.782e-02  3.019e-02  -0.590    0.556    \n",
       "ADIPOSITY   -5.493e-02  8.113e-02  -0.677    0.499    \n",
       "NECK        -2.062e-02  6.427e-02  -0.321    0.749    \n",
       "CHEST        2.993e-02  2.856e-02   1.048    0.296    \n",
       "ABDOMEN      2.260e-02  3.016e-02   0.749    0.454    \n",
       "HIP          1.611e-02  4.023e-02   0.401    0.689    \n",
       "THIGH        1.354e-03  3.980e-02   0.034    0.973    \n",
       "KNEE        -3.978e-02  6.705e-02  -0.593    0.554    \n",
       "ANKLE       -7.170e-02  6.073e-02  -1.181    0.239    \n",
       "BICEPS      -6.291e-02  4.688e-02  -1.342    0.181    \n",
       "FOREARM      4.324e-02  5.447e-02   0.794    0.428    \n",
       "WRIST        3.640e-02  1.480e-01   0.246    0.806    \n",
       "---\n",
       "Signif. codes:  0 '***' 0.001 '**' 0.01 '*' 0.05 '.' 0.1 ' ' 1\n",
       "\n",
       "Residual standard error: 1.166 on 236 degrees of freedom\n",
       "Multiple R-squared:  0.9787,\tAdjusted R-squared:  0.9774 \n",
       "F-statistic: 723.9 on 15 and 236 DF,  p-value: < 2.2e-16\n"
      ]
     },
     "metadata": {},
     "output_type": "display_data"
    }
   ],
   "source": [
    "model1=lm(BODYFAT ~ ., data=data)\n",
    "summary(model1)"
   ]
  },
  {
   "cell_type": "code",
   "execution_count": 39,
   "metadata": {},
   "outputs": [
    {
     "name": "stderr",
     "output_type": "stream",
     "text": [
      "Warning message in sqrt(crit * p * (1 - hh)/hh):\n",
      "\"NaNs produced\"Warning message in sqrt(crit * p * (1 - hh)/hh):\n",
      "\"NaNs produced\""
     ]
    },
    {
     "data": {
      "image/png": "[encoded data removed]",
      "text/plain": [
       "Plot with title \"\""
      ]
     },
     "metadata": {},
     "output_type": "display_data"
    }
   ],
   "source": [
    "par(mfrow=c(2,2))\n",
    "plot(model1) # 96, 48, 76 may be an outlier"
   ]
  },
  {
   "cell_type": "code",
   "execution_count": 40,
   "metadata": {},
   "outputs": [
    {
     "data": {
      "text/html": [
       "<table>\n",
       "<thead><tr><th></th><th scope=col>BODYFAT</th><th scope=col>DENSITY</th><th scope=col>AGE</th><th scope=col>WEIGHT</th><th scope=col>HEIGHT</th><th scope=col>ADIPOSITY</th><th scope=col>NECK</th><th scope=col>CHEST</th><th scope=col>ABDOMEN</th><th scope=col>HIP</th><th scope=col>THIGH</th><th scope=col>KNEE</th><th scope=col>ANKLE</th><th scope=col>BICEPS</th><th scope=col>FOREARM</th><th scope=col>WRIST</th></tr></thead>\n",
       "<tbody>\n",
       "\t<tr><th scope=row>96</th><td>17.3  </td><td>1.0991</td><td>53    </td><td>224.5 </td><td>77.75 </td><td>26.1  </td><td>41.1  </td><td>113.2 </td><td>99.2  </td><td>107.5 </td><td>61.7  </td><td>42.3  </td><td>23.2  </td><td>32.9  </td><td>30.8  </td><td>20.4  </td></tr>\n",
       "</tbody>\n",
       "</table>\n"
      ],
      "text/latex": [
       "\\begin{tabular}{r|llllllllllllllll}\n",
       "  & BODYFAT & DENSITY & AGE & WEIGHT & HEIGHT & ADIPOSITY & NECK & CHEST & ABDOMEN & HIP & THIGH & KNEE & ANKLE & BICEPS & FOREARM & WRIST\\\\\n",
       "\\hline\n",
       "\t96 & 17.3   & 1.0991 & 53     & 224.5  & 77.75  & 26.1   & 41.1   & 113.2  & 99.2   & 107.5  & 61.7   & 42.3   & 23.2   & 32.9   & 30.8   & 20.4  \\\\\n",
       "\\end{tabular}\n"
      ],
      "text/markdown": [
       "\n",
       "| <!--/--> | BODYFAT | DENSITY | AGE | WEIGHT | HEIGHT | ADIPOSITY | NECK | CHEST | ABDOMEN | HIP | THIGH | KNEE | ANKLE | BICEPS | FOREARM | WRIST |\n",
       "|---|---|---|---|---|---|---|---|---|---|---|---|---|---|---|---|---|\n",
       "| 96 | 17.3   | 1.0991 | 53     | 224.5  | 77.75  | 26.1   | 41.1   | 113.2  | 99.2   | 107.5  | 61.7   | 42.3   | 23.2   | 32.9   | 30.8   | 20.4   |\n",
       "\n"
      ],
      "text/plain": [
       "   BODYFAT DENSITY AGE WEIGHT HEIGHT ADIPOSITY NECK CHEST ABDOMEN HIP   THIGH\n",
       "96 17.3    1.0991  53  224.5  77.75  26.1      41.1 113.2 99.2    107.5 61.7 \n",
       "   KNEE ANKLE BICEPS FOREARM WRIST\n",
       "96 42.3 23.2  32.9   30.8    20.4 "
      ]
     },
     "metadata": {},
     "output_type": "display_data"
    },
    {
     "name": "stdout",
     "output_type": "stream",
     "text": [
      "[1] \"Weight summary\"\n"
     ]
    },
    {
     "data": {
      "text/plain": [
       "   Min. 1st Qu.  Median    Mean 3rd Qu.    Max. \n",
       "  118.5   159.0   176.5   178.9   197.0   363.1 "
      ]
     },
     "metadata": {},
     "output_type": "display_data"
    },
    {
     "name": "stdout",
     "output_type": "stream",
     "text": [
      "[1] \"Height summary\"\n"
     ]
    },
    {
     "data": {
      "text/plain": [
       "   Min. 1st Qu.  Median    Mean 3rd Qu.    Max. \n",
       "  29.50   68.25   70.00   70.15   72.25   77.75 "
      ]
     },
     "metadata": {},
     "output_type": "display_data"
    },
    {
     "name": "stdout",
     "output_type": "stream",
     "text": [
      "[1] \"Adiposity summary\"\n"
     ]
    },
    {
     "data": {
      "text/plain": [
       "   Min. 1st Qu.  Median    Mean 3rd Qu.    Max. \n",
       "  18.10   23.10   25.05   25.44   27.32   48.90 "
      ]
     },
     "metadata": {},
     "output_type": "display_data"
    },
    {
     "name": "stdout",
     "output_type": "stream",
     "text": [
      "[1] \"Bodyfat summary\"\n"
     ]
    },
    {
     "data": {
      "text/plain": [
       "   Min. 1st Qu.  Median    Mean 3rd Qu.    Max. \n",
       "   0.00   12.80   19.00   18.94   24.60   45.10 "
      ]
     },
     "metadata": {},
     "output_type": "display_data"
    }
   ],
   "source": [
    "## Check how 96 looks like\n",
    "data[96,]\n",
    "print(\"Weight summary\")\n",
    "summary(WEIGHT) # exceed 3rd quantile\n",
    "print(\"Height summary\")\n",
    "summary(HEIGHT) # Largest height\n",
    "print(\"Adiposity summary\")\n",
    "summary(ADIPOSITY)\n",
    "print(\"Bodyfat summary\")\n",
    "summary(BODYFAT)"
   ]
  },
  {
   "cell_type": "code",
   "execution_count": 41,
   "metadata": {},
   "outputs": [
    {
     "data": {
      "text/html": [
       "<table>\n",
       "<thead><tr><th></th><th scope=col>BODYFAT</th><th scope=col>DENSITY</th><th scope=col>AGE</th><th scope=col>WEIGHT</th><th scope=col>HEIGHT</th><th scope=col>ADIPOSITY</th><th scope=col>NECK</th><th scope=col>CHEST</th><th scope=col>ABDOMEN</th><th scope=col>HIP</th><th scope=col>THIGH</th><th scope=col>KNEE</th><th scope=col>ANKLE</th><th scope=col>BICEPS</th><th scope=col>FOREARM</th><th scope=col>WRIST</th></tr></thead>\n",
       "<tbody>\n",
       "\t<tr><th scope=row>48</th><td>6.4   </td><td>1.0665</td><td>39    </td><td>148.5 </td><td>71.25 </td><td>20.6  </td><td>34.6  </td><td>89.8  </td><td>79.5  </td><td>92.7  </td><td>52.7  </td><td>37.5  </td><td>21.9  </td><td>28.8  </td><td>26.8  </td><td>17.9  </td></tr>\n",
       "</tbody>\n",
       "</table>\n"
      ],
      "text/latex": [
       "\\begin{tabular}{r|llllllllllllllll}\n",
       "  & BODYFAT & DENSITY & AGE & WEIGHT & HEIGHT & ADIPOSITY & NECK & CHEST & ABDOMEN & HIP & THIGH & KNEE & ANKLE & BICEPS & FOREARM & WRIST\\\\\n",
       "\\hline\n",
       "\t48 & 6.4    & 1.0665 & 39     & 148.5  & 71.25  & 20.6   & 34.6   & 89.8   & 79.5   & 92.7   & 52.7   & 37.5   & 21.9   & 28.8   & 26.8   & 17.9  \\\\\n",
       "\\end{tabular}\n"
      ],
      "text/markdown": [
       "\n",
       "| <!--/--> | BODYFAT | DENSITY | AGE | WEIGHT | HEIGHT | ADIPOSITY | NECK | CHEST | ABDOMEN | HIP | THIGH | KNEE | ANKLE | BICEPS | FOREARM | WRIST |\n",
       "|---|---|---|---|---|---|---|---|---|---|---|---|---|---|---|---|---|\n",
       "| 48 | 6.4    | 1.0665 | 39     | 148.5  | 71.25  | 20.6   | 34.6   | 89.8   | 79.5   | 92.7   | 52.7   | 37.5   | 21.9   | 28.8   | 26.8   | 17.9   |\n",
       "\n"
      ],
      "text/plain": [
       "   BODYFAT DENSITY AGE WEIGHT HEIGHT ADIPOSITY NECK CHEST ABDOMEN HIP  THIGH\n",
       "48 6.4     1.0665  39  148.5  71.25  20.6      34.6 89.8  79.5    92.7 52.7 \n",
       "   KNEE ANKLE BICEPS FOREARM WRIST\n",
       "48 37.5 21.9  28.8   26.8    17.9 "
      ]
     },
     "metadata": {},
     "output_type": "display_data"
    },
    {
     "data": {
      "text/html": [
       "<table>\n",
       "<thead><tr><th></th><th scope=col>BODYFAT</th><th scope=col>DENSITY</th><th scope=col>AGE</th><th scope=col>WEIGHT</th><th scope=col>HEIGHT</th><th scope=col>ADIPOSITY</th><th scope=col>NECK</th><th scope=col>CHEST</th><th scope=col>ABDOMEN</th><th scope=col>HIP</th><th scope=col>THIGH</th><th scope=col>KNEE</th><th scope=col>ANKLE</th><th scope=col>BICEPS</th><th scope=col>FOREARM</th><th scope=col>WRIST</th></tr></thead>\n",
       "<tbody>\n",
       "\t<tr><th scope=row>76</th><td>18.3  </td><td>1.0666</td><td>61    </td><td>148.25</td><td>67.5  </td><td>22.9  </td><td>36    </td><td>91.6  </td><td>81.8  </td><td>94.8  </td><td>54.5  </td><td>37    </td><td>21.4  </td><td>29.3  </td><td>27    </td><td>18.3  </td></tr>\n",
       "</tbody>\n",
       "</table>\n"
      ],
      "text/latex": [
       "\\begin{tabular}{r|llllllllllllllll}\n",
       "  & BODYFAT & DENSITY & AGE & WEIGHT & HEIGHT & ADIPOSITY & NECK & CHEST & ABDOMEN & HIP & THIGH & KNEE & ANKLE & BICEPS & FOREARM & WRIST\\\\\n",
       "\\hline\n",
       "\t76 & 18.3   & 1.0666 & 61     & 148.25 & 67.5   & 22.9   & 36     & 91.6   & 81.8   & 94.8   & 54.5   & 37     & 21.4   & 29.3   & 27     & 18.3  \\\\\n",
       "\\end{tabular}\n"
      ],
      "text/markdown": [
       "\n",
       "| <!--/--> | BODYFAT | DENSITY | AGE | WEIGHT | HEIGHT | ADIPOSITY | NECK | CHEST | ABDOMEN | HIP | THIGH | KNEE | ANKLE | BICEPS | FOREARM | WRIST |\n",
       "|---|---|---|---|---|---|---|---|---|---|---|---|---|---|---|---|---|\n",
       "| 76 | 18.3   | 1.0666 | 61     | 148.25 | 67.5   | 22.9   | 36     | 91.6   | 81.8   | 94.8   | 54.5   | 37     | 21.4   | 29.3   | 27     | 18.3   |\n",
       "\n"
      ],
      "text/plain": [
       "   BODYFAT DENSITY AGE WEIGHT HEIGHT ADIPOSITY NECK CHEST ABDOMEN HIP  THIGH\n",
       "76 18.3    1.0666  61  148.25 67.5   22.9      36   91.6  81.8    94.8 54.5 \n",
       "   KNEE ANKLE BICEPS FOREARM WRIST\n",
       "76 37   21.4  29.3   27      18.3 "
      ]
     },
     "metadata": {},
     "output_type": "display_data"
    }
   ],
   "source": [
    "## Check how 48 looks like\n",
    "data[48,] # extremely small bodyfat; other measurements like neck, chest, hip, etc. are normal \n",
    "          # so it is impossible to have such a small bodyfat. Consider drop it.\n",
    "data[76,] # seems normal"
   ]
  },
  {
   "cell_type": "code",
   "execution_count": 42,
   "metadata": {},
   "outputs": [],
   "source": [
    "## Drop three points.\n",
    "data=data[-c(42,48,182),]"
   ]
  },
  {
   "cell_type": "markdown",
   "metadata": {},
   "source": [
    "## Variable Selection"
   ]
  },
  {
   "cell_type": "code",
   "execution_count": 43,
   "metadata": {},
   "outputs": [
    {
     "data": {
      "image/png": "[encoded data removed]",
      "text/plain": [
       "Plot with title \"\""
      ]
     },
     "metadata": {},
     "output_type": "display_data"
    }
   ],
   "source": [
    "model = lm(BODYFAT~.,data=data)\n",
    "par(mfrow = c(2,2))\n",
    "plot(model)"
   ]
  },
  {
   "cell_type": "markdown",
   "metadata": {},
   "source": [
    "## Mallow's Cp"
   ]
  },
  {
   "cell_type": "code",
   "execution_count": 44,
   "metadata": {},
   "outputs": [
    {
     "data": {
      "image/png": "[encoded data removed]",
      "text/plain": [
       "plot without title"
      ]
     },
     "metadata": {},
     "output_type": "display_data"
    }
   ],
   "source": [
    "# install.packages(\"leaps\")\n",
    "# library(leaps) # for leaps()\n",
    "# install.packages(\"faraway\")\n",
    "# library(faraway) # for Cpplot()\n",
    "\n",
    "layout(matrix(1:1,ncol=1))\n",
    "X = model.matrix(model)[,-1]\n",
    "Y = data[,1]\n",
    "g = leaps::leaps(X,Y,nbest=1)\n",
    "Cpplot(g) # Include all variable."
   ]
  },
  {
   "cell_type": "markdown",
   "metadata": {},
   "source": [
    "## R squared"
   ]
  },
  {
   "cell_type": "code",
   "execution_count": 45,
   "metadata": {},
   "outputs": [
    {
     "data": {
      "text/html": [
       "<dl class=dl-horizontal>\n",
       "\t<dt>1</dt>\n",
       "\t\t<dd>TRUE</dd>\n",
       "\t<dt>2</dt>\n",
       "\t\t<dd>TRUE</dd>\n",
       "\t<dt>3</dt>\n",
       "\t\t<dd>TRUE</dd>\n",
       "\t<dt>4</dt>\n",
       "\t\t<dd>FALSE</dd>\n",
       "\t<dt>5</dt>\n",
       "\t\t<dd>FALSE</dd>\n",
       "\t<dt>6</dt>\n",
       "\t\t<dd>FALSE</dd>\n",
       "\t<dt>7</dt>\n",
       "\t\t<dd>TRUE</dd>\n",
       "\t<dt>8</dt>\n",
       "\t\t<dd>FALSE</dd>\n",
       "\t<dt>9</dt>\n",
       "\t\t<dd>FALSE</dd>\n",
       "\t<dt>A</dt>\n",
       "\t\t<dd>FALSE</dd>\n",
       "\t<dt>B</dt>\n",
       "\t\t<dd>FALSE</dd>\n",
       "\t<dt>C</dt>\n",
       "\t\t<dd>TRUE</dd>\n",
       "\t<dt>D</dt>\n",
       "\t\t<dd>TRUE</dd>\n",
       "\t<dt>E</dt>\n",
       "\t\t<dd>FALSE</dd>\n",
       "\t<dt>F</dt>\n",
       "\t\t<dd>TRUE</dd>\n",
       "</dl>\n"
      ],
      "text/latex": [
       "\\begin{description*}\n",
       "\\item[1] TRUE\n",
       "\\item[2] TRUE\n",
       "\\item[3] TRUE\n",
       "\\item[4] FALSE\n",
       "\\item[5] FALSE\n",
       "\\item[6] FALSE\n",
       "\\item[7] TRUE\n",
       "\\item[8] FALSE\n",
       "\\item[9] FALSE\n",
       "\\item[A] FALSE\n",
       "\\item[B] FALSE\n",
       "\\item[C] TRUE\n",
       "\\item[D] TRUE\n",
       "\\item[E] FALSE\n",
       "\\item[F] TRUE\n",
       "\\end{description*}\n"
      ],
      "text/markdown": [
       "1\n",
       ":   TRUE2\n",
       ":   TRUE3\n",
       ":   TRUE4\n",
       ":   FALSE5\n",
       ":   FALSE6\n",
       ":   FALSE7\n",
       ":   TRUE8\n",
       ":   FALSE9\n",
       ":   FALSEA\n",
       ":   FALSEB\n",
       ":   FALSEC\n",
       ":   TRUED\n",
       ":   TRUEE\n",
       ":   FALSEF\n",
       ":   TRUE\n",
       "\n"
      ],
      "text/plain": [
       "    1     2     3     4     5     6     7     8     9     A     B     C     D \n",
       " TRUE  TRUE  TRUE FALSE FALSE FALSE  TRUE FALSE FALSE FALSE FALSE  TRUE  TRUE \n",
       "    E     F \n",
       "FALSE  TRUE "
      ]
     },
     "metadata": {},
     "output_type": "display_data"
    },
    {
     "data": {
      "image/png": "[encoded data removed]",
      "text/plain": [
       "plot without title"
      ]
     },
     "metadata": {},
     "output_type": "display_data"
    }
   ],
   "source": [
    "r = leaps::leaps(X,Y,nbest=1, method=\"adjr2\")\n",
    "plot(r$adjr2)\n",
    "(r$which)[which(r$adjr2 == max(r$adjr2)),] # 1,2,3,7,12,13"
   ]
  }
 ],
 "metadata": {
  "kernelspec": {
   "display_name": "R",
   "language": "R",
   "name": "ir"
  },
  "language_info": {
   "codemirror_mode": "r",
   "file_extension": ".r",
   "mimetype": "text/x-r-source",
   "name": "R",
   "pygments_lexer": "r",
   "version": "3.6.1"
  }
 },
 "nbformat": 4,
 "nbformat_minor": 2
}
